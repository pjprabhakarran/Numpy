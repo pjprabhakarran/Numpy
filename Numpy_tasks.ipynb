{
  "cells": [
    {
      "cell_type": "markdown",
      "metadata": {
        "id": "FMXnYXmPc30C"
      },
      "source": [
        "# Numpy\n",
        "\n"
      ]
    },
    {
      "cell_type": "markdown",
      "metadata": {
        "id": "1DiLmiE2c30M"
      },
      "source": [
        "#### 1. Import the numpy package under the name `np` (★☆☆) \n",
        "(**hint**: import … as …)"
      ]
    },
    {
      "cell_type": "code",
      "execution_count": 55,
      "metadata": {
        "collapsed": true,
        "id": "lZccsbOgc30N"
      },
      "outputs": [],
      "source": [
        "import numpy as np"
      ]
    },
    {
      "cell_type": "markdown",
      "metadata": {
        "id": "eLHrodjZc30O"
      },
      "source": [
        "#### 2. Print the numpy version and the configuration (★☆☆) \n",
        "(**hint**: np.\\_\\_version\\_\\_, np.show\\_config)"
      ]
    },
    {
      "cell_type": "code",
      "execution_count": 56,
      "metadata": {
        "id": "8sFLriaFc30P",
        "colab": {
          "base_uri": "https://localhost:8080/"
        },
        "outputId": "c3586fca-a5c8-48b1-d06a-84a42d1642f1"
      },
      "outputs": [
        {
          "output_type": "stream",
          "name": "stdout",
          "text": [
            "1.21.6\n"
          ]
        }
      ],
      "source": [
        "print(np.__version__)"
      ]
    },
    {
      "cell_type": "markdown",
      "metadata": {
        "id": "L5odCWyGc30P"
      },
      "source": [
        "#### 3. Create a null vector of size 10 (★☆☆) \n",
        "(**hint**: np.zeros)"
      ]
    },
    {
      "cell_type": "code",
      "execution_count": 57,
      "metadata": {
        "id": "-dqHsfGlc30Q",
        "colab": {
          "base_uri": "https://localhost:8080/"
        },
        "outputId": "dd1e40d5-42e1-48a8-a5a0-d91ad74fa904"
      },
      "outputs": [
        {
          "output_type": "stream",
          "name": "stdout",
          "text": [
            "[0. 0. 0. 0. 0. 0. 0. 0. 0. 0.]\n"
          ]
        }
      ],
      "source": [
        "vec = np.zeros(10)\n",
        "print(vec)"
      ]
    },
    {
      "cell_type": "markdown",
      "metadata": {
        "id": "flg4c1qkc30R"
      },
      "source": [
        "#### 4.  How to find the memory size of any array (★☆☆) \n",
        "(**hint**: size, itemsize)"
      ]
    },
    {
      "cell_type": "code",
      "execution_count": 58,
      "metadata": {
        "id": "-0Bu6xXsc30R",
        "colab": {
          "base_uri": "https://localhost:8080/"
        },
        "outputId": "fe391502-65a9-4eb5-8b66-68f9cdbda1b6"
      },
      "outputs": [
        {
          "output_type": "stream",
          "name": "stdout",
          "text": [
            "10\n"
          ]
        },
        {
          "output_type": "execute_result",
          "data": {
            "text/plain": [
              "8"
            ]
          },
          "metadata": {},
          "execution_count": 58
        }
      ],
      "source": [
        "print(vec.size)\n",
        "vec.itemsize"
      ]
    },
    {
      "cell_type": "markdown",
      "metadata": {
        "id": "FcQnfsPuc30S"
      },
      "source": [
        "#### 5.  How to get the documentation of the numpy add function from the command line? (★☆☆) \n",
        "(**hint**: np.info)"
      ]
    },
    {
      "cell_type": "code",
      "execution_count": 59,
      "metadata": {
        "collapsed": true,
        "id": "g1tj-vDcc30S",
        "colab": {
          "base_uri": "https://localhost:8080/"
        },
        "outputId": "aae36483-0d07-4fd6-d8e9-819b6838986a"
      },
      "outputs": [
        {
          "output_type": "stream",
          "name": "stdout",
          "text": [
            "     *** Found in numpy ***\n",
            "add(x1, x2, /, out=None, *, where=True, casting='same_kind', order='K', dtype=None, subok=True[, signature, extobj])\n",
            "\n",
            "Add arguments element-wise.\n",
            "\n",
            "Parameters\n",
            "----------\n",
            "x1, x2 : array_like\n",
            "    The arrays to be added.\n",
            "    If ``x1.shape != x2.shape``, they must be broadcastable to a common\n",
            "    shape (which becomes the shape of the output).\n",
            "out : ndarray, None, or tuple of ndarray and None, optional\n",
            "    A location into which the result is stored. If provided, it must have\n",
            "    a shape that the inputs broadcast to. If not provided or None,\n",
            "    a freshly-allocated array is returned. A tuple (possible only as a\n",
            "    keyword argument) must have length equal to the number of outputs.\n",
            "where : array_like, optional\n",
            "    This condition is broadcast over the input. At locations where the\n",
            "    condition is True, the `out` array will be set to the ufunc result.\n",
            "    Elsewhere, the `out` array will retain its original value.\n",
            "    Note that if an uninitialized `out` array is created via the default\n",
            "    ``out=None``, locations within it where the condition is False will\n",
            "    remain uninitialized.\n",
            "**kwargs\n",
            "    For other keyword-only arguments, see the\n",
            "    :ref:`ufunc docs <ufuncs.kwargs>`.\n",
            "\n",
            "Returns\n",
            "-------\n",
            "add : ndarray or scalar\n",
            "    The sum of `x1` and `x2`, element-wise.\n",
            "    This is a scalar if both `x1` and `x2` are scalars.\n",
            "\n",
            "Notes\n",
            "-----\n",
            "Equivalent to `x1` + `x2` in terms of array broadcasting.\n",
            "\n",
            "Examples\n",
            "--------\n",
            ">>> np.add(1.0, 4.0)\n",
            "5.0\n",
            ">>> x1 = np.arange(9.0).reshape((3, 3))\n",
            ">>> x2 = np.arange(3.0)\n",
            ">>> np.add(x1, x2)\n",
            "array([[  0.,   2.,   4.],\n",
            "       [  3.,   5.,   7.],\n",
            "       [  6.,   8.,  10.]])\n",
            "\n",
            "The ``+`` operator can be used as a shorthand for ``np.add`` on ndarrays.\n",
            "\n",
            ">>> x1 = np.arange(9.0).reshape((3, 3))\n",
            ">>> x2 = np.arange(3.0)\n",
            ">>> x1 + x2\n",
            "array([[ 0.,  2.,  4.],\n",
            "       [ 3.,  5.,  7.],\n",
            "       [ 6.,  8., 10.]])\n",
            "----------------------------------------------------------------------------\n",
            "\n",
            "     *** Repeat reference found in numpy.core *** \n",
            "     *** Found in numpy.core.defchararray ***\n",
            " add(x1, x2)\n",
            "\n",
            "Return element-wise string concatenation for two arrays of str or unicode.\n",
            "\n",
            "Arrays `x1` and `x2` must have the same shape.\n",
            "\n",
            "Parameters\n",
            "----------\n",
            "x1 : array_like of str or unicode\n",
            "    Input array.\n",
            "x2 : array_like of str or unicode\n",
            "    Input array.\n",
            "\n",
            "Returns\n",
            "-------\n",
            "add : ndarray\n",
            "    Output array of `string_` or `unicode_`, depending on input types\n",
            "    of the same shape as `x1` and `x2`.\n",
            "----------------------------------------------------------------------------\n",
            "     *** Found in numpy.ma ***\n",
            "add(x1, x2, /, out=None, *, where=True, casting='same_kind', order='K', dtype=None, subok=True[, signature, extobj])\n",
            "\n",
            "Add arguments element-wise.\n",
            "\n",
            "Parameters\n",
            "----------\n",
            "x1, x2 : array_like\n",
            "    The arrays to be added.\n",
            "    If ``x1.shape != x2.shape``, they must be broadcastable to a common\n",
            "    shape (which becomes the shape of the output).\n",
            "out : ndarray, None, or tuple of ndarray and None, optional\n",
            "    A location into which the result is stored. If provided, it must have\n",
            "    a shape that the inputs broadcast to. If not provided or None,\n",
            "    a freshly-allocated array is returned. A tuple (possible only as a\n",
            "    keyword argument) must have length equal to the number of outputs.\n",
            "where : array_like, optional\n",
            "    This condition is broadcast over the input. At locations where the\n",
            "    condition is True, the `out` array will be set to the ufunc result.\n",
            "    Elsewhere, the `out` array will retain its original value.\n",
            "    Note that if an uninitialized `out` array is created via the default\n",
            "    ``out=None``, locations within it where the condition is False will\n",
            "    remain uninitialized.\n",
            "**kwargs\n",
            "    For other keyword-only arguments, see the\n",
            "    :ref:`ufunc docs <ufuncs.kwargs>`.\n",
            "\n",
            "Returns\n",
            "-------\n",
            "add : ndarray or scalar\n",
            "    The sum of `x1` and `x2`, element-wise.\n",
            "    This is a scalar if both `x1` and `x2` are scalars.\n",
            "\n",
            "Notes\n",
            "-----\n",
            "Equivalent to `x1` + `x2` in terms of array broadcasting.\n",
            "\n",
            "Examples\n",
            "--------\n",
            ">>> np.add(1.0, 4.0)\n",
            "5.0\n",
            ">>> x1 = np.arange(9.0).reshape((3, 3))\n",
            ">>> x2 = np.arange(3.0)\n",
            ">>> np.add(x1, x2)\n",
            "array([[  0.,   2.,   4.],\n",
            "       [  3.,   5.,   7.],\n",
            "       [  6.,   8.,  10.]])\n",
            "\n",
            "The ``+`` operator can be used as a shorthand for ``np.add`` on ndarrays.\n",
            "\n",
            ">>> x1 = np.arange(9.0).reshape((3, 3))\n",
            ">>> x2 = np.arange(3.0)\n",
            ">>> x1 + x2\n",
            "array([[ 0.,  2.,  4.],\n",
            "       [ 3.,  5.,  7.],\n",
            "       [ 6.,  8., 10.]])\n",
            "----------------------------------------------------------------------------\n",
            "\n",
            "     *** Repeat reference found in numpy.core._multiarray_umath *** \n",
            "\n",
            "     *** Repeat reference found in numpy.core.multiarray *** \n",
            "\n",
            "     *** Repeat reference found in numpy.core.umath *** \n",
            "\n",
            "     *** Repeat reference found in numpy.core.numeric *** \n",
            "\n",
            "     *** Repeat reference found in numpy.linalg.linalg *** \n",
            "\n",
            "     *** Repeat reference found in numpy.lib.function_base *** \n",
            "\n",
            "     *** Repeat reference found in numpy.ma.core *** \n",
            "\n",
            "     *** Repeat reference found in numpy.ma.extras *** \n",
            "     *** Found in operator ***\n",
            "Same as a + b.\n",
            "----------------------------------------------------------------------------\n",
            "\n",
            "     *** Total of 13 references found. ***\n"
          ]
        }
      ],
      "source": [
        "np.info('add')"
      ]
    },
    {
      "cell_type": "markdown",
      "metadata": {
        "id": "cUXmPssuc30S"
      },
      "source": [
        "#### 6.  Create a null vector of size 10 but the fifth value which is 1 (★☆☆) \n",
        "(**hint**: array\\[4\\])"
      ]
    },
    {
      "cell_type": "code",
      "execution_count": 60,
      "metadata": {
        "id": "UfKgF7Ydc30T",
        "colab": {
          "base_uri": "https://localhost:8080/"
        },
        "outputId": "602fd0ba-a63d-4430-cb98-78eed9f5ac94"
      },
      "outputs": [
        {
          "output_type": "stream",
          "name": "stdout",
          "text": [
            "[0. 0. 0. 0. 1. 0. 0. 0. 0. 0.]\n"
          ]
        }
      ],
      "source": [
        "x = np.zeros(10)\n",
        "x[4] = 1\n",
        "print(x)"
      ]
    },
    {
      "cell_type": "markdown",
      "metadata": {
        "id": "SxXinzBUc30T"
      },
      "source": [
        "#### 7.  Create a vector with values ranging from 10 to 49 (★☆☆) \n",
        "(**hint**: np.arange)"
      ]
    },
    {
      "cell_type": "code",
      "execution_count": 61,
      "metadata": {
        "id": "OTNoT-_uc30T",
        "colab": {
          "base_uri": "https://localhost:8080/"
        },
        "outputId": "872310d4-3c81-4a86-9d02-b6a6de62463a"
      },
      "outputs": [
        {
          "output_type": "stream",
          "name": "stdout",
          "text": [
            "[10 11 12 13 14 15 16 17 18 19 20 21 22 23 24 25 26 27 28 29 30 31 32 33\n",
            " 34 35 36 37 38 39 40 41 42 43 44 45 46 47 48 49]\n"
          ]
        }
      ],
      "source": [
        "x = np.arange(10,50)\n",
        "print(x)"
      ]
    },
    {
      "cell_type": "markdown",
      "metadata": {
        "id": "PMpGY_iqc30U"
      },
      "source": [
        "#### 8.  Reverse a vector (first element becomes last) (★☆☆) \n",
        "(**hint**: array\\[::-1\\])"
      ]
    },
    {
      "cell_type": "code",
      "execution_count": 62,
      "metadata": {
        "id": "pcatjIGlc30U",
        "colab": {
          "base_uri": "https://localhost:8080/"
        },
        "outputId": "d5a8848b-6a83-4425-ebed-d5d4d15cdf28"
      },
      "outputs": [
        {
          "output_type": "stream",
          "name": "stdout",
          "text": [
            "[10  9  8  7  6  5  4  3  2  1]\n"
          ]
        }
      ],
      "source": [
        "x = np.arange(1,11)\n",
        "print(x[::-1])"
      ]
    },
    {
      "cell_type": "markdown",
      "metadata": {
        "id": "RxMSKiBuc30U"
      },
      "source": [
        "#### 9.  Create a 3x3 matrix with values ranging from 0 to 8 (★☆☆) \n",
        "(**hint**: reshape)"
      ]
    },
    {
      "cell_type": "code",
      "execution_count": 63,
      "metadata": {
        "id": "2q3yRqMac30U",
        "colab": {
          "base_uri": "https://localhost:8080/"
        },
        "outputId": "a6edcb97-912e-470b-b45b-7c04ffdd4fee"
      },
      "outputs": [
        {
          "output_type": "stream",
          "name": "stdout",
          "text": [
            "[[0 1 2]\n",
            " [3 4 5]\n",
            " [6 7 8]]\n"
          ]
        }
      ],
      "source": [
        "y = np.arange(0,9).reshape(3,3)\n",
        "print(y)"
      ]
    },
    {
      "cell_type": "markdown",
      "metadata": {
        "id": "goZAaXGOc30V"
      },
      "source": [
        "#### 10. Find indices of non-zero elements from \\[1,2,0,0,4,0\\] (★☆☆) \n",
        "(**hint**: np.nonzero)"
      ]
    },
    {
      "cell_type": "code",
      "execution_count": 64,
      "metadata": {
        "id": "XzuDbPNnc30V",
        "colab": {
          "base_uri": "https://localhost:8080/"
        },
        "outputId": "bf4884c6-53fe-4cf8-87d3-1849a6f07b5d"
      },
      "outputs": [
        {
          "output_type": "execute_result",
          "data": {
            "text/plain": [
              "(array([0, 1, 4]),)"
            ]
          },
          "metadata": {},
          "execution_count": 64
        }
      ],
      "source": [
        "x = [1,2,0,0,4,0]\n",
        "np.nonzero(x)"
      ]
    },
    {
      "cell_type": "markdown",
      "metadata": {
        "id": "L1gA8JDSc30V"
      },
      "source": [
        "#### 11. Create a 3x3 identity matrix (★☆☆) \n",
        "(**hint**: np.eye)"
      ]
    },
    {
      "cell_type": "code",
      "execution_count": 65,
      "metadata": {
        "id": "oYlCbrK5c30V",
        "colab": {
          "base_uri": "https://localhost:8080/"
        },
        "outputId": "112d62ee-11a1-4341-9046-a51636218532"
      },
      "outputs": [
        {
          "output_type": "stream",
          "name": "stdout",
          "text": [
            "[[1. 0. 0.]\n",
            " [0. 1. 0.]\n",
            " [0. 0. 1.]]\n"
          ]
        }
      ],
      "source": [
        "x = np.eye(3,3)\n",
        "print(x)"
      ]
    },
    {
      "cell_type": "markdown",
      "metadata": {
        "id": "NiiUkgkYc30V"
      },
      "source": [
        "#### 12. Create a 3x3x3 array with random values (★☆☆) \n",
        "(**hint**: np.random.random)"
      ]
    },
    {
      "cell_type": "code",
      "execution_count": 66,
      "metadata": {
        "collapsed": true,
        "id": "p0MDggZzc30V",
        "colab": {
          "base_uri": "https://localhost:8080/"
        },
        "outputId": "a2c7c33b-98a5-48f1-9093-2931d316e2c3"
      },
      "outputs": [
        {
          "output_type": "execute_result",
          "data": {
            "text/plain": [
              "array([[[0.73074667, 0.06715682, 0.6016972 ],\n",
              "        [0.89703876, 0.06618231, 0.20708075],\n",
              "        [0.2114969 , 0.70742828, 0.94101355]],\n",
              "\n",
              "       [[0.7648282 , 0.20618102, 0.28687262],\n",
              "        [0.66646734, 0.86375099, 0.14231444],\n",
              "        [0.9453261 , 0.02821855, 0.1421529 ]],\n",
              "\n",
              "       [[0.48507957, 0.97034168, 0.46604987],\n",
              "        [0.27281922, 0.27577739, 0.46805369],\n",
              "        [0.72789199, 0.09797474, 0.16747627]]])"
            ]
          },
          "metadata": {},
          "execution_count": 66
        }
      ],
      "source": [
        "np.random.random((3,3,3))"
      ]
    },
    {
      "cell_type": "markdown",
      "metadata": {
        "id": "bkSbKjroc30V"
      },
      "source": [
        "#### 13. Create a 10x10 array with random values and find the minimum and maximum values (★☆☆) \n",
        "(**hint**: min, max)"
      ]
    },
    {
      "cell_type": "code",
      "execution_count": 67,
      "metadata": {
        "id": "Rt19lpoWc30W",
        "colab": {
          "base_uri": "https://localhost:8080/"
        },
        "outputId": "38a23958-8fda-44d6-a61c-fc399ef95f42"
      },
      "outputs": [
        {
          "output_type": "stream",
          "name": "stdout",
          "text": [
            "4 99\n"
          ]
        }
      ],
      "source": [
        "x = np.random.randint(100,size=[10,10])\n",
        "print(np.min(x),np.max(x))"
      ]
    },
    {
      "cell_type": "markdown",
      "metadata": {
        "id": "x8zSrTOJc30W"
      },
      "source": [
        "#### 14. Create a random vector of size 30 and find the mean value (★☆☆) \n",
        "(**hint**: mean)"
      ]
    },
    {
      "cell_type": "code",
      "execution_count": 68,
      "metadata": {
        "id": "pnw1sF7nc30X",
        "colab": {
          "base_uri": "https://localhost:8080/"
        },
        "outputId": "de3d5561-d57d-4e9e-d7b7-aa92a07c54e6"
      },
      "outputs": [
        {
          "output_type": "execute_result",
          "data": {
            "text/plain": [
              "9.0"
            ]
          },
          "metadata": {},
          "execution_count": 68
        }
      ],
      "source": [
        "x = np.random.randint(30)\n",
        "np.mean(x)"
      ]
    },
    {
      "cell_type": "markdown",
      "metadata": {
        "id": "RXBCNaF7c30X"
      },
      "source": [
        "#### 15. Create a 2d array with 1 on the border and 0 inside (★☆☆) \n",
        "(**hint**: array\\[1:-1, 1:-1\\])"
      ]
    },
    {
      "cell_type": "code",
      "execution_count": 69,
      "metadata": {
        "id": "aoxXn6wbc30X",
        "colab": {
          "base_uri": "https://localhost:8080/"
        },
        "outputId": "ee825853-feab-4f0b-e982-14b0d233497d"
      },
      "outputs": [
        {
          "output_type": "stream",
          "name": "stdout",
          "text": [
            "[[1. 1. 1. 1. 1.]\n",
            " [1. 0. 0. 0. 1.]\n",
            " [1. 0. 0. 0. 1.]\n",
            " [1. 0. 0. 0. 1.]\n",
            " [1. 1. 1. 1. 1.]]\n"
          ]
        }
      ],
      "source": [
        "x2 = np.ones((5,5))\n",
        "x2[1:-1,1:-1] = 0\n",
        "print(x2)"
      ]
    },
    {
      "cell_type": "markdown",
      "metadata": {
        "id": "Pt15x0ZUc30Y"
      },
      "source": [
        "#### 16. How to add a border (filled with 0's) around an existing array? (★☆☆) \n",
        "(**hint**: np.pad)"
      ]
    },
    {
      "cell_type": "code",
      "execution_count": 70,
      "metadata": {
        "id": "nqhwIeG9c30Y",
        "colab": {
          "base_uri": "https://localhost:8080/"
        },
        "outputId": "6be30878-d6ec-4dcc-8c8a-0d957ee5e43c"
      },
      "outputs": [
        {
          "output_type": "execute_result",
          "data": {
            "text/plain": [
              "array([[0., 0., 0., 0., 0., 0., 0.],\n",
              "       [0., 1., 1., 1., 1., 1., 0.],\n",
              "       [0., 1., 0., 0., 0., 1., 0.],\n",
              "       [0., 1., 0., 0., 0., 1., 0.],\n",
              "       [0., 1., 0., 0., 0., 1., 0.],\n",
              "       [0., 1., 1., 1., 1., 1., 0.],\n",
              "       [0., 0., 0., 0., 0., 0., 0.]])"
            ]
          },
          "metadata": {},
          "execution_count": 70
        }
      ],
      "source": [
        "np.pad(x2,((1,1),(1,1)),'constant')"
      ]
    },
    {
      "cell_type": "markdown",
      "metadata": {
        "id": "Ayp7_p6mc30Y"
      },
      "source": [
        "#### 17. What is the result of the following expression? (★☆☆) \n",
        "(**hint**: NaN = not a number, inf = infinity)"
      ]
    },
    {
      "cell_type": "markdown",
      "metadata": {
        "id": "OEmbOkfmc30Y"
      },
      "source": [
        "```python\n",
        "0 * np.nan\n",
        "np.nan == np.nan\n",
        "np.inf > np.nan\n",
        "np.nan - np.nan\n",
        "0.3 == 3 * 0.1\n",
        "```"
      ]
    },
    {
      "cell_type": "code",
      "execution_count": 71,
      "metadata": {
        "id": "8riGHuCwc30Y",
        "colab": {
          "base_uri": "https://localhost:8080/"
        },
        "outputId": "52ffa725-5783-4263-b2f4-75a32ad46772"
      },
      "outputs": [
        {
          "output_type": "execute_result",
          "data": {
            "text/plain": [
              "False"
            ]
          },
          "metadata": {},
          "execution_count": 71
        }
      ],
      "source": [
        "0 * np.nan\n",
        "np.nan == np.nan\n",
        "np.inf > np.nan\n",
        "np.nan - np.nan\n",
        "0.3 == 3 * 0.1"
      ]
    },
    {
      "cell_type": "markdown",
      "metadata": {
        "id": "DbF8h8qNc30Y"
      },
      "source": [
        "#### 18. Create a 5x5 matrix with values 1,2,3,4 just below the diagonal (★☆☆) \n",
        "(**hint**: np.diag)"
      ]
    },
    {
      "cell_type": "code",
      "execution_count": 72,
      "metadata": {
        "id": "zo0ndrT4c30Z",
        "colab": {
          "base_uri": "https://localhost:8080/"
        },
        "outputId": "0497be43-762a-4aa5-aca6-866b472057a9"
      },
      "outputs": [
        {
          "output_type": "execute_result",
          "data": {
            "text/plain": [
              "array([[0, 0, 0, 0, 0],\n",
              "       [1, 0, 0, 0, 0],\n",
              "       [0, 2, 0, 0, 0],\n",
              "       [0, 0, 3, 0, 0],\n",
              "       [0, 0, 0, 4, 0]])"
            ]
          },
          "metadata": {},
          "execution_count": 72
        }
      ],
      "source": [
        "np.diag([1,2,3,4],k=-1)"
      ]
    },
    {
      "cell_type": "markdown",
      "metadata": {
        "id": "-PKfBuQVc30Z"
      },
      "source": [
        "#### 19. Create a 8x8 matrix and fill it with a checkerboard pattern (★☆☆) \n",
        "(**hint**: array\\[::2\\])"
      ]
    },
    {
      "cell_type": "code",
      "execution_count": 73,
      "metadata": {
        "id": "DugVCT8hc30Z",
        "colab": {
          "base_uri": "https://localhost:8080/"
        },
        "outputId": "196b9408-8d8d-4180-fd09-42579447cd1a"
      },
      "outputs": [
        {
          "output_type": "stream",
          "name": "stdout",
          "text": [
            "Checkerboard pattern:\n",
            "[[0 1 0 1 0 1 0 1]\n",
            " [1 0 1 0 1 0 1 0]\n",
            " [0 1 0 1 0 1 0 1]\n",
            " [1 0 1 0 1 0 1 0]\n",
            " [0 1 0 1 0 1 0 1]\n",
            " [1 0 1 0 1 0 1 0]\n",
            " [0 1 0 1 0 1 0 1]\n",
            " [1 0 1 0 1 0 1 0]]\n"
          ]
        }
      ],
      "source": [
        "x = np.ones((3,3))\n",
        "print(\"Checkerboard pattern:\")\n",
        "x = np.zeros((8,8),dtype=int)\n",
        "x[1::2,::2] = 1\n",
        "x[::2,1::2] = 1\n",
        "print(x)"
      ]
    },
    {
      "cell_type": "markdown",
      "metadata": {
        "id": "Jty_COjXc30Z"
      },
      "source": [
        "#### 20. Consider a (6,7,8) shape array, what is the index (x,y,z) of the 100th element? \n",
        "(**hint**: np.unravel_index)"
      ]
    },
    {
      "cell_type": "code",
      "execution_count": 74,
      "metadata": {
        "id": "NIBpwObXc30Z",
        "colab": {
          "base_uri": "https://localhost:8080/"
        },
        "outputId": "f31853ed-d040-4f39-e3b5-48ceb2d981a8"
      },
      "outputs": [
        {
          "output_type": "execute_result",
          "data": {
            "text/plain": [
              "(1, 5, 4)"
            ]
          },
          "metadata": {},
          "execution_count": 74
        }
      ],
      "source": [
        "\n",
        "np.unravel_index(100,(6,7,8))"
      ]
    },
    {
      "cell_type": "markdown",
      "metadata": {
        "id": "iIOsHSLic30a"
      },
      "source": [
        "#### 21. Create a checkerboard 8x8 matrix using the tile function (★☆☆) \n",
        "(**hint**: np.tile)"
      ]
    },
    {
      "cell_type": "code",
      "execution_count": 75,
      "metadata": {
        "id": "C3IGncbLc30a",
        "colab": {
          "base_uri": "https://localhost:8080/"
        },
        "outputId": "499238e4-9469-4d19-b1f7-7ec2a25dbddc"
      },
      "outputs": [
        {
          "output_type": "execute_result",
          "data": {
            "text/plain": [
              "array([[0, 1, 0, 1, 0, 1, 0, 1],\n",
              "       [2, 3, 2, 3, 2, 3, 2, 3],\n",
              "       [0, 1, 0, 1, 0, 1, 0, 1],\n",
              "       [2, 3, 2, 3, 2, 3, 2, 3],\n",
              "       [0, 1, 0, 1, 0, 1, 0, 1],\n",
              "       [2, 3, 2, 3, 2, 3, 2, 3],\n",
              "       [0, 1, 0, 1, 0, 1, 0, 1],\n",
              "       [2, 3, 2, 3, 2, 3, 2, 3]])"
            ]
          },
          "metadata": {},
          "execution_count": 75
        }
      ],
      "source": [
        "arr = np.arange(4).reshape(2, 2)\n",
        "rep = (4,4)\n",
        "np.tile(arr,rep)"
      ]
    },
    {
      "cell_type": "markdown",
      "metadata": {
        "id": "xnvwIZ2Tc30a"
      },
      "source": [
        "#### 22. Normalize a 5x5 random matrix (★☆☆) \n",
        "(**hint**: (x - min) / (max - min))"
      ]
    },
    {
      "cell_type": "code",
      "execution_count": 76,
      "metadata": {
        "id": "nThaJGQ-c30b",
        "colab": {
          "base_uri": "https://localhost:8080/"
        },
        "outputId": "edaa3b81-1282-42a8-ee17-0e8c116dbb10"
      },
      "outputs": [
        {
          "output_type": "stream",
          "name": "stdout",
          "text": [
            "[[ 0.36191469  0.989389    0.80759765  0.87739014  1.        ]\n",
            " [ 0.78166958  0.40989873  0.21338693  0.0915611  -0.        ]\n",
            " [ 0.40887177  0.45700161  0.82376079  0.33463007  0.4771107 ]\n",
            " [ 0.83158908  0.7014717   0.07162287  0.71667103  0.31069686]\n",
            " [ 0.56578693  0.42788481  0.40400287  0.32195525  0.60303431]]\n"
          ]
        }
      ],
      "source": [
        "x = np.random.random((5,5))\n",
        "min = np.max(x)\n",
        "max =np.min(x)\n",
        "mm = max-min\n",
        "x1 = x - min\n",
        "x = ((x-min) / (max - min))\n",
        "print(x)"
      ]
    },
    {
      "cell_type": "markdown",
      "metadata": {
        "id": "-wL_xXNVc30b"
      },
      "source": [
        "#### 23. Create a custom dtype that describes a color as four unsigned bytes (RGBA) (★☆☆) \n",
        "(**hint**: np.dtype)"
      ]
    },
    {
      "cell_type": "code",
      "execution_count": 77,
      "metadata": {
        "collapsed": true,
        "id": "LcObqaL4c30b"
      },
      "outputs": [],
      "source": [
        "dt = np.dtype('uint32')"
      ]
    },
    {
      "cell_type": "markdown",
      "metadata": {
        "id": "nPcFQYP6c30b"
      },
      "source": [
        "#### 24. Multiply a 5x3 matrix by a 3x2 matrix (real matrix product) (★☆☆) \n",
        "(**hint**: np.dot | @)"
      ]
    },
    {
      "cell_type": "code",
      "execution_count": 78,
      "metadata": {
        "id": "ZkfLbuyac30b",
        "colab": {
          "base_uri": "https://localhost:8080/"
        },
        "outputId": "878e099d-d8ea-49ed-99e4-9060ab4bcba3"
      },
      "outputs": [
        {
          "output_type": "execute_result",
          "data": {
            "text/plain": [
              "array([[ 22,  28],\n",
              "       [ 49,  64],\n",
              "       [ 76, 100],\n",
              "       [103, 136],\n",
              "       [130, 172]])"
            ]
          },
          "metadata": {},
          "execution_count": 78
        }
      ],
      "source": [
        "a = np.arange(1,16).reshape(5,3)\n",
        "b = np.arange(1,7).reshape(3,2)\n",
        "np.dot(a,b)"
      ]
    },
    {
      "cell_type": "markdown",
      "metadata": {
        "id": "yATAYIJ-c30b"
      },
      "source": [
        "#### 25. Given a 1D array, negate all elements which are between 3 and 8, in place. (★☆☆) \n",
        "(**hint**: >, <=)"
      ]
    },
    {
      "cell_type": "code",
      "execution_count": 79,
      "metadata": {
        "id": "EznHYi5Oc30b",
        "colab": {
          "base_uri": "https://localhost:8080/"
        },
        "outputId": "18788a57-7064-46fc-87bf-1baa148753a8"
      },
      "outputs": [
        {
          "output_type": "stream",
          "name": "stdout",
          "text": [
            "[ 1  2 -3 -4 -5 -6 -7 -8  9 10 11 12]\n"
          ]
        }
      ],
      "source": [
        "a = np.array([1,2,3,4,5,6,7,8,9,10,11,12])\n",
        "m = (a>=3) & (a<=8)\n",
        "a[m] *= -1\n",
        "print(a)"
      ]
    },
    {
      "cell_type": "markdown",
      "metadata": {
        "id": "Eoce7Z-Hc30b"
      },
      "source": [
        "#### 26. What is the output of the following script? (★☆☆) \n",
        "(**hint**: np.sum)"
      ]
    },
    {
      "cell_type": "markdown",
      "metadata": {
        "id": "qbIf_wHuc30c"
      },
      "source": [
        "```python\n",
        "# Author: Jake VanderPlas\n",
        "\n",
        "print(sum(range(5),-1))\n",
        "from numpy import *\n",
        "print(sum(range(5),-1))\n",
        "```"
      ]
    },
    {
      "cell_type": "code",
      "execution_count": 80,
      "metadata": {
        "id": "E8ReeGU1c30c"
      },
      "outputs": [],
      "source": [
        "# 9 and \n",
        "# 10"
      ]
    },
    {
      "cell_type": "markdown",
      "metadata": {
        "id": "2xEtKxJOc30c"
      },
      "source": [
        "#### 27. Consider an integer vector Z, which of these expressions are legal? (★☆☆)"
      ]
    },
    {
      "cell_type": "markdown",
      "metadata": {
        "id": "PbgJkRXlc30c"
      },
      "source": [
        "```python\n",
        "Z**Z\n",
        "2 << Z >> 2\n",
        "Z <- Z\n",
        "1j*Z\n",
        "Z/1/1\n",
        "Z<Z>Z\n",
        "```"
      ]
    },
    {
      "cell_type": "code",
      "execution_count": 81,
      "metadata": {
        "id": "C3tnImVgc30c"
      },
      "outputs": [],
      "source": [
        "# All except z<z<z are legal"
      ]
    },
    {
      "cell_type": "markdown",
      "metadata": {
        "id": "fdUy_n7Cc30c"
      },
      "source": [
        "#### 28. What are the result of the following expressions?"
      ]
    },
    {
      "cell_type": "markdown",
      "metadata": {
        "id": "Qo3oG-ioc30c"
      },
      "source": [
        "```python\n",
        "np.array(0) / np.array(0)\n",
        "np.array(0) // np.array(0)\n",
        "np.array([np.nan]).astype(int).astype(float)\n",
        "```"
      ]
    },
    {
      "cell_type": "code",
      "execution_count": 82,
      "metadata": {
        "id": "HDnkQBILc30c"
      },
      "outputs": [],
      "source": [
        "# array([-9.22337204e+18])"
      ]
    },
    {
      "cell_type": "markdown",
      "metadata": {
        "id": "GdFaeBlQc30c"
      },
      "source": [
        "#### 29. How to round away from zero a float array ? (★☆☆) \n",
        "(**hint**: np.uniform, np.copysign, np.ceil, np.abs)"
      ]
    },
    {
      "cell_type": "code",
      "execution_count": 83,
      "metadata": {
        "id": "XRgLqdk5c30c",
        "colab": {
          "base_uri": "https://localhost:8080/"
        },
        "outputId": "1fe29c7e-c140-465a-e903-000aa084edbf"
      },
      "outputs": [
        {
          "output_type": "stream",
          "name": "stdout",
          "text": [
            "4.591667936467985\n"
          ]
        }
      ],
      "source": [
        "z = np.random.uniform(10)\n",
        "print(z)\n"
      ]
    },
    {
      "cell_type": "markdown",
      "metadata": {
        "id": "PzihDrBAc30c"
      },
      "source": [
        "#### 30. How to find common values between two arrays? (★☆☆) \n",
        "(**hint**: np.intersect1d)"
      ]
    },
    {
      "cell_type": "code",
      "execution_count": 84,
      "metadata": {
        "id": "TfLGAXr9c30d",
        "colab": {
          "base_uri": "https://localhost:8080/"
        },
        "outputId": "8de4934d-1f65-4464-bc67-6016b380f862"
      },
      "outputs": [
        {
          "output_type": "execute_result",
          "data": {
            "text/plain": [
              "array([5])"
            ]
          },
          "metadata": {},
          "execution_count": 84
        }
      ],
      "source": [
        "z = np.array([1,2,3,4,5])\n",
        "x = np.array([10,20,30,40,5])\n",
        "np.intersect1d(z,x)"
      ]
    },
    {
      "cell_type": "markdown",
      "metadata": {
        "id": "F0sikn27c30d"
      },
      "source": [
        "#### 31. How to ignore all numpy warnings (not recommended)? (★☆☆) \n",
        "(**hint**: np.seterr, np.errstate)"
      ]
    },
    {
      "cell_type": "code",
      "execution_count": 85,
      "metadata": {
        "id": "dz8tavt6c30d",
        "colab": {
          "base_uri": "https://localhost:8080/"
        },
        "outputId": "fdb92e89-94d2-4c78-dd33-91efa112145f"
      },
      "outputs": [
        {
          "output_type": "execute_result",
          "data": {
            "text/plain": [
              "{'divide': 'ignore', 'over': 'ignore', 'under': 'ignore', 'invalid': 'ignore'}"
            ]
          },
          "metadata": {},
          "execution_count": 85
        }
      ],
      "source": [
        "np.seterr(all=\"ignore\")"
      ]
    },
    {
      "cell_type": "markdown",
      "metadata": {
        "id": "zbW8v4wBc30d"
      },
      "source": [
        "#### 32. Is the following expressions true? (★☆☆) \n",
        "(**hint**: imaginary number)"
      ]
    },
    {
      "cell_type": "markdown",
      "metadata": {
        "id": "EXnnwyJ4c30d"
      },
      "source": [
        "```python\n",
        "np.sqrt(-1) == np.emath.sqrt(-1)\n",
        "```"
      ]
    },
    {
      "cell_type": "code",
      "execution_count": 86,
      "metadata": {
        "id": "SGAkkAV7c30d"
      },
      "outputs": [],
      "source": [
        "#False"
      ]
    },
    {
      "cell_type": "markdown",
      "metadata": {
        "id": "UFn4kLLxc30d"
      },
      "source": [
        "#### 33. How to get the dates of yesterday, today and tomorrow? (★☆☆) \n",
        "(**hint**: np.datetime64, np.timedelta64)"
      ]
    },
    {
      "cell_type": "code",
      "execution_count": 87,
      "metadata": {
        "collapsed": true,
        "id": "JCOoK4KOc30d",
        "colab": {
          "base_uri": "https://localhost:8080/"
        },
        "outputId": "9c13de5e-2bd9-418f-90b0-a48f836a0936"
      },
      "outputs": [
        {
          "output_type": "stream",
          "name": "stdout",
          "text": [
            "Yesterday: 2022-11-14\n",
            "Today: 2022-11-15\n",
            "Tomorrow: 2022-11-16\n"
          ]
        }
      ],
      "source": [
        "today = np.datetime64('today', 'D') \n",
        "yesterday = np.datetime64('today', 'D') - np.timedelta64(1, 'D') \n",
        "tomorrow =np.datetime64('today', 'D') + np.timedelta64(1, 'D')\n",
        "print(\"Yesterday:\", yesterday)\n",
        "print(\"Today:\", today) \n",
        "print(\"Tomorrow:\", tomorrow)"
      ]
    },
    {
      "cell_type": "markdown",
      "metadata": {
        "id": "1tc97I1jc30d"
      },
      "source": [
        "#### 34. How to get all the dates corresponding to the month of July 2016? (★★☆) \n",
        "(**hint**: np.arange(dtype=datetime64\\['D'\\]))"
      ]
    },
    {
      "cell_type": "code",
      "execution_count": 88,
      "metadata": {
        "id": "k0S9Y64Cc30e",
        "colab": {
          "base_uri": "https://localhost:8080/"
        },
        "outputId": "67daf123-7293-407a-d3ec-db0dacd0594a"
      },
      "outputs": [
        {
          "output_type": "stream",
          "name": "stdout",
          "text": [
            "['2012-07-01' '2012-07-02' '2012-07-03' '2012-07-04' '2012-07-05'\n",
            " '2012-07-06' '2012-07-07' '2012-07-08' '2012-07-09' '2012-07-10'\n",
            " '2012-07-11' '2012-07-12' '2012-07-13' '2012-07-14' '2012-07-15'\n",
            " '2012-07-16' '2012-07-17' '2012-07-18' '2012-07-19' '2012-07-20'\n",
            " '2012-07-21' '2012-07-22' '2012-07-23' '2012-07-24' '2012-07-25'\n",
            " '2012-07-26' '2012-07-27' '2012-07-28' '2012-07-29' '2012-07-30'\n",
            " '2012-07-31' '2012-08-01' '2012-08-02' '2012-08-03' '2012-08-04'\n",
            " '2012-08-05' '2012-08-06' '2012-08-07' '2012-08-08' '2012-08-09'\n",
            " '2012-08-10' '2012-08-11' '2012-08-12' '2012-08-13' '2012-08-14'\n",
            " '2012-08-15' '2012-08-16' '2012-08-17' '2012-08-18' '2012-08-19'\n",
            " '2012-08-20' '2012-08-21' '2012-08-22' '2012-08-23' '2012-08-24'\n",
            " '2012-08-25' '2012-08-26' '2012-08-27' '2012-08-28' '2012-08-29'\n",
            " '2012-08-30' '2012-08-31' '2012-09-01' '2012-09-02' '2012-09-03'\n",
            " '2012-09-04' '2012-09-05' '2012-09-06' '2012-09-07' '2012-09-08'\n",
            " '2012-09-09' '2012-09-10' '2012-09-11' '2012-09-12' '2012-09-13'\n",
            " '2012-09-14' '2012-09-15' '2012-09-16' '2012-09-17' '2012-09-18'\n",
            " '2012-09-19' '2012-09-20' '2012-09-21' '2012-09-22' '2012-09-23'\n",
            " '2012-09-24' '2012-09-25' '2012-09-26' '2012-09-27' '2012-09-28'\n",
            " '2012-09-29' '2012-09-30' '2012-10-01' '2012-10-02' '2012-10-03'\n",
            " '2012-10-04' '2012-10-05' '2012-10-06' '2012-10-07' '2012-10-08'\n",
            " '2012-10-09' '2012-10-10' '2012-10-11' '2012-10-12' '2012-10-13'\n",
            " '2012-10-14' '2012-10-15' '2012-10-16' '2012-10-17' '2012-10-18'\n",
            " '2012-10-19' '2012-10-20' '2012-10-21' '2012-10-22' '2012-10-23'\n",
            " '2012-10-24' '2012-10-25' '2012-10-26' '2012-10-27' '2012-10-28'\n",
            " '2012-10-29' '2012-10-30' '2012-10-31' '2012-11-01' '2012-11-02'\n",
            " '2012-11-03' '2012-11-04' '2012-11-05' '2012-11-06' '2012-11-07'\n",
            " '2012-11-08' '2012-11-09' '2012-11-10' '2012-11-11' '2012-11-12'\n",
            " '2012-11-13' '2012-11-14' '2012-11-15' '2012-11-16' '2012-11-17'\n",
            " '2012-11-18' '2012-11-19' '2012-11-20' '2012-11-21' '2012-11-22'\n",
            " '2012-11-23' '2012-11-24' '2012-11-25' '2012-11-26' '2012-11-27'\n",
            " '2012-11-28' '2012-11-29' '2012-11-30' '2012-12-01' '2012-12-02'\n",
            " '2012-12-03' '2012-12-04' '2012-12-05' '2012-12-06' '2012-12-07'\n",
            " '2012-12-08' '2012-12-09' '2012-12-10' '2012-12-11' '2012-12-12'\n",
            " '2012-12-13' '2012-12-14' '2012-12-15' '2012-12-16' '2012-12-17'\n",
            " '2012-12-18' '2012-12-19' '2012-12-20' '2012-12-21' '2012-12-22'\n",
            " '2012-12-23' '2012-12-24' '2012-12-25' '2012-12-26' '2012-12-27'\n",
            " '2012-12-28' '2012-12-29' '2012-12-30' '2012-12-31' '2013-01-01'\n",
            " '2013-01-02' '2013-01-03' '2013-01-04' '2013-01-05' '2013-01-06'\n",
            " '2013-01-07' '2013-01-08' '2013-01-09' '2013-01-10' '2013-01-11'\n",
            " '2013-01-12' '2013-01-13' '2013-01-14' '2013-01-15' '2013-01-16'\n",
            " '2013-01-17' '2013-01-18' '2013-01-19' '2013-01-20' '2013-01-21'\n",
            " '2013-01-22' '2013-01-23' '2013-01-24' '2013-01-25' '2013-01-26'\n",
            " '2013-01-27' '2013-01-28' '2013-01-29' '2013-01-30' '2013-01-31'\n",
            " '2013-02-01' '2013-02-02' '2013-02-03' '2013-02-04' '2013-02-05'\n",
            " '2013-02-06' '2013-02-07' '2013-02-08' '2013-02-09' '2013-02-10'\n",
            " '2013-02-11' '2013-02-12' '2013-02-13' '2013-02-14' '2013-02-15'\n",
            " '2013-02-16' '2013-02-17' '2013-02-18' '2013-02-19' '2013-02-20'\n",
            " '2013-02-21' '2013-02-22' '2013-02-23' '2013-02-24' '2013-02-25'\n",
            " '2013-02-26' '2013-02-27' '2013-02-28' '2013-03-01' '2013-03-02'\n",
            " '2013-03-03' '2013-03-04' '2013-03-05' '2013-03-06' '2013-03-07'\n",
            " '2013-03-08' '2013-03-09' '2013-03-10' '2013-03-11' '2013-03-12'\n",
            " '2013-03-13' '2013-03-14' '2013-03-15' '2013-03-16' '2013-03-17'\n",
            " '2013-03-18' '2013-03-19' '2013-03-20' '2013-03-21' '2013-03-22'\n",
            " '2013-03-23' '2013-03-24' '2013-03-25' '2013-03-26' '2013-03-27'\n",
            " '2013-03-28' '2013-03-29' '2013-03-30' '2013-03-31' '2013-04-01'\n",
            " '2013-04-02' '2013-04-03' '2013-04-04' '2013-04-05' '2013-04-06'\n",
            " '2013-04-07' '2013-04-08' '2013-04-09' '2013-04-10' '2013-04-11'\n",
            " '2013-04-12' '2013-04-13' '2013-04-14' '2013-04-15' '2013-04-16'\n",
            " '2013-04-17' '2013-04-18' '2013-04-19' '2013-04-20' '2013-04-21'\n",
            " '2013-04-22' '2013-04-23' '2013-04-24' '2013-04-25' '2013-04-26'\n",
            " '2013-04-27' '2013-04-28' '2013-04-29' '2013-04-30' '2013-05-01'\n",
            " '2013-05-02' '2013-05-03' '2013-05-04' '2013-05-05' '2013-05-06'\n",
            " '2013-05-07' '2013-05-08' '2013-05-09' '2013-05-10' '2013-05-11'\n",
            " '2013-05-12' '2013-05-13' '2013-05-14' '2013-05-15' '2013-05-16'\n",
            " '2013-05-17' '2013-05-18' '2013-05-19' '2013-05-20' '2013-05-21'\n",
            " '2013-05-22' '2013-05-23' '2013-05-24' '2013-05-25' '2013-05-26'\n",
            " '2013-05-27' '2013-05-28' '2013-05-29' '2013-05-30' '2013-05-31'\n",
            " '2013-06-01' '2013-06-02' '2013-06-03' '2013-06-04' '2013-06-05'\n",
            " '2013-06-06' '2013-06-07' '2013-06-08' '2013-06-09' '2013-06-10'\n",
            " '2013-06-11' '2013-06-12' '2013-06-13' '2013-06-14' '2013-06-15'\n",
            " '2013-06-16' '2013-06-17' '2013-06-18' '2013-06-19' '2013-06-20'\n",
            " '2013-06-21' '2013-06-22' '2013-06-23' '2013-06-24' '2013-06-25'\n",
            " '2013-06-26' '2013-06-27' '2013-06-28' '2013-06-29' '2013-06-30'\n",
            " '2013-07-01' '2013-07-02' '2013-07-03' '2013-07-04' '2013-07-05'\n",
            " '2013-07-06' '2013-07-07' '2013-07-08' '2013-07-09' '2013-07-10'\n",
            " '2013-07-11' '2013-07-12' '2013-07-13' '2013-07-14' '2013-07-15'\n",
            " '2013-07-16' '2013-07-17' '2013-07-18' '2013-07-19' '2013-07-20'\n",
            " '2013-07-21' '2013-07-22' '2013-07-23' '2013-07-24' '2013-07-25'\n",
            " '2013-07-26' '2013-07-27' '2013-07-28' '2013-07-29' '2013-07-30'\n",
            " '2013-07-31' '2013-08-01' '2013-08-02' '2013-08-03' '2013-08-04'\n",
            " '2013-08-05' '2013-08-06' '2013-08-07' '2013-08-08' '2013-08-09'\n",
            " '2013-08-10' '2013-08-11' '2013-08-12' '2013-08-13' '2013-08-14'\n",
            " '2013-08-15' '2013-08-16' '2013-08-17' '2013-08-18' '2013-08-19'\n",
            " '2013-08-20' '2013-08-21' '2013-08-22' '2013-08-23' '2013-08-24'\n",
            " '2013-08-25' '2013-08-26' '2013-08-27' '2013-08-28' '2013-08-29'\n",
            " '2013-08-30' '2013-08-31' '2013-09-01' '2013-09-02' '2013-09-03'\n",
            " '2013-09-04' '2013-09-05' '2013-09-06' '2013-09-07' '2013-09-08'\n",
            " '2013-09-09' '2013-09-10' '2013-09-11' '2013-09-12' '2013-09-13'\n",
            " '2013-09-14' '2013-09-15' '2013-09-16' '2013-09-17' '2013-09-18'\n",
            " '2013-09-19' '2013-09-20' '2013-09-21' '2013-09-22' '2013-09-23'\n",
            " '2013-09-24' '2013-09-25' '2013-09-26' '2013-09-27' '2013-09-28'\n",
            " '2013-09-29' '2013-09-30' '2013-10-01' '2013-10-02' '2013-10-03'\n",
            " '2013-10-04' '2013-10-05' '2013-10-06' '2013-10-07' '2013-10-08'\n",
            " '2013-10-09' '2013-10-10' '2013-10-11' '2013-10-12' '2013-10-13'\n",
            " '2013-10-14' '2013-10-15' '2013-10-16' '2013-10-17' '2013-10-18'\n",
            " '2013-10-19' '2013-10-20' '2013-10-21' '2013-10-22' '2013-10-23'\n",
            " '2013-10-24' '2013-10-25' '2013-10-26' '2013-10-27' '2013-10-28'\n",
            " '2013-10-29' '2013-10-30' '2013-10-31' '2013-11-01' '2013-11-02'\n",
            " '2013-11-03' '2013-11-04' '2013-11-05' '2013-11-06' '2013-11-07'\n",
            " '2013-11-08' '2013-11-09' '2013-11-10' '2013-11-11' '2013-11-12'\n",
            " '2013-11-13' '2013-11-14' '2013-11-15' '2013-11-16' '2013-11-17'\n",
            " '2013-11-18' '2013-11-19' '2013-11-20' '2013-11-21' '2013-11-22'\n",
            " '2013-11-23' '2013-11-24' '2013-11-25' '2013-11-26' '2013-11-27'\n",
            " '2013-11-28' '2013-11-29' '2013-11-30' '2013-12-01' '2013-12-02'\n",
            " '2013-12-03' '2013-12-04' '2013-12-05' '2013-12-06' '2013-12-07'\n",
            " '2013-12-08' '2013-12-09' '2013-12-10' '2013-12-11' '2013-12-12'\n",
            " '2013-12-13' '2013-12-14' '2013-12-15' '2013-12-16' '2013-12-17'\n",
            " '2013-12-18' '2013-12-19' '2013-12-20' '2013-12-21' '2013-12-22'\n",
            " '2013-12-23' '2013-12-24' '2013-12-25' '2013-12-26' '2013-12-27'\n",
            " '2013-12-28' '2013-12-29' '2013-12-30' '2013-12-31' '2014-01-01'\n",
            " '2014-01-02' '2014-01-03' '2014-01-04' '2014-01-05' '2014-01-06'\n",
            " '2014-01-07' '2014-01-08' '2014-01-09' '2014-01-10' '2014-01-11'\n",
            " '2014-01-12' '2014-01-13' '2014-01-14' '2014-01-15' '2014-01-16'\n",
            " '2014-01-17' '2014-01-18' '2014-01-19' '2014-01-20' '2014-01-21'\n",
            " '2014-01-22' '2014-01-23' '2014-01-24' '2014-01-25' '2014-01-26'\n",
            " '2014-01-27' '2014-01-28' '2014-01-29' '2014-01-30' '2014-01-31'\n",
            " '2014-02-01' '2014-02-02' '2014-02-03' '2014-02-04' '2014-02-05'\n",
            " '2014-02-06' '2014-02-07' '2014-02-08' '2014-02-09' '2014-02-10'\n",
            " '2014-02-11' '2014-02-12' '2014-02-13' '2014-02-14' '2014-02-15'\n",
            " '2014-02-16' '2014-02-17' '2014-02-18' '2014-02-19' '2014-02-20'\n",
            " '2014-02-21' '2014-02-22' '2014-02-23' '2014-02-24' '2014-02-25'\n",
            " '2014-02-26' '2014-02-27' '2014-02-28' '2014-03-01' '2014-03-02'\n",
            " '2014-03-03' '2014-03-04' '2014-03-05' '2014-03-06' '2014-03-07'\n",
            " '2014-03-08' '2014-03-09' '2014-03-10' '2014-03-11' '2014-03-12'\n",
            " '2014-03-13' '2014-03-14' '2014-03-15' '2014-03-16' '2014-03-17'\n",
            " '2014-03-18' '2014-03-19' '2014-03-20' '2014-03-21' '2014-03-22'\n",
            " '2014-03-23' '2014-03-24' '2014-03-25' '2014-03-26' '2014-03-27'\n",
            " '2014-03-28' '2014-03-29' '2014-03-30' '2014-03-31' '2014-04-01'\n",
            " '2014-04-02' '2014-04-03' '2014-04-04' '2014-04-05' '2014-04-06'\n",
            " '2014-04-07' '2014-04-08' '2014-04-09' '2014-04-10' '2014-04-11'\n",
            " '2014-04-12' '2014-04-13' '2014-04-14' '2014-04-15' '2014-04-16'\n",
            " '2014-04-17' '2014-04-18' '2014-04-19' '2014-04-20' '2014-04-21'\n",
            " '2014-04-22' '2014-04-23' '2014-04-24' '2014-04-25' '2014-04-26'\n",
            " '2014-04-27' '2014-04-28' '2014-04-29' '2014-04-30' '2014-05-01'\n",
            " '2014-05-02' '2014-05-03' '2014-05-04' '2014-05-05' '2014-05-06'\n",
            " '2014-05-07' '2014-05-08' '2014-05-09' '2014-05-10' '2014-05-11'\n",
            " '2014-05-12' '2014-05-13' '2014-05-14' '2014-05-15' '2014-05-16'\n",
            " '2014-05-17' '2014-05-18' '2014-05-19' '2014-05-20' '2014-05-21'\n",
            " '2014-05-22' '2014-05-23' '2014-05-24' '2014-05-25' '2014-05-26'\n",
            " '2014-05-27' '2014-05-28' '2014-05-29' '2014-05-30' '2014-05-31'\n",
            " '2014-06-01' '2014-06-02' '2014-06-03' '2014-06-04' '2014-06-05'\n",
            " '2014-06-06' '2014-06-07' '2014-06-08' '2014-06-09' '2014-06-10'\n",
            " '2014-06-11' '2014-06-12' '2014-06-13' '2014-06-14' '2014-06-15'\n",
            " '2014-06-16' '2014-06-17' '2014-06-18' '2014-06-19' '2014-06-20'\n",
            " '2014-06-21' '2014-06-22' '2014-06-23' '2014-06-24' '2014-06-25'\n",
            " '2014-06-26' '2014-06-27' '2014-06-28' '2014-06-29' '2014-06-30'\n",
            " '2014-07-01' '2014-07-02' '2014-07-03' '2014-07-04' '2014-07-05'\n",
            " '2014-07-06' '2014-07-07' '2014-07-08' '2014-07-09' '2014-07-10'\n",
            " '2014-07-11' '2014-07-12' '2014-07-13' '2014-07-14' '2014-07-15'\n",
            " '2014-07-16' '2014-07-17' '2014-07-18' '2014-07-19' '2014-07-20'\n",
            " '2014-07-21' '2014-07-22' '2014-07-23' '2014-07-24' '2014-07-25'\n",
            " '2014-07-26' '2014-07-27' '2014-07-28' '2014-07-29' '2014-07-30'\n",
            " '2014-07-31' '2014-08-01' '2014-08-02' '2014-08-03' '2014-08-04'\n",
            " '2014-08-05' '2014-08-06' '2014-08-07' '2014-08-08' '2014-08-09'\n",
            " '2014-08-10' '2014-08-11' '2014-08-12' '2014-08-13' '2014-08-14'\n",
            " '2014-08-15' '2014-08-16' '2014-08-17' '2014-08-18' '2014-08-19'\n",
            " '2014-08-20' '2014-08-21' '2014-08-22' '2014-08-23' '2014-08-24'\n",
            " '2014-08-25' '2014-08-26' '2014-08-27' '2014-08-28' '2014-08-29'\n",
            " '2014-08-30' '2014-08-31' '2014-09-01' '2014-09-02' '2014-09-03'\n",
            " '2014-09-04' '2014-09-05' '2014-09-06' '2014-09-07' '2014-09-08'\n",
            " '2014-09-09' '2014-09-10' '2014-09-11' '2014-09-12' '2014-09-13'\n",
            " '2014-09-14' '2014-09-15' '2014-09-16' '2014-09-17' '2014-09-18'\n",
            " '2014-09-19' '2014-09-20' '2014-09-21' '2014-09-22' '2014-09-23'\n",
            " '2014-09-24' '2014-09-25' '2014-09-26' '2014-09-27' '2014-09-28'\n",
            " '2014-09-29' '2014-09-30' '2014-10-01' '2014-10-02' '2014-10-03'\n",
            " '2014-10-04' '2014-10-05' '2014-10-06' '2014-10-07' '2014-10-08'\n",
            " '2014-10-09' '2014-10-10' '2014-10-11' '2014-10-12' '2014-10-13'\n",
            " '2014-10-14' '2014-10-15' '2014-10-16' '2014-10-17' '2014-10-18'\n",
            " '2014-10-19' '2014-10-20' '2014-10-21' '2014-10-22' '2014-10-23'\n",
            " '2014-10-24' '2014-10-25' '2014-10-26' '2014-10-27' '2014-10-28'\n",
            " '2014-10-29' '2014-10-30' '2014-10-31' '2014-11-01' '2014-11-02'\n",
            " '2014-11-03' '2014-11-04' '2014-11-05' '2014-11-06' '2014-11-07'\n",
            " '2014-11-08' '2014-11-09' '2014-11-10' '2014-11-11' '2014-11-12'\n",
            " '2014-11-13' '2014-11-14' '2014-11-15' '2014-11-16' '2014-11-17'\n",
            " '2014-11-18' '2014-11-19' '2014-11-20' '2014-11-21' '2014-11-22'\n",
            " '2014-11-23' '2014-11-24' '2014-11-25' '2014-11-26' '2014-11-27'\n",
            " '2014-11-28' '2014-11-29' '2014-11-30' '2014-12-01' '2014-12-02'\n",
            " '2014-12-03' '2014-12-04' '2014-12-05' '2014-12-06' '2014-12-07'\n",
            " '2014-12-08' '2014-12-09' '2014-12-10' '2014-12-11' '2014-12-12'\n",
            " '2014-12-13' '2014-12-14' '2014-12-15' '2014-12-16' '2014-12-17'\n",
            " '2014-12-18' '2014-12-19' '2014-12-20' '2014-12-21' '2014-12-22'\n",
            " '2014-12-23' '2014-12-24' '2014-12-25' '2014-12-26' '2014-12-27'\n",
            " '2014-12-28' '2014-12-29' '2014-12-30' '2014-12-31' '2015-01-01'\n",
            " '2015-01-02' '2015-01-03' '2015-01-04' '2015-01-05' '2015-01-06'\n",
            " '2015-01-07' '2015-01-08' '2015-01-09' '2015-01-10' '2015-01-11'\n",
            " '2015-01-12' '2015-01-13' '2015-01-14' '2015-01-15' '2015-01-16'\n",
            " '2015-01-17' '2015-01-18' '2015-01-19' '2015-01-20' '2015-01-21'\n",
            " '2015-01-22' '2015-01-23' '2015-01-24' '2015-01-25' '2015-01-26'\n",
            " '2015-01-27' '2015-01-28' '2015-01-29' '2015-01-30' '2015-01-31'\n",
            " '2015-02-01' '2015-02-02' '2015-02-03' '2015-02-04' '2015-02-05'\n",
            " '2015-02-06' '2015-02-07' '2015-02-08' '2015-02-09' '2015-02-10'\n",
            " '2015-02-11' '2015-02-12' '2015-02-13' '2015-02-14' '2015-02-15'\n",
            " '2015-02-16' '2015-02-17' '2015-02-18' '2015-02-19' '2015-02-20'\n",
            " '2015-02-21' '2015-02-22' '2015-02-23' '2015-02-24' '2015-02-25'\n",
            " '2015-02-26' '2015-02-27' '2015-02-28' '2015-03-01' '2015-03-02'\n",
            " '2015-03-03' '2015-03-04' '2015-03-05' '2015-03-06' '2015-03-07'\n",
            " '2015-03-08' '2015-03-09' '2015-03-10' '2015-03-11' '2015-03-12'\n",
            " '2015-03-13' '2015-03-14' '2015-03-15' '2015-03-16' '2015-03-17'\n",
            " '2015-03-18' '2015-03-19' '2015-03-20' '2015-03-21' '2015-03-22'\n",
            " '2015-03-23' '2015-03-24' '2015-03-25' '2015-03-26' '2015-03-27'\n",
            " '2015-03-28' '2015-03-29' '2015-03-30' '2015-03-31' '2015-04-01'\n",
            " '2015-04-02' '2015-04-03' '2015-04-04' '2015-04-05' '2015-04-06'\n",
            " '2015-04-07' '2015-04-08' '2015-04-09' '2015-04-10' '2015-04-11'\n",
            " '2015-04-12' '2015-04-13' '2015-04-14' '2015-04-15' '2015-04-16'\n",
            " '2015-04-17' '2015-04-18' '2015-04-19' '2015-04-20' '2015-04-21'\n",
            " '2015-04-22' '2015-04-23' '2015-04-24' '2015-04-25' '2015-04-26'\n",
            " '2015-04-27' '2015-04-28' '2015-04-29' '2015-04-30' '2015-05-01'\n",
            " '2015-05-02' '2015-05-03' '2015-05-04' '2015-05-05' '2015-05-06'\n",
            " '2015-05-07' '2015-05-08' '2015-05-09' '2015-05-10' '2015-05-11'\n",
            " '2015-05-12' '2015-05-13' '2015-05-14' '2015-05-15' '2015-05-16'\n",
            " '2015-05-17' '2015-05-18' '2015-05-19' '2015-05-20' '2015-05-21'\n",
            " '2015-05-22' '2015-05-23' '2015-05-24' '2015-05-25' '2015-05-26'\n",
            " '2015-05-27' '2015-05-28' '2015-05-29' '2015-05-30' '2015-05-31'\n",
            " '2015-06-01' '2015-06-02' '2015-06-03' '2015-06-04' '2015-06-05'\n",
            " '2015-06-06' '2015-06-07' '2015-06-08' '2015-06-09' '2015-06-10'\n",
            " '2015-06-11' '2015-06-12' '2015-06-13' '2015-06-14' '2015-06-15'\n",
            " '2015-06-16' '2015-06-17' '2015-06-18' '2015-06-19' '2015-06-20'\n",
            " '2015-06-21' '2015-06-22' '2015-06-23' '2015-06-24' '2015-06-25'\n",
            " '2015-06-26' '2015-06-27' '2015-06-28' '2015-06-29' '2015-06-30'\n",
            " '2015-07-01' '2015-07-02' '2015-07-03' '2015-07-04' '2015-07-05'\n",
            " '2015-07-06' '2015-07-07' '2015-07-08' '2015-07-09' '2015-07-10'\n",
            " '2015-07-11' '2015-07-12' '2015-07-13' '2015-07-14' '2015-07-15'\n",
            " '2015-07-16' '2015-07-17' '2015-07-18' '2015-07-19' '2015-07-20'\n",
            " '2015-07-21' '2015-07-22' '2015-07-23' '2015-07-24' '2015-07-25'\n",
            " '2015-07-26' '2015-07-27' '2015-07-28' '2015-07-29' '2015-07-30'\n",
            " '2015-07-31' '2015-08-01' '2015-08-02' '2015-08-03' '2015-08-04'\n",
            " '2015-08-05' '2015-08-06' '2015-08-07' '2015-08-08' '2015-08-09'\n",
            " '2015-08-10' '2015-08-11' '2015-08-12' '2015-08-13' '2015-08-14'\n",
            " '2015-08-15' '2015-08-16' '2015-08-17' '2015-08-18' '2015-08-19'\n",
            " '2015-08-20' '2015-08-21' '2015-08-22' '2015-08-23' '2015-08-24'\n",
            " '2015-08-25' '2015-08-26' '2015-08-27' '2015-08-28' '2015-08-29'\n",
            " '2015-08-30' '2015-08-31' '2015-09-01' '2015-09-02' '2015-09-03'\n",
            " '2015-09-04' '2015-09-05' '2015-09-06' '2015-09-07' '2015-09-08'\n",
            " '2015-09-09' '2015-09-10' '2015-09-11' '2015-09-12' '2015-09-13'\n",
            " '2015-09-14' '2015-09-15' '2015-09-16' '2015-09-17' '2015-09-18'\n",
            " '2015-09-19' '2015-09-20' '2015-09-21' '2015-09-22' '2015-09-23'\n",
            " '2015-09-24' '2015-09-25' '2015-09-26' '2015-09-27' '2015-09-28'\n",
            " '2015-09-29' '2015-09-30' '2015-10-01' '2015-10-02' '2015-10-03'\n",
            " '2015-10-04' '2015-10-05' '2015-10-06' '2015-10-07' '2015-10-08'\n",
            " '2015-10-09' '2015-10-10' '2015-10-11' '2015-10-12' '2015-10-13'\n",
            " '2015-10-14' '2015-10-15' '2015-10-16' '2015-10-17' '2015-10-18'\n",
            " '2015-10-19' '2015-10-20' '2015-10-21' '2015-10-22' '2015-10-23'\n",
            " '2015-10-24' '2015-10-25' '2015-10-26' '2015-10-27' '2015-10-28'\n",
            " '2015-10-29' '2015-10-30' '2015-10-31' '2015-11-01' '2015-11-02'\n",
            " '2015-11-03' '2015-11-04' '2015-11-05' '2015-11-06' '2015-11-07'\n",
            " '2015-11-08' '2015-11-09' '2015-11-10' '2015-11-11' '2015-11-12'\n",
            " '2015-11-13' '2015-11-14' '2015-11-15' '2015-11-16' '2015-11-17'\n",
            " '2015-11-18' '2015-11-19' '2015-11-20' '2015-11-21' '2015-11-22'\n",
            " '2015-11-23' '2015-11-24' '2015-11-25' '2015-11-26' '2015-11-27'\n",
            " '2015-11-28' '2015-11-29' '2015-11-30' '2015-12-01' '2015-12-02'\n",
            " '2015-12-03' '2015-12-04' '2015-12-05' '2015-12-06' '2015-12-07'\n",
            " '2015-12-08' '2015-12-09' '2015-12-10' '2015-12-11' '2015-12-12'\n",
            " '2015-12-13' '2015-12-14' '2015-12-15' '2015-12-16' '2015-12-17'\n",
            " '2015-12-18' '2015-12-19' '2015-12-20' '2015-12-21' '2015-12-22'\n",
            " '2015-12-23' '2015-12-24' '2015-12-25' '2015-12-26' '2015-12-27'\n",
            " '2015-12-28' '2015-12-29' '2015-12-30' '2015-12-31' '2016-01-01'\n",
            " '2016-01-02' '2016-01-03' '2016-01-04' '2016-01-05' '2016-01-06'\n",
            " '2016-01-07' '2016-01-08' '2016-01-09' '2016-01-10' '2016-01-11'\n",
            " '2016-01-12' '2016-01-13' '2016-01-14' '2016-01-15' '2016-01-16'\n",
            " '2016-01-17' '2016-01-18' '2016-01-19' '2016-01-20' '2016-01-21'\n",
            " '2016-01-22' '2016-01-23' '2016-01-24' '2016-01-25' '2016-01-26'\n",
            " '2016-01-27' '2016-01-28' '2016-01-29' '2016-01-30' '2016-01-31'\n",
            " '2016-02-01' '2016-02-02' '2016-02-03' '2016-02-04' '2016-02-05'\n",
            " '2016-02-06' '2016-02-07' '2016-02-08' '2016-02-09' '2016-02-10'\n",
            " '2016-02-11' '2016-02-12' '2016-02-13' '2016-02-14' '2016-02-15'\n",
            " '2016-02-16' '2016-02-17' '2016-02-18' '2016-02-19' '2016-02-20'\n",
            " '2016-02-21' '2016-02-22' '2016-02-23' '2016-02-24' '2016-02-25'\n",
            " '2016-02-26' '2016-02-27' '2016-02-28' '2016-02-29' '2016-03-01'\n",
            " '2016-03-02' '2016-03-03' '2016-03-04' '2016-03-05' '2016-03-06'\n",
            " '2016-03-07' '2016-03-08' '2016-03-09' '2016-03-10' '2016-03-11'\n",
            " '2016-03-12' '2016-03-13' '2016-03-14' '2016-03-15' '2016-03-16'\n",
            " '2016-03-17' '2016-03-18' '2016-03-19' '2016-03-20' '2016-03-21'\n",
            " '2016-03-22' '2016-03-23' '2016-03-24' '2016-03-25' '2016-03-26'\n",
            " '2016-03-27' '2016-03-28' '2016-03-29' '2016-03-30' '2016-03-31'\n",
            " '2016-04-01' '2016-04-02' '2016-04-03' '2016-04-04' '2016-04-05'\n",
            " '2016-04-06' '2016-04-07' '2016-04-08' '2016-04-09' '2016-04-10'\n",
            " '2016-04-11' '2016-04-12' '2016-04-13' '2016-04-14' '2016-04-15'\n",
            " '2016-04-16' '2016-04-17' '2016-04-18' '2016-04-19' '2016-04-20'\n",
            " '2016-04-21' '2016-04-22' '2016-04-23' '2016-04-24' '2016-04-25'\n",
            " '2016-04-26' '2016-04-27' '2016-04-28' '2016-04-29' '2016-04-30'\n",
            " '2016-05-01' '2016-05-02' '2016-05-03' '2016-05-04' '2016-05-05'\n",
            " '2016-05-06' '2016-05-07' '2016-05-08' '2016-05-09' '2016-05-10'\n",
            " '2016-05-11' '2016-05-12' '2016-05-13' '2016-05-14' '2016-05-15'\n",
            " '2016-05-16' '2016-05-17' '2016-05-18' '2016-05-19' '2016-05-20'\n",
            " '2016-05-21' '2016-05-22' '2016-05-23' '2016-05-24' '2016-05-25'\n",
            " '2016-05-26' '2016-05-27' '2016-05-28' '2016-05-29' '2016-05-30'\n",
            " '2016-05-31' '2016-06-01' '2016-06-02' '2016-06-03' '2016-06-04'\n",
            " '2016-06-05' '2016-06-06' '2016-06-07' '2016-06-08' '2016-06-09'\n",
            " '2016-06-10' '2016-06-11' '2016-06-12' '2016-06-13' '2016-06-14'\n",
            " '2016-06-15' '2016-06-16' '2016-06-17' '2016-06-18' '2016-06-19'\n",
            " '2016-06-20' '2016-06-21' '2016-06-22' '2016-06-23' '2016-06-24'\n",
            " '2016-06-25' '2016-06-26' '2016-06-27' '2016-06-28' '2016-06-29'\n",
            " '2016-06-30' '2016-07-01' '2016-07-02' '2016-07-03' '2016-07-04'\n",
            " '2016-07-05' '2016-07-06' '2016-07-07' '2016-07-08' '2016-07-09'\n",
            " '2016-07-10' '2016-07-11' '2016-07-12' '2016-07-13' '2016-07-14'\n",
            " '2016-07-15' '2016-07-16' '2016-07-17' '2016-07-18' '2016-07-19'\n",
            " '2016-07-20' '2016-07-21' '2016-07-22' '2016-07-23' '2016-07-24'\n",
            " '2016-07-25' '2016-07-26' '2016-07-27' '2016-07-28' '2016-07-29'\n",
            " '2016-07-30' '2016-07-31' '2016-08-01' '2016-08-02' '2016-08-03'\n",
            " '2016-08-04' '2016-08-05' '2016-08-06' '2016-08-07' '2016-08-08'\n",
            " '2016-08-09' '2016-08-10' '2016-08-11' '2016-08-12' '2016-08-13'\n",
            " '2016-08-14' '2016-08-15' '2016-08-16' '2016-08-17' '2016-08-18'\n",
            " '2016-08-19' '2016-08-20' '2016-08-21' '2016-08-22' '2016-08-23'\n",
            " '2016-08-24' '2016-08-25' '2016-08-26' '2016-08-27' '2016-08-28'\n",
            " '2016-08-29' '2016-08-30' '2016-08-31' '2016-09-01' '2016-09-02'\n",
            " '2016-09-03' '2016-09-04' '2016-09-05' '2016-09-06' '2016-09-07'\n",
            " '2016-09-08' '2016-09-09' '2016-09-10' '2016-09-11' '2016-09-12'\n",
            " '2016-09-13' '2016-09-14' '2016-09-15' '2016-09-16' '2016-09-17'\n",
            " '2016-09-18' '2016-09-19' '2016-09-20' '2016-09-21' '2016-09-22'\n",
            " '2016-09-23' '2016-09-24' '2016-09-25' '2016-09-26' '2016-09-27'\n",
            " '2016-09-28' '2016-09-29' '2016-09-30' '2016-10-01' '2016-10-02'\n",
            " '2016-10-03' '2016-10-04' '2016-10-05' '2016-10-06' '2016-10-07'\n",
            " '2016-10-08' '2016-10-09' '2016-10-10' '2016-10-11' '2016-10-12'\n",
            " '2016-10-13' '2016-10-14' '2016-10-15' '2016-10-16' '2016-10-17'\n",
            " '2016-10-18' '2016-10-19' '2016-10-20' '2016-10-21' '2016-10-22'\n",
            " '2016-10-23' '2016-10-24' '2016-10-25' '2016-10-26' '2016-10-27'\n",
            " '2016-10-28' '2016-10-29' '2016-10-30' '2016-10-31' '2016-11-01'\n",
            " '2016-11-02' '2016-11-03' '2016-11-04' '2016-11-05' '2016-11-06'\n",
            " '2016-11-07' '2016-11-08' '2016-11-09' '2016-11-10' '2016-11-11'\n",
            " '2016-11-12' '2016-11-13' '2016-11-14' '2016-11-15' '2016-11-16'\n",
            " '2016-11-17' '2016-11-18' '2016-11-19' '2016-11-20' '2016-11-21'\n",
            " '2016-11-22' '2016-11-23' '2016-11-24' '2016-11-25' '2016-11-26'\n",
            " '2016-11-27' '2016-11-28' '2016-11-29' '2016-11-30' '2016-12-01'\n",
            " '2016-12-02' '2016-12-03' '2016-12-04' '2016-12-05' '2016-12-06'\n",
            " '2016-12-07' '2016-12-08' '2016-12-09' '2016-12-10' '2016-12-11'\n",
            " '2016-12-12' '2016-12-13' '2016-12-14' '2016-12-15' '2016-12-16'\n",
            " '2016-12-17' '2016-12-18' '2016-12-19' '2016-12-20' '2016-12-21'\n",
            " '2016-12-22' '2016-12-23' '2016-12-24' '2016-12-25' '2016-12-26'\n",
            " '2016-12-27' '2016-12-28' '2016-12-29' '2016-12-30' '2016-12-31'\n",
            " '2017-01-01' '2017-01-02' '2017-01-03' '2017-01-04' '2017-01-05'\n",
            " '2017-01-06' '2017-01-07' '2017-01-08' '2017-01-09' '2017-01-10'\n",
            " '2017-01-11' '2017-01-12' '2017-01-13' '2017-01-14' '2017-01-15'\n",
            " '2017-01-16' '2017-01-17' '2017-01-18' '2017-01-19' '2017-01-20'\n",
            " '2017-01-21' '2017-01-22' '2017-01-23' '2017-01-24' '2017-01-25'\n",
            " '2017-01-26' '2017-01-27' '2017-01-28' '2017-01-29' '2017-01-30'\n",
            " '2017-01-31' '2017-02-01' '2017-02-02' '2017-02-03' '2017-02-04'\n",
            " '2017-02-05' '2017-02-06' '2017-02-07' '2017-02-08' '2017-02-09'\n",
            " '2017-02-10' '2017-02-11' '2017-02-12' '2017-02-13' '2017-02-14'\n",
            " '2017-02-15' '2017-02-16' '2017-02-17' '2017-02-18' '2017-02-19'\n",
            " '2017-02-20' '2017-02-21' '2017-02-22' '2017-02-23' '2017-02-24'\n",
            " '2017-02-25' '2017-02-26' '2017-02-27' '2017-02-28' '2017-03-01'\n",
            " '2017-03-02' '2017-03-03' '2017-03-04' '2017-03-05' '2017-03-06'\n",
            " '2017-03-07' '2017-03-08' '2017-03-09' '2017-03-10' '2017-03-11'\n",
            " '2017-03-12' '2017-03-13' '2017-03-14' '2017-03-15' '2017-03-16'\n",
            " '2017-03-17' '2017-03-18' '2017-03-19' '2017-03-20' '2017-03-21'\n",
            " '2017-03-22' '2017-03-23' '2017-03-24' '2017-03-25' '2017-03-26'\n",
            " '2017-03-27' '2017-03-28' '2017-03-29' '2017-03-30' '2017-03-31'\n",
            " '2017-04-01' '2017-04-02' '2017-04-03' '2017-04-04' '2017-04-05'\n",
            " '2017-04-06' '2017-04-07' '2017-04-08' '2017-04-09' '2017-04-10'\n",
            " '2017-04-11' '2017-04-12' '2017-04-13' '2017-04-14' '2017-04-15'\n",
            " '2017-04-16' '2017-04-17' '2017-04-18' '2017-04-19' '2017-04-20'\n",
            " '2017-04-21' '2017-04-22' '2017-04-23' '2017-04-24' '2017-04-25'\n",
            " '2017-04-26' '2017-04-27' '2017-04-28' '2017-04-29' '2017-04-30'\n",
            " '2017-05-01' '2017-05-02' '2017-05-03' '2017-05-04' '2017-05-05'\n",
            " '2017-05-06' '2017-05-07' '2017-05-08' '2017-05-09' '2017-05-10'\n",
            " '2017-05-11' '2017-05-12' '2017-05-13' '2017-05-14' '2017-05-15'\n",
            " '2017-05-16' '2017-05-17' '2017-05-18' '2017-05-19' '2017-05-20'\n",
            " '2017-05-21' '2017-05-22' '2017-05-23' '2017-05-24' '2017-05-25'\n",
            " '2017-05-26' '2017-05-27' '2017-05-28' '2017-05-29' '2017-05-30'\n",
            " '2017-05-31' '2017-06-01' '2017-06-02' '2017-06-03' '2017-06-04'\n",
            " '2017-06-05' '2017-06-06' '2017-06-07' '2017-06-08' '2017-06-09'\n",
            " '2017-06-10' '2017-06-11' '2017-06-12' '2017-06-13' '2017-06-14'\n",
            " '2017-06-15' '2017-06-16' '2017-06-17' '2017-06-18' '2017-06-19'\n",
            " '2017-06-20' '2017-06-21' '2017-06-22' '2017-06-23' '2017-06-24'\n",
            " '2017-06-25' '2017-06-26' '2017-06-27' '2017-06-28' '2017-06-29'\n",
            " '2017-06-30' '2017-07-01' '2017-07-02' '2017-07-03' '2017-07-04'\n",
            " '2017-07-05' '2017-07-06' '2017-07-07' '2017-07-08' '2017-07-09'\n",
            " '2017-07-10' '2017-07-11' '2017-07-12' '2017-07-13' '2017-07-14'\n",
            " '2017-07-15' '2017-07-16' '2017-07-17' '2017-07-18' '2017-07-19'\n",
            " '2017-07-20' '2017-07-21' '2017-07-22' '2017-07-23' '2017-07-24'\n",
            " '2017-07-25' '2017-07-26' '2017-07-27' '2017-07-28' '2017-07-29'\n",
            " '2017-07-30' '2017-07-31' '2017-08-01' '2017-08-02' '2017-08-03'\n",
            " '2017-08-04' '2017-08-05' '2017-08-06' '2017-08-07' '2017-08-08'\n",
            " '2017-08-09' '2017-08-10' '2017-08-11' '2017-08-12' '2017-08-13'\n",
            " '2017-08-14' '2017-08-15' '2017-08-16' '2017-08-17' '2017-08-18'\n",
            " '2017-08-19' '2017-08-20' '2017-08-21' '2017-08-22' '2017-08-23'\n",
            " '2017-08-24' '2017-08-25' '2017-08-26' '2017-08-27' '2017-08-28'\n",
            " '2017-08-29' '2017-08-30' '2017-08-31' '2017-09-01' '2017-09-02'\n",
            " '2017-09-03' '2017-09-04' '2017-09-05' '2017-09-06' '2017-09-07'\n",
            " '2017-09-08' '2017-09-09' '2017-09-10' '2017-09-11' '2017-09-12'\n",
            " '2017-09-13' '2017-09-14' '2017-09-15' '2017-09-16' '2017-09-17'\n",
            " '2017-09-18' '2017-09-19' '2017-09-20' '2017-09-21' '2017-09-22'\n",
            " '2017-09-23' '2017-09-24' '2017-09-25' '2017-09-26' '2017-09-27'\n",
            " '2017-09-28' '2017-09-29' '2017-09-30' '2017-10-01' '2017-10-02'\n",
            " '2017-10-03' '2017-10-04' '2017-10-05' '2017-10-06' '2017-10-07'\n",
            " '2017-10-08' '2017-10-09' '2017-10-10' '2017-10-11' '2017-10-12'\n",
            " '2017-10-13' '2017-10-14' '2017-10-15' '2017-10-16' '2017-10-17'\n",
            " '2017-10-18' '2017-10-19' '2017-10-20' '2017-10-21' '2017-10-22'\n",
            " '2017-10-23' '2017-10-24' '2017-10-25' '2017-10-26' '2017-10-27'\n",
            " '2017-10-28' '2017-10-29' '2017-10-30' '2017-10-31' '2017-11-01'\n",
            " '2017-11-02' '2017-11-03' '2017-11-04' '2017-11-05' '2017-11-06'\n",
            " '2017-11-07' '2017-11-08' '2017-11-09' '2017-11-10' '2017-11-11'\n",
            " '2017-11-12' '2017-11-13' '2017-11-14' '2017-11-15' '2017-11-16'\n",
            " '2017-11-17' '2017-11-18' '2017-11-19' '2017-11-20' '2017-11-21'\n",
            " '2017-11-22' '2017-11-23' '2017-11-24' '2017-11-25' '2017-11-26'\n",
            " '2017-11-27' '2017-11-28' '2017-11-29' '2017-11-30' '2017-12-01'\n",
            " '2017-12-02' '2017-12-03' '2017-12-04' '2017-12-05' '2017-12-06'\n",
            " '2017-12-07' '2017-12-08' '2017-12-09' '2017-12-10' '2017-12-11'\n",
            " '2017-12-12' '2017-12-13' '2017-12-14' '2017-12-15' '2017-12-16'\n",
            " '2017-12-17' '2017-12-18' '2017-12-19' '2017-12-20' '2017-12-21'\n",
            " '2017-12-22' '2017-12-23' '2017-12-24' '2017-12-25' '2017-12-26'\n",
            " '2017-12-27' '2017-12-28' '2017-12-29' '2017-12-30' '2017-12-31'\n",
            " '2018-01-01' '2018-01-02' '2018-01-03' '2018-01-04' '2018-01-05'\n",
            " '2018-01-06' '2018-01-07' '2018-01-08' '2018-01-09' '2018-01-10'\n",
            " '2018-01-11' '2018-01-12' '2018-01-13' '2018-01-14' '2018-01-15'\n",
            " '2018-01-16' '2018-01-17' '2018-01-18' '2018-01-19' '2018-01-20'\n",
            " '2018-01-21' '2018-01-22' '2018-01-23' '2018-01-24' '2018-01-25'\n",
            " '2018-01-26' '2018-01-27' '2018-01-28' '2018-01-29' '2018-01-30'\n",
            " '2018-01-31' '2018-02-01' '2018-02-02' '2018-02-03' '2018-02-04'\n",
            " '2018-02-05' '2018-02-06' '2018-02-07' '2018-02-08' '2018-02-09'\n",
            " '2018-02-10' '2018-02-11' '2018-02-12' '2018-02-13' '2018-02-14'\n",
            " '2018-02-15' '2018-02-16' '2018-02-17' '2018-02-18' '2018-02-19'\n",
            " '2018-02-20' '2018-02-21' '2018-02-22' '2018-02-23' '2018-02-24'\n",
            " '2018-02-25' '2018-02-26' '2018-02-27' '2018-02-28' '2018-03-01'\n",
            " '2018-03-02' '2018-03-03' '2018-03-04' '2018-03-05' '2018-03-06'\n",
            " '2018-03-07' '2018-03-08' '2018-03-09' '2018-03-10' '2018-03-11'\n",
            " '2018-03-12' '2018-03-13' '2018-03-14' '2018-03-15' '2018-03-16'\n",
            " '2018-03-17' '2018-03-18' '2018-03-19' '2018-03-20' '2018-03-21'\n",
            " '2018-03-22' '2018-03-23' '2018-03-24' '2018-03-25' '2018-03-26'\n",
            " '2018-03-27' '2018-03-28' '2018-03-29' '2018-03-30' '2018-03-31'\n",
            " '2018-04-01' '2018-04-02' '2018-04-03' '2018-04-04' '2018-04-05'\n",
            " '2018-04-06' '2018-04-07' '2018-04-08' '2018-04-09' '2018-04-10'\n",
            " '2018-04-11' '2018-04-12' '2018-04-13' '2018-04-14' '2018-04-15'\n",
            " '2018-04-16' '2018-04-17' '2018-04-18' '2018-04-19' '2018-04-20'\n",
            " '2018-04-21' '2018-04-22' '2018-04-23' '2018-04-24' '2018-04-25'\n",
            " '2018-04-26' '2018-04-27' '2018-04-28' '2018-04-29' '2018-04-30'\n",
            " '2018-05-01' '2018-05-02' '2018-05-03' '2018-05-04' '2018-05-05'\n",
            " '2018-05-06' '2018-05-07' '2018-05-08' '2018-05-09' '2018-05-10'\n",
            " '2018-05-11' '2018-05-12' '2018-05-13' '2018-05-14' '2018-05-15'\n",
            " '2018-05-16' '2018-05-17' '2018-05-18' '2018-05-19' '2018-05-20'\n",
            " '2018-05-21' '2018-05-22' '2018-05-23' '2018-05-24' '2018-05-25'\n",
            " '2018-05-26' '2018-05-27' '2018-05-28' '2018-05-29' '2018-05-30'\n",
            " '2018-05-31' '2018-06-01' '2018-06-02' '2018-06-03' '2018-06-04'\n",
            " '2018-06-05' '2018-06-06' '2018-06-07' '2018-06-08' '2018-06-09'\n",
            " '2018-06-10' '2018-06-11' '2018-06-12' '2018-06-13' '2018-06-14'\n",
            " '2018-06-15' '2018-06-16' '2018-06-17' '2018-06-18' '2018-06-19'\n",
            " '2018-06-20' '2018-06-21' '2018-06-22' '2018-06-23' '2018-06-24'\n",
            " '2018-06-25' '2018-06-26' '2018-06-27' '2018-06-28' '2018-06-29'\n",
            " '2018-06-30' '2018-07-01' '2018-07-02' '2018-07-03' '2018-07-04'\n",
            " '2018-07-05' '2018-07-06' '2018-07-07' '2018-07-08' '2018-07-09'\n",
            " '2018-07-10' '2018-07-11' '2018-07-12' '2018-07-13' '2018-07-14'\n",
            " '2018-07-15' '2018-07-16' '2018-07-17' '2018-07-18' '2018-07-19'\n",
            " '2018-07-20' '2018-07-21' '2018-07-22' '2018-07-23' '2018-07-24'\n",
            " '2018-07-25' '2018-07-26' '2018-07-27' '2018-07-28' '2018-07-29'\n",
            " '2018-07-30' '2018-07-31' '2018-08-01' '2018-08-02' '2018-08-03'\n",
            " '2018-08-04' '2018-08-05' '2018-08-06' '2018-08-07' '2018-08-08'\n",
            " '2018-08-09' '2018-08-10' '2018-08-11' '2018-08-12' '2018-08-13'\n",
            " '2018-08-14' '2018-08-15' '2018-08-16' '2018-08-17' '2018-08-18'\n",
            " '2018-08-19' '2018-08-20' '2018-08-21' '2018-08-22' '2018-08-23'\n",
            " '2018-08-24' '2018-08-25' '2018-08-26' '2018-08-27' '2018-08-28'\n",
            " '2018-08-29' '2018-08-30' '2018-08-31' '2018-09-01' '2018-09-02'\n",
            " '2018-09-03' '2018-09-04' '2018-09-05' '2018-09-06' '2018-09-07'\n",
            " '2018-09-08' '2018-09-09' '2018-09-10' '2018-09-11' '2018-09-12'\n",
            " '2018-09-13' '2018-09-14' '2018-09-15' '2018-09-16' '2018-09-17'\n",
            " '2018-09-18' '2018-09-19' '2018-09-20' '2018-09-21' '2018-09-22'\n",
            " '2018-09-23' '2018-09-24' '2018-09-25' '2018-09-26' '2018-09-27'\n",
            " '2018-09-28' '2018-09-29' '2018-09-30' '2018-10-01' '2018-10-02'\n",
            " '2018-10-03' '2018-10-04' '2018-10-05' '2018-10-06' '2018-10-07'\n",
            " '2018-10-08' '2018-10-09' '2018-10-10' '2018-10-11' '2018-10-12'\n",
            " '2018-10-13' '2018-10-14' '2018-10-15' '2018-10-16' '2018-10-17'\n",
            " '2018-10-18' '2018-10-19' '2018-10-20' '2018-10-21' '2018-10-22'\n",
            " '2018-10-23' '2018-10-24' '2018-10-25' '2018-10-26' '2018-10-27'\n",
            " '2018-10-28' '2018-10-29' '2018-10-30' '2018-10-31' '2018-11-01'\n",
            " '2018-11-02' '2018-11-03' '2018-11-04' '2018-11-05' '2018-11-06'\n",
            " '2018-11-07' '2018-11-08' '2018-11-09' '2018-11-10' '2018-11-11'\n",
            " '2018-11-12' '2018-11-13' '2018-11-14' '2018-11-15' '2018-11-16'\n",
            " '2018-11-17' '2018-11-18' '2018-11-19' '2018-11-20' '2018-11-21'\n",
            " '2018-11-22' '2018-11-23' '2018-11-24' '2018-11-25' '2018-11-26'\n",
            " '2018-11-27' '2018-11-28' '2018-11-29' '2018-11-30' '2018-12-01'\n",
            " '2018-12-02' '2018-12-03' '2018-12-04' '2018-12-05' '2018-12-06'\n",
            " '2018-12-07' '2018-12-08' '2018-12-09' '2018-12-10' '2018-12-11'\n",
            " '2018-12-12' '2018-12-13' '2018-12-14' '2018-12-15' '2018-12-16'\n",
            " '2018-12-17' '2018-12-18' '2018-12-19' '2018-12-20' '2018-12-21'\n",
            " '2018-12-22' '2018-12-23' '2018-12-24' '2018-12-25' '2018-12-26'\n",
            " '2018-12-27' '2018-12-28' '2018-12-29' '2018-12-30' '2018-12-31'\n",
            " '2019-01-01' '2019-01-02' '2019-01-03' '2019-01-04' '2019-01-05'\n",
            " '2019-01-06' '2019-01-07' '2019-01-08' '2019-01-09' '2019-01-10'\n",
            " '2019-01-11' '2019-01-12' '2019-01-13' '2019-01-14' '2019-01-15'\n",
            " '2019-01-16' '2019-01-17' '2019-01-18' '2019-01-19' '2019-01-20'\n",
            " '2019-01-21' '2019-01-22' '2019-01-23' '2019-01-24' '2019-01-25'\n",
            " '2019-01-26' '2019-01-27' '2019-01-28' '2019-01-29' '2019-01-30'\n",
            " '2019-01-31' '2019-02-01' '2019-02-02' '2019-02-03' '2019-02-04'\n",
            " '2019-02-05' '2019-02-06' '2019-02-07' '2019-02-08' '2019-02-09'\n",
            " '2019-02-10' '2019-02-11' '2019-02-12' '2019-02-13' '2019-02-14'\n",
            " '2019-02-15' '2019-02-16' '2019-02-17' '2019-02-18' '2019-02-19'\n",
            " '2019-02-20' '2019-02-21' '2019-02-22' '2019-02-23' '2019-02-24'\n",
            " '2019-02-25' '2019-02-26' '2019-02-27' '2019-02-28' '2019-03-01'\n",
            " '2019-03-02' '2019-03-03' '2019-03-04' '2019-03-05' '2019-03-06'\n",
            " '2019-03-07' '2019-03-08' '2019-03-09' '2019-03-10' '2019-03-11'\n",
            " '2019-03-12' '2019-03-13' '2019-03-14' '2019-03-15' '2019-03-16'\n",
            " '2019-03-17' '2019-03-18' '2019-03-19' '2019-03-20' '2019-03-21'\n",
            " '2019-03-22' '2019-03-23' '2019-03-24' '2019-03-25' '2019-03-26'\n",
            " '2019-03-27' '2019-03-28' '2019-03-29' '2019-03-30' '2019-03-31'\n",
            " '2019-04-01' '2019-04-02' '2019-04-03' '2019-04-04' '2019-04-05'\n",
            " '2019-04-06' '2019-04-07' '2019-04-08' '2019-04-09' '2019-04-10'\n",
            " '2019-04-11' '2019-04-12' '2019-04-13' '2019-04-14' '2019-04-15'\n",
            " '2019-04-16' '2019-04-17' '2019-04-18' '2019-04-19' '2019-04-20'\n",
            " '2019-04-21' '2019-04-22' '2019-04-23' '2019-04-24' '2019-04-25'\n",
            " '2019-04-26' '2019-04-27' '2019-04-28' '2019-04-29' '2019-04-30'\n",
            " '2019-05-01' '2019-05-02' '2019-05-03' '2019-05-04' '2019-05-05'\n",
            " '2019-05-06' '2019-05-07' '2019-05-08' '2019-05-09' '2019-05-10'\n",
            " '2019-05-11' '2019-05-12' '2019-05-13' '2019-05-14' '2019-05-15'\n",
            " '2019-05-16' '2019-05-17' '2019-05-18' '2019-05-19' '2019-05-20'\n",
            " '2019-05-21' '2019-05-22' '2019-05-23' '2019-05-24' '2019-05-25'\n",
            " '2019-05-26' '2019-05-27' '2019-05-28' '2019-05-29' '2019-05-30'\n",
            " '2019-05-31' '2019-06-01' '2019-06-02' '2019-06-03' '2019-06-04'\n",
            " '2019-06-05' '2019-06-06' '2019-06-07' '2019-06-08' '2019-06-09'\n",
            " '2019-06-10' '2019-06-11' '2019-06-12' '2019-06-13' '2019-06-14'\n",
            " '2019-06-15' '2019-06-16' '2019-06-17' '2019-06-18' '2019-06-19'\n",
            " '2019-06-20' '2019-06-21' '2019-06-22' '2019-06-23' '2019-06-24'\n",
            " '2019-06-25' '2019-06-26' '2019-06-27' '2019-06-28' '2019-06-29'\n",
            " '2019-06-30' '2019-07-01' '2019-07-02' '2019-07-03' '2019-07-04'\n",
            " '2019-07-05' '2019-07-06' '2019-07-07' '2019-07-08' '2019-07-09'\n",
            " '2019-07-10' '2019-07-11' '2019-07-12' '2019-07-13' '2019-07-14'\n",
            " '2019-07-15' '2019-07-16' '2019-07-17' '2019-07-18' '2019-07-19'\n",
            " '2019-07-20' '2019-07-21' '2019-07-22' '2019-07-23' '2019-07-24'\n",
            " '2019-07-25' '2019-07-26' '2019-07-27' '2019-07-28' '2019-07-29'\n",
            " '2019-07-30' '2019-07-31' '2019-08-01' '2019-08-02' '2019-08-03'\n",
            " '2019-08-04' '2019-08-05' '2019-08-06' '2019-08-07' '2019-08-08'\n",
            " '2019-08-09' '2019-08-10' '2019-08-11' '2019-08-12' '2019-08-13'\n",
            " '2019-08-14' '2019-08-15' '2019-08-16' '2019-08-17' '2019-08-18'\n",
            " '2019-08-19' '2019-08-20' '2019-08-21' '2019-08-22' '2019-08-23'\n",
            " '2019-08-24' '2019-08-25' '2019-08-26' '2019-08-27' '2019-08-28'\n",
            " '2019-08-29' '2019-08-30' '2019-08-31' '2019-09-01' '2019-09-02'\n",
            " '2019-09-03' '2019-09-04' '2019-09-05' '2019-09-06' '2019-09-07'\n",
            " '2019-09-08' '2019-09-09' '2019-09-10' '2019-09-11' '2019-09-12'\n",
            " '2019-09-13' '2019-09-14' '2019-09-15' '2019-09-16' '2019-09-17'\n",
            " '2019-09-18' '2019-09-19' '2019-09-20' '2019-09-21' '2019-09-22'\n",
            " '2019-09-23' '2019-09-24' '2019-09-25' '2019-09-26' '2019-09-27'\n",
            " '2019-09-28' '2019-09-29' '2019-09-30' '2019-10-01' '2019-10-02'\n",
            " '2019-10-03' '2019-10-04' '2019-10-05' '2019-10-06' '2019-10-07'\n",
            " '2019-10-08' '2019-10-09' '2019-10-10' '2019-10-11' '2019-10-12'\n",
            " '2019-10-13' '2019-10-14' '2019-10-15' '2019-10-16' '2019-10-17'\n",
            " '2019-10-18' '2019-10-19' '2019-10-20' '2019-10-21' '2019-10-22'\n",
            " '2019-10-23' '2019-10-24' '2019-10-25' '2019-10-26' '2019-10-27'\n",
            " '2019-10-28' '2019-10-29' '2019-10-30' '2019-10-31' '2019-11-01'\n",
            " '2019-11-02' '2019-11-03' '2019-11-04' '2019-11-05' '2019-11-06'\n",
            " '2019-11-07' '2019-11-08' '2019-11-09' '2019-11-10' '2019-11-11'\n",
            " '2019-11-12' '2019-11-13' '2019-11-14' '2019-11-15' '2019-11-16'\n",
            " '2019-11-17' '2019-11-18' '2019-11-19' '2019-11-20' '2019-11-21'\n",
            " '2019-11-22' '2019-11-23' '2019-11-24' '2019-11-25' '2019-11-26'\n",
            " '2019-11-27' '2019-11-28' '2019-11-29' '2019-11-30' '2019-12-01'\n",
            " '2019-12-02' '2019-12-03' '2019-12-04' '2019-12-05' '2019-12-06'\n",
            " '2019-12-07' '2019-12-08' '2019-12-09' '2019-12-10' '2019-12-11'\n",
            " '2019-12-12' '2019-12-13' '2019-12-14' '2019-12-15' '2019-12-16'\n",
            " '2019-12-17' '2019-12-18' '2019-12-19' '2019-12-20' '2019-12-21'\n",
            " '2019-12-22' '2019-12-23' '2019-12-24' '2019-12-25' '2019-12-26'\n",
            " '2019-12-27' '2019-12-28' '2019-12-29' '2019-12-30' '2019-12-31'\n",
            " '2020-01-01' '2020-01-02' '2020-01-03' '2020-01-04' '2020-01-05'\n",
            " '2020-01-06' '2020-01-07' '2020-01-08' '2020-01-09' '2020-01-10'\n",
            " '2020-01-11' '2020-01-12' '2020-01-13' '2020-01-14' '2020-01-15'\n",
            " '2020-01-16' '2020-01-17' '2020-01-18' '2020-01-19' '2020-01-20'\n",
            " '2020-01-21' '2020-01-22' '2020-01-23' '2020-01-24' '2020-01-25'\n",
            " '2020-01-26' '2020-01-27' '2020-01-28' '2020-01-29' '2020-01-30'\n",
            " '2020-01-31' '2020-02-01' '2020-02-02' '2020-02-03' '2020-02-04'\n",
            " '2020-02-05' '2020-02-06' '2020-02-07' '2020-02-08' '2020-02-09'\n",
            " '2020-02-10' '2020-02-11' '2020-02-12' '2020-02-13' '2020-02-14'\n",
            " '2020-02-15' '2020-02-16' '2020-02-17' '2020-02-18' '2020-02-19'\n",
            " '2020-02-20' '2020-02-21' '2020-02-22' '2020-02-23' '2020-02-24'\n",
            " '2020-02-25' '2020-02-26' '2020-02-27' '2020-02-28' '2020-02-29'\n",
            " '2020-03-01' '2020-03-02' '2020-03-03' '2020-03-04' '2020-03-05'\n",
            " '2020-03-06' '2020-03-07' '2020-03-08' '2020-03-09' '2020-03-10'\n",
            " '2020-03-11' '2020-03-12' '2020-03-13' '2020-03-14' '2020-03-15'\n",
            " '2020-03-16' '2020-03-17' '2020-03-18' '2020-03-19' '2020-03-20'\n",
            " '2020-03-21' '2020-03-22' '2020-03-23' '2020-03-24' '2020-03-25'\n",
            " '2020-03-26' '2020-03-27' '2020-03-28' '2020-03-29' '2020-03-30'\n",
            " '2020-03-31' '2020-04-01' '2020-04-02' '2020-04-03' '2020-04-04'\n",
            " '2020-04-05' '2020-04-06' '2020-04-07' '2020-04-08' '2020-04-09'\n",
            " '2020-04-10' '2020-04-11' '2020-04-12' '2020-04-13' '2020-04-14'\n",
            " '2020-04-15' '2020-04-16' '2020-04-17' '2020-04-18' '2020-04-19'\n",
            " '2020-04-20' '2020-04-21' '2020-04-22' '2020-04-23' '2020-04-24'\n",
            " '2020-04-25' '2020-04-26' '2020-04-27' '2020-04-28' '2020-04-29'\n",
            " '2020-04-30' '2020-05-01' '2020-05-02' '2020-05-03' '2020-05-04'\n",
            " '2020-05-05' '2020-05-06' '2020-05-07' '2020-05-08' '2020-05-09'\n",
            " '2020-05-10' '2020-05-11' '2020-05-12' '2020-05-13' '2020-05-14'\n",
            " '2020-05-15' '2020-05-16' '2020-05-17' '2020-05-18' '2020-05-19'\n",
            " '2020-05-20' '2020-05-21' '2020-05-22' '2020-05-23' '2020-05-24'\n",
            " '2020-05-25' '2020-05-26' '2020-05-27' '2020-05-28' '2020-05-29'\n",
            " '2020-05-30' '2020-05-31' '2020-06-01' '2020-06-02' '2020-06-03'\n",
            " '2020-06-04' '2020-06-05' '2020-06-06' '2020-06-07' '2020-06-08'\n",
            " '2020-06-09' '2020-06-10' '2020-06-11' '2020-06-12' '2020-06-13'\n",
            " '2020-06-14' '2020-06-15' '2020-06-16' '2020-06-17' '2020-06-18'\n",
            " '2020-06-19' '2020-06-20' '2020-06-21' '2020-06-22' '2020-06-23'\n",
            " '2020-06-24' '2020-06-25' '2020-06-26' '2020-06-27' '2020-06-28'\n",
            " '2020-06-29' '2020-06-30' '2020-07-01' '2020-07-02' '2020-07-03'\n",
            " '2020-07-04' '2020-07-05' '2020-07-06' '2020-07-07' '2020-07-08'\n",
            " '2020-07-09' '2020-07-10' '2020-07-11' '2020-07-12' '2020-07-13'\n",
            " '2020-07-14' '2020-07-15' '2020-07-16' '2020-07-17' '2020-07-18'\n",
            " '2020-07-19' '2020-07-20' '2020-07-21' '2020-07-22' '2020-07-23'\n",
            " '2020-07-24' '2020-07-25' '2020-07-26' '2020-07-27' '2020-07-28'\n",
            " '2020-07-29' '2020-07-30' '2020-07-31']\n"
          ]
        }
      ],
      "source": [
        "print(np.arange('2012-07', '2020-08',\n",
        "                dtype='datetime64[D]'))"
      ]
    },
    {
      "cell_type": "markdown",
      "metadata": {
        "id": "wJR68EuJc30e"
      },
      "source": [
        "#### 35. How to compute ((A+B)\\*(-A/2)) in place (without copy)? (★★☆) \n",
        "(**hint**: np.add(out=), np.negative(out=), np.multiply(out=), np.divide(out=))"
      ]
    },
    {
      "cell_type": "code",
      "execution_count": 90,
      "metadata": {
        "id": "gYLV34kUc30e",
        "colab": {
          "base_uri": "https://localhost:8080/"
        },
        "outputId": "006c75ac-ab6b-4f39-80c2-7c60da4693a0"
      },
      "outputs": [
        {
          "output_type": "execute_result",
          "data": {
            "text/plain": [
              "array([-1.5, -1.5, -1.5])"
            ]
          },
          "metadata": {},
          "execution_count": 90
        }
      ],
      "source": [
        "A = np.ones(3)*1\n",
        "B = np.ones(3)*2\n",
        "np.add(A,B,out=B)\n",
        "np.divide(A,2,out=A)\n",
        "np.negative(A,out=A)\n",
        "np.multiply(A,B,out=A)"
      ]
    },
    {
      "cell_type": "markdown",
      "metadata": {
        "id": "18OhrO6Fc30e"
      },
      "source": [
        "#### 36. Extract the integer part of a random array using 5 different methods (★★☆) \n",
        "(**hint**: %, np.floor, np.ceil, astype, np.trunc)"
      ]
    },
    {
      "cell_type": "code",
      "execution_count": 91,
      "metadata": {
        "id": "VQjI-Aqlc30e",
        "colab": {
          "base_uri": "https://localhost:8080/"
        },
        "outputId": "692f3cba-24f5-4f87-83ab-1d5375fae15e"
      },
      "outputs": [
        {
          "output_type": "stream",
          "name": "stdout",
          "text": [
            "[5. 3. 4. 6. 8. 6. 7. 8. 8. 9.]\n",
            "[5. 3. 4. 6. 8. 6. 7. 8. 8. 9.]\n",
            "[5. 3. 4. 6. 8. 6. 7. 8. 8. 9.]\n",
            "[5 3 4 6 8 6 7 8 8 9]\n",
            "[5. 3. 4. 6. 8. 6. 7. 8. 8. 9.]\n"
          ]
        }
      ],
      "source": [
        "Z = np.random.uniform(0,10,10)\n",
        "print (Z-Z%1)\n",
        "print (np.floor(Z))\n",
        "print (np.ceil(Z)-1)\n",
        "print (Z.astype(int))\n",
        "print (np.trunc(Z))"
      ]
    },
    {
      "cell_type": "markdown",
      "metadata": {
        "id": "qfBZXuMQc30f"
      },
      "source": [
        "#### 37. Create a 5x5 matrix with row values ranging from 0 to 4 (★★☆) \n",
        "(**hint**: np.arange)"
      ]
    },
    {
      "cell_type": "code",
      "execution_count": 92,
      "metadata": {
        "id": "S5wxSO67c30f",
        "colab": {
          "base_uri": "https://localhost:8080/"
        },
        "outputId": "2a774478-71cf-4e12-e75c-5c7253d916f5"
      },
      "outputs": [
        {
          "output_type": "stream",
          "name": "stdout",
          "text": [
            "Original array:\n",
            "[[0. 0. 0. 0. 0.]\n",
            " [0. 0. 0. 0. 0.]\n",
            " [0. 0. 0. 0. 0.]\n",
            " [0. 0. 0. 0. 0.]\n",
            " [0. 0. 0. 0. 0.]]\n",
            "Row values ranging from 0 to 4.\n",
            "[[0. 1. 2. 3. 4.]\n",
            " [0. 1. 2. 3. 4.]\n",
            " [0. 1. 2. 3. 4.]\n",
            " [0. 1. 2. 3. 4.]\n",
            " [0. 1. 2. 3. 4.]]\n"
          ]
        }
      ],
      "source": [
        "x = np.zeros((5,5))\n",
        "print(\"Original array:\")\n",
        "print(x)\n",
        "print(\"Row values ranging from 0 to 4.\")\n",
        "x += np.arange(5)\n",
        "print(x)"
      ]
    },
    {
      "cell_type": "markdown",
      "metadata": {
        "id": "uF7UYLZyc30f"
      },
      "source": [
        "#### 38. Consider a generator function that generates 10 integers and use it to build an array (★☆☆) \n",
        "(**hint**: np.fromiter)"
      ]
    },
    {
      "cell_type": "code",
      "execution_count": 93,
      "metadata": {
        "id": "_Hk1foiUc30f",
        "colab": {
          "base_uri": "https://localhost:8080/"
        },
        "outputId": "838b19e2-d908-4f53-8233-fb2884b3e26a"
      },
      "outputs": [
        {
          "output_type": "stream",
          "name": "stdout",
          "text": [
            "New array:\n",
            "[0. 1. 2. 3. 4. 5. 6. 7. 8. 9.]\n"
          ]
        }
      ],
      "source": [
        "def generate():\n",
        "   for n in range(10):\n",
        "       yield n\n",
        "nums = np.fromiter(generate(),dtype=float,count=-1)\n",
        "print(\"New array:\")\n",
        "print(nums)"
      ]
    },
    {
      "cell_type": "markdown",
      "metadata": {
        "id": "NTJD5tX_c30f"
      },
      "source": [
        "#### 39. Create a vector of size 10 with values ranging from 0 to 1, both excluded (★★☆) \n",
        "(**hint**: np.linspace)"
      ]
    },
    {
      "cell_type": "code",
      "execution_count": 94,
      "metadata": {
        "id": "lOh1Z4R_c30f",
        "colab": {
          "base_uri": "https://localhost:8080/"
        },
        "outputId": "f38aaf08-6894-476a-d7a8-98654ca3bd8b"
      },
      "outputs": [
        {
          "output_type": "stream",
          "name": "stdout",
          "text": [
            "[0.09090909 0.18181818 0.27272727 0.36363636 0.45454545 0.54545455\n",
            " 0.63636364 0.72727273 0.81818182 0.90909091]\n"
          ]
        }
      ],
      "source": [
        "x = np.linspace(0,1,12,endpoint=True)[1:-1]\n",
        "print(x)"
      ]
    },
    {
      "cell_type": "markdown",
      "metadata": {
        "id": "zT4I6LATc30g"
      },
      "source": [
        "#### 40. Create a random vector of size 10 and sort it (★★☆) \n",
        "(**hint**: sort)"
      ]
    },
    {
      "cell_type": "code",
      "execution_count": 95,
      "metadata": {
        "id": "x0Ejf0zcc30g",
        "colab": {
          "base_uri": "https://localhost:8080/"
        },
        "outputId": "1e12c017-d798-43cd-fac9-1583c92d1e25"
      },
      "outputs": [
        {
          "output_type": "stream",
          "name": "stdout",
          "text": [
            "[0.12951388 0.32541813 0.33209951 0.40235476 0.40514626 0.43208921\n",
            " 0.55390567 0.60026024 0.6837326  0.86702563]\n"
          ]
        }
      ],
      "source": [
        "x = np.random.random(10)\n",
        "print(np.sort(x))"
      ]
    },
    {
      "cell_type": "markdown",
      "metadata": {
        "id": "eBFNHZ2ac30g"
      },
      "source": [
        "#### 41. How to sum a small array faster than np.sum? (★★☆) \n",
        "(**hint**: np.add.reduce)"
      ]
    },
    {
      "cell_type": "code",
      "execution_count": 96,
      "metadata": {
        "id": "4khDPAWtc30g",
        "colab": {
          "base_uri": "https://localhost:8080/"
        },
        "outputId": "ac1530f1-1a7a-485d-b77a-c695224185d9"
      },
      "outputs": [
        {
          "output_type": "execute_result",
          "data": {
            "text/plain": [
              "5.084372376702478"
            ]
          },
          "metadata": {},
          "execution_count": 96
        }
      ],
      "source": [
        "x = np.random.random(10)\n",
        "np.add.reduce(x)"
      ]
    },
    {
      "cell_type": "markdown",
      "metadata": {
        "id": "Jpf7v1Zoc30h"
      },
      "source": [
        "#### 42. Consider two random array A and B, check if they are equal (★★☆) \n",
        "(**hint**: np.allclose, np.array\\_equal)"
      ]
    },
    {
      "cell_type": "code",
      "execution_count": 97,
      "metadata": {
        "id": "WCnwLc5wc30h",
        "colab": {
          "base_uri": "https://localhost:8080/"
        },
        "outputId": "27dcb78b-fb0f-480c-a15a-a317963c3504"
      },
      "outputs": [
        {
          "output_type": "stream",
          "name": "stdout",
          "text": [
            "First array:\n",
            "[1 0 0 0 0 1]\n",
            "Second array:\n",
            "[1 1 0 1 0 1]\n",
            "Test above two arrays are equal or not!\n",
            "False\n"
          ]
        }
      ],
      "source": [
        "x = np.random.randint(0,2,6)\n",
        "print(\"First array:\")\n",
        "print(x)\n",
        "y = np.random.randint(0,2,6)\n",
        "print(\"Second array:\")\n",
        "print(y)\n",
        "print(\"Test above two arrays are equal or not!\")\n",
        "array_equal = np.allclose(x, y)\n",
        "print(array_equal)"
      ]
    },
    {
      "cell_type": "markdown",
      "metadata": {
        "id": "4Osz_cbpc30h"
      },
      "source": [
        "#### 43. Make an array immutable (read-only) (★★☆) \n",
        "(**hint**: flags.writeable)"
      ]
    },
    {
      "cell_type": "code",
      "execution_count": 98,
      "metadata": {
        "id": "GXi2GMaOc30h",
        "colab": {
          "base_uri": "https://localhost:8080/",
          "height": 201
        },
        "outputId": "12fe0c79-071c-49a2-c309-13c7f03fcee0"
      },
      "outputs": [
        {
          "output_type": "error",
          "ename": "ValueError",
          "evalue": "ignored",
          "traceback": [
            "\u001b[0;31m---------------------------------------------------------------------------\u001b[0m",
            "\u001b[0;31mValueError\u001b[0m                                Traceback (most recent call last)",
            "\u001b[0;32m<ipython-input-98-d42873315ac2>\u001b[0m in \u001b[0;36m<module>\u001b[0;34m\u001b[0m\n\u001b[1;32m      1\u001b[0m \u001b[0mx\u001b[0m \u001b[0;34m=\u001b[0m \u001b[0mnp\u001b[0m\u001b[0;34m.\u001b[0m\u001b[0mzeros\u001b[0m\u001b[0;34m(\u001b[0m\u001b[0;36m5\u001b[0m\u001b[0;34m)\u001b[0m\u001b[0;34m\u001b[0m\u001b[0;34m\u001b[0m\u001b[0m\n\u001b[1;32m      2\u001b[0m \u001b[0mx\u001b[0m\u001b[0;34m.\u001b[0m\u001b[0mflags\u001b[0m\u001b[0;34m.\u001b[0m\u001b[0mwriteable\u001b[0m \u001b[0;34m=\u001b[0m \u001b[0;32mFalse\u001b[0m\u001b[0;34m\u001b[0m\u001b[0;34m\u001b[0m\u001b[0m\n\u001b[0;32m----> 3\u001b[0;31m \u001b[0mx\u001b[0m\u001b[0;34m[\u001b[0m\u001b[0;36m0\u001b[0m\u001b[0;34m]\u001b[0m \u001b[0;34m=\u001b[0m \u001b[0;36m1\u001b[0m\u001b[0;34m\u001b[0m\u001b[0;34m\u001b[0m\u001b[0m\n\u001b[0m",
            "\u001b[0;31mValueError\u001b[0m: assignment destination is read-only"
          ]
        }
      ],
      "source": [
        "x = np.zeros(5)\n",
        "x.flags.writeable = False\n",
        "x[0] = 1"
      ]
    },
    {
      "cell_type": "markdown",
      "metadata": {
        "id": "cvQUASkQc30h"
      },
      "source": [
        "#### 44. Consider a random 10x2 matrix representing cartesian coordinates, convert them to polar coordinates (★★☆) \n",
        "(**hint**: np.sqrt, np.arctan2)"
      ]
    },
    {
      "cell_type": "code",
      "execution_count": 99,
      "metadata": {
        "id": "N8AgBbWRc30h",
        "colab": {
          "base_uri": "https://localhost:8080/"
        },
        "outputId": "896ce46c-0bdb-4a8a-edea-3152b7032c66"
      },
      "outputs": [
        {
          "output_type": "stream",
          "name": "stdout",
          "text": [
            "[0.91651176 1.03944972 0.53544428 0.97524359 0.13226693 0.88298056\n",
            " 0.14937459 0.37074465 0.90418413 0.41804351]\n",
            "[1.21129793 0.37800259 1.4806082  1.5336923  1.3982673  0.79766952\n",
            " 0.25588706 1.07366887 1.10216855 0.80026642]\n"
          ]
        }
      ],
      "source": [
        "z= np.random.random((10,2))\n",
        "x,y = z[:,0], z[:,1]\n",
        "r = np.sqrt(x**2+y**2)\n",
        "t = np.arctan2(y,x)\n",
        "print(r)\n",
        "print(t)"
      ]
    },
    {
      "cell_type": "markdown",
      "metadata": {
        "id": "sdtlLcB7c30h"
      },
      "source": [
        "#### 45. Create random vector of size 10 and replace the maximum value by 0 (★★☆) \n",
        "(**hint**: argmax)"
      ]
    },
    {
      "cell_type": "code",
      "execution_count": 100,
      "metadata": {
        "id": "hW6eaMIGc30h",
        "colab": {
          "base_uri": "https://localhost:8080/"
        },
        "outputId": "15eb0901-53d4-40c6-d782-aba44c2f49d2"
      },
      "outputs": [
        {
          "output_type": "stream",
          "name": "stdout",
          "text": [
            "Original array:\n",
            "[0.73493758 0.58534809 0.962519   0.47134466 0.32444254 0.83530154\n",
            " 0.15870729 0.81213038 0.74384739 0.11183258]\n",
            "Maximum value replaced by 0:\n",
            "[0.73493758 0.58534809 0.         0.47134466 0.32444254 0.83530154\n",
            " 0.15870729 0.81213038 0.74384739 0.11183258]\n"
          ]
        }
      ],
      "source": [
        "x = np.random.random(10)\n",
        "print(\"Original array:\")\n",
        "print(x)\n",
        "x[x.argmax()] = 0\n",
        "print(\"Maximum value replaced by 0:\")\n",
        "print(x)"
      ]
    },
    {
      "cell_type": "markdown",
      "metadata": {
        "id": "YodBhNR6c30h"
      },
      "source": [
        "#### 46. Create a structured array with `x` and `y` coordinates covering the \\[0,1\\]x\\[0,1\\] area (★★☆) \n",
        "(**hint**: np.meshgrid)"
      ]
    },
    {
      "cell_type": "code",
      "execution_count": 101,
      "metadata": {
        "id": "vrScxO2Tc30i",
        "colab": {
          "base_uri": "https://localhost:8080/"
        },
        "outputId": "591dd47b-768d-44a5-f8af-bbb997137ee4"
      },
      "outputs": [
        {
          "output_type": "stream",
          "name": "stdout",
          "text": [
            "[[(0.        , 0.        ) (0.11111111, 0.        )\n",
            "  (0.22222222, 0.        ) (0.33333333, 0.        )\n",
            "  (0.44444444, 0.        ) (0.55555556, 0.        )\n",
            "  (0.66666667, 0.        ) (0.77777778, 0.        )\n",
            "  (0.88888889, 0.        ) (1.        , 0.        )]\n",
            " [(0.        , 0.11111111) (0.11111111, 0.11111111)\n",
            "  (0.22222222, 0.11111111) (0.33333333, 0.11111111)\n",
            "  (0.44444444, 0.11111111) (0.55555556, 0.11111111)\n",
            "  (0.66666667, 0.11111111) (0.77777778, 0.11111111)\n",
            "  (0.88888889, 0.11111111) (1.        , 0.11111111)]\n",
            " [(0.        , 0.22222222) (0.11111111, 0.22222222)\n",
            "  (0.22222222, 0.22222222) (0.33333333, 0.22222222)\n",
            "  (0.44444444, 0.22222222) (0.55555556, 0.22222222)\n",
            "  (0.66666667, 0.22222222) (0.77777778, 0.22222222)\n",
            "  (0.88888889, 0.22222222) (1.        , 0.22222222)]\n",
            " [(0.        , 0.33333333) (0.11111111, 0.33333333)\n",
            "  (0.22222222, 0.33333333) (0.33333333, 0.33333333)\n",
            "  (0.44444444, 0.33333333) (0.55555556, 0.33333333)\n",
            "  (0.66666667, 0.33333333) (0.77777778, 0.33333333)\n",
            "  (0.88888889, 0.33333333) (1.        , 0.33333333)]\n",
            " [(0.        , 0.44444444) (0.11111111, 0.44444444)\n",
            "  (0.22222222, 0.44444444) (0.33333333, 0.44444444)\n",
            "  (0.44444444, 0.44444444) (0.55555556, 0.44444444)\n",
            "  (0.66666667, 0.44444444) (0.77777778, 0.44444444)\n",
            "  (0.88888889, 0.44444444) (1.        , 0.44444444)]\n",
            " [(0.        , 0.55555556) (0.11111111, 0.55555556)\n",
            "  (0.22222222, 0.55555556) (0.33333333, 0.55555556)\n",
            "  (0.44444444, 0.55555556) (0.55555556, 0.55555556)\n",
            "  (0.66666667, 0.55555556) (0.77777778, 0.55555556)\n",
            "  (0.88888889, 0.55555556) (1.        , 0.55555556)]\n",
            " [(0.        , 0.66666667) (0.11111111, 0.66666667)\n",
            "  (0.22222222, 0.66666667) (0.33333333, 0.66666667)\n",
            "  (0.44444444, 0.66666667) (0.55555556, 0.66666667)\n",
            "  (0.66666667, 0.66666667) (0.77777778, 0.66666667)\n",
            "  (0.88888889, 0.66666667) (1.        , 0.66666667)]\n",
            " [(0.        , 0.77777778) (0.11111111, 0.77777778)\n",
            "  (0.22222222, 0.77777778) (0.33333333, 0.77777778)\n",
            "  (0.44444444, 0.77777778) (0.55555556, 0.77777778)\n",
            "  (0.66666667, 0.77777778) (0.77777778, 0.77777778)\n",
            "  (0.88888889, 0.77777778) (1.        , 0.77777778)]\n",
            " [(0.        , 0.88888889) (0.11111111, 0.88888889)\n",
            "  (0.22222222, 0.88888889) (0.33333333, 0.88888889)\n",
            "  (0.44444444, 0.88888889) (0.55555556, 0.88888889)\n",
            "  (0.66666667, 0.88888889) (0.77777778, 0.88888889)\n",
            "  (0.88888889, 0.88888889) (1.        , 0.88888889)]\n",
            " [(0.        , 1.        ) (0.11111111, 1.        )\n",
            "  (0.22222222, 1.        ) (0.33333333, 1.        )\n",
            "  (0.44444444, 1.        ) (0.55555556, 1.        )\n",
            "  (0.66666667, 1.        ) (0.77777778, 1.        )\n",
            "  (0.88888889, 1.        ) (1.        , 1.        )]]\n"
          ]
        }
      ],
      "source": [
        "Z = np.zeros((10,10), [('x',float),('y',float)])\n",
        "Z['x'], Z['y'] = np.meshgrid(np.linspace(0,1,10),\n",
        "                             np.linspace(0,1,10))\n",
        "print(Z)"
      ]
    },
    {
      "cell_type": "markdown",
      "metadata": {
        "id": "EMTXWHyfc30i"
      },
      "source": [
        "####  47. Given two arrays, X and Y, construct the Cauchy matrix C (Cij =1/(xi - yj)) \n",
        "(**hint**: np.subtract.outer)"
      ]
    },
    {
      "cell_type": "code",
      "execution_count": 102,
      "metadata": {
        "id": "m2r0uPgtc30i",
        "colab": {
          "base_uri": "https://localhost:8080/"
        },
        "outputId": "a2347273-cf96-4ae3-89f1-3de2ba768446"
      },
      "outputs": [
        {
          "output_type": "stream",
          "name": "stdout",
          "text": [
            "3638.163637117973\n"
          ]
        }
      ],
      "source": [
        "X = np.arange(8)\n",
        "Y = X + 0.5\n",
        "C = 1.0 / np.subtract.outer(X, Y)\n",
        "print(np.linalg.det(C))"
      ]
    },
    {
      "cell_type": "markdown",
      "metadata": {
        "id": "DXIKpaGJc30i"
      },
      "source": [
        "#### 48. Print the minimum and maximum representable value for each numpy scalar type (★★☆) \n",
        "(**hint**: np.iinfo, np.finfo, eps)"
      ]
    },
    {
      "cell_type": "code",
      "execution_count": 103,
      "metadata": {
        "id": "RMFgBadoc30i",
        "colab": {
          "base_uri": "https://localhost:8080/"
        },
        "outputId": "31b88a7f-e0de-493f-97d4-2e5200ac6163"
      },
      "outputs": [
        {
          "output_type": "stream",
          "name": "stdout",
          "text": [
            "-128\n",
            "127\n",
            "-2147483648\n",
            "2147483647\n",
            "-9223372036854775808\n",
            "9223372036854775807\n",
            "-3.4028235e+38\n",
            "3.4028235e+38\n",
            "1.1920929e-07\n",
            "-1.7976931348623157e+308\n",
            "1.7976931348623157e+308\n",
            "2.220446049250313e-16\n"
          ]
        }
      ],
      "source": [
        "for dtype in [np.int8, np.int32, np.int64]:\n",
        "   print(np.iinfo(dtype).min)\n",
        "   print(np.iinfo(dtype).max)\n",
        "for dtype in [np.float32, np.float64]:\n",
        "   print(np.finfo(dtype).min)\n",
        "   print(np.finfo(dtype).max)\n",
        "   print(np.finfo(dtype).eps)"
      ]
    },
    {
      "cell_type": "markdown",
      "metadata": {
        "id": "Suz0zlgYc30i"
      },
      "source": [
        "#### 49. How to print all the values of an array? (★★☆) \n",
        "(**hint**: np.set\\_printoptions)"
      ]
    },
    {
      "cell_type": "code",
      "execution_count": 104,
      "metadata": {
        "id": "uRDezoUyc30i",
        "colab": {
          "base_uri": "https://localhost:8080/"
        },
        "outputId": "1b77fab1-b9e6-4412-fffa-1961b7c468ad"
      },
      "outputs": [
        {
          "output_type": "stream",
          "name": "stdout",
          "text": [
            "[[0. 0. 0. 0. 0. 0. 0. 0. 0. 0. 0. 0. 0. 0. 0. 0. 0. 0. 0. 0. 0. 0. 0. 0.\n",
            "  0. 0. 0. 0. 0. 0. 0. 0. 0. 0. 0. 0. 0. 0. 0. 0.]\n",
            " [0. 0. 0. 0. 0. 0. 0. 0. 0. 0. 0. 0. 0. 0. 0. 0. 0. 0. 0. 0. 0. 0. 0. 0.\n",
            "  0. 0. 0. 0. 0. 0. 0. 0. 0. 0. 0. 0. 0. 0. 0. 0.]\n",
            " [0. 0. 0. 0. 0. 0. 0. 0. 0. 0. 0. 0. 0. 0. 0. 0. 0. 0. 0. 0. 0. 0. 0. 0.\n",
            "  0. 0. 0. 0. 0. 0. 0. 0. 0. 0. 0. 0. 0. 0. 0. 0.]\n",
            " [0. 0. 0. 0. 0. 0. 0. 0. 0. 0. 0. 0. 0. 0. 0. 0. 0. 0. 0. 0. 0. 0. 0. 0.\n",
            "  0. 0. 0. 0. 0. 0. 0. 0. 0. 0. 0. 0. 0. 0. 0. 0.]\n",
            " [0. 0. 0. 0. 0. 0. 0. 0. 0. 0. 0. 0. 0. 0. 0. 0. 0. 0. 0. 0. 0. 0. 0. 0.\n",
            "  0. 0. 0. 0. 0. 0. 0. 0. 0. 0. 0. 0. 0. 0. 0. 0.]\n",
            " [0. 0. 0. 0. 0. 0. 0. 0. 0. 0. 0. 0. 0. 0. 0. 0. 0. 0. 0. 0. 0. 0. 0. 0.\n",
            "  0. 0. 0. 0. 0. 0. 0. 0. 0. 0. 0. 0. 0. 0. 0. 0.]\n",
            " [0. 0. 0. 0. 0. 0. 0. 0. 0. 0. 0. 0. 0. 0. 0. 0. 0. 0. 0. 0. 0. 0. 0. 0.\n",
            "  0. 0. 0. 0. 0. 0. 0. 0. 0. 0. 0. 0. 0. 0. 0. 0.]\n",
            " [0. 0. 0. 0. 0. 0. 0. 0. 0. 0. 0. 0. 0. 0. 0. 0. 0. 0. 0. 0. 0. 0. 0. 0.\n",
            "  0. 0. 0. 0. 0. 0. 0. 0. 0. 0. 0. 0. 0. 0. 0. 0.]\n",
            " [0. 0. 0. 0. 0. 0. 0. 0. 0. 0. 0. 0. 0. 0. 0. 0. 0. 0. 0. 0. 0. 0. 0. 0.\n",
            "  0. 0. 0. 0. 0. 0. 0. 0. 0. 0. 0. 0. 0. 0. 0. 0.]\n",
            " [0. 0. 0. 0. 0. 0. 0. 0. 0. 0. 0. 0. 0. 0. 0. 0. 0. 0. 0. 0. 0. 0. 0. 0.\n",
            "  0. 0. 0. 0. 0. 0. 0. 0. 0. 0. 0. 0. 0. 0. 0. 0.]\n",
            " [0. 0. 0. 0. 0. 0. 0. 0. 0. 0. 0. 0. 0. 0. 0. 0. 0. 0. 0. 0. 0. 0. 0. 0.\n",
            "  0. 0. 0. 0. 0. 0. 0. 0. 0. 0. 0. 0. 0. 0. 0. 0.]\n",
            " [0. 0. 0. 0. 0. 0. 0. 0. 0. 0. 0. 0. 0. 0. 0. 0. 0. 0. 0. 0. 0. 0. 0. 0.\n",
            "  0. 0. 0. 0. 0. 0. 0. 0. 0. 0. 0. 0. 0. 0. 0. 0.]\n",
            " [0. 0. 0. 0. 0. 0. 0. 0. 0. 0. 0. 0. 0. 0. 0. 0. 0. 0. 0. 0. 0. 0. 0. 0.\n",
            "  0. 0. 0. 0. 0. 0. 0. 0. 0. 0. 0. 0. 0. 0. 0. 0.]\n",
            " [0. 0. 0. 0. 0. 0. 0. 0. 0. 0. 0. 0. 0. 0. 0. 0. 0. 0. 0. 0. 0. 0. 0. 0.\n",
            "  0. 0. 0. 0. 0. 0. 0. 0. 0. 0. 0. 0. 0. 0. 0. 0.]\n",
            " [0. 0. 0. 0. 0. 0. 0. 0. 0. 0. 0. 0. 0. 0. 0. 0. 0. 0. 0. 0. 0. 0. 0. 0.\n",
            "  0. 0. 0. 0. 0. 0. 0. 0. 0. 0. 0. 0. 0. 0. 0. 0.]\n",
            " [0. 0. 0. 0. 0. 0. 0. 0. 0. 0. 0. 0. 0. 0. 0. 0. 0. 0. 0. 0. 0. 0. 0. 0.\n",
            "  0. 0. 0. 0. 0. 0. 0. 0. 0. 0. 0. 0. 0. 0. 0. 0.]\n",
            " [0. 0. 0. 0. 0. 0. 0. 0. 0. 0. 0. 0. 0. 0. 0. 0. 0. 0. 0. 0. 0. 0. 0. 0.\n",
            "  0. 0. 0. 0. 0. 0. 0. 0. 0. 0. 0. 0. 0. 0. 0. 0.]\n",
            " [0. 0. 0. 0. 0. 0. 0. 0. 0. 0. 0. 0. 0. 0. 0. 0. 0. 0. 0. 0. 0. 0. 0. 0.\n",
            "  0. 0. 0. 0. 0. 0. 0. 0. 0. 0. 0. 0. 0. 0. 0. 0.]\n",
            " [0. 0. 0. 0. 0. 0. 0. 0. 0. 0. 0. 0. 0. 0. 0. 0. 0. 0. 0. 0. 0. 0. 0. 0.\n",
            "  0. 0. 0. 0. 0. 0. 0. 0. 0. 0. 0. 0. 0. 0. 0. 0.]\n",
            " [0. 0. 0. 0. 0. 0. 0. 0. 0. 0. 0. 0. 0. 0. 0. 0. 0. 0. 0. 0. 0. 0. 0. 0.\n",
            "  0. 0. 0. 0. 0. 0. 0. 0. 0. 0. 0. 0. 0. 0. 0. 0.]\n",
            " [0. 0. 0. 0. 0. 0. 0. 0. 0. 0. 0. 0. 0. 0. 0. 0. 0. 0. 0. 0. 0. 0. 0. 0.\n",
            "  0. 0. 0. 0. 0. 0. 0. 0. 0. 0. 0. 0. 0. 0. 0. 0.]\n",
            " [0. 0. 0. 0. 0. 0. 0. 0. 0. 0. 0. 0. 0. 0. 0. 0. 0. 0. 0. 0. 0. 0. 0. 0.\n",
            "  0. 0. 0. 0. 0. 0. 0. 0. 0. 0. 0. 0. 0. 0. 0. 0.]\n",
            " [0. 0. 0. 0. 0. 0. 0. 0. 0. 0. 0. 0. 0. 0. 0. 0. 0. 0. 0. 0. 0. 0. 0. 0.\n",
            "  0. 0. 0. 0. 0. 0. 0. 0. 0. 0. 0. 0. 0. 0. 0. 0.]\n",
            " [0. 0. 0. 0. 0. 0. 0. 0. 0. 0. 0. 0. 0. 0. 0. 0. 0. 0. 0. 0. 0. 0. 0. 0.\n",
            "  0. 0. 0. 0. 0. 0. 0. 0. 0. 0. 0. 0. 0. 0. 0. 0.]\n",
            " [0. 0. 0. 0. 0. 0. 0. 0. 0. 0. 0. 0. 0. 0. 0. 0. 0. 0. 0. 0. 0. 0. 0. 0.\n",
            "  0. 0. 0. 0. 0. 0. 0. 0. 0. 0. 0. 0. 0. 0. 0. 0.]\n",
            " [0. 0. 0. 0. 0. 0. 0. 0. 0. 0. 0. 0. 0. 0. 0. 0. 0. 0. 0. 0. 0. 0. 0. 0.\n",
            "  0. 0. 0. 0. 0. 0. 0. 0. 0. 0. 0. 0. 0. 0. 0. 0.]\n",
            " [0. 0. 0. 0. 0. 0. 0. 0. 0. 0. 0. 0. 0. 0. 0. 0. 0. 0. 0. 0. 0. 0. 0. 0.\n",
            "  0. 0. 0. 0. 0. 0. 0. 0. 0. 0. 0. 0. 0. 0. 0. 0.]\n",
            " [0. 0. 0. 0. 0. 0. 0. 0. 0. 0. 0. 0. 0. 0. 0. 0. 0. 0. 0. 0. 0. 0. 0. 0.\n",
            "  0. 0. 0. 0. 0. 0. 0. 0. 0. 0. 0. 0. 0. 0. 0. 0.]\n",
            " [0. 0. 0. 0. 0. 0. 0. 0. 0. 0. 0. 0. 0. 0. 0. 0. 0. 0. 0. 0. 0. 0. 0. 0.\n",
            "  0. 0. 0. 0. 0. 0. 0. 0. 0. 0. 0. 0. 0. 0. 0. 0.]\n",
            " [0. 0. 0. 0. 0. 0. 0. 0. 0. 0. 0. 0. 0. 0. 0. 0. 0. 0. 0. 0. 0. 0. 0. 0.\n",
            "  0. 0. 0. 0. 0. 0. 0. 0. 0. 0. 0. 0. 0. 0. 0. 0.]\n",
            " [0. 0. 0. 0. 0. 0. 0. 0. 0. 0. 0. 0. 0. 0. 0. 0. 0. 0. 0. 0. 0. 0. 0. 0.\n",
            "  0. 0. 0. 0. 0. 0. 0. 0. 0. 0. 0. 0. 0. 0. 0. 0.]\n",
            " [0. 0. 0. 0. 0. 0. 0. 0. 0. 0. 0. 0. 0. 0. 0. 0. 0. 0. 0. 0. 0. 0. 0. 0.\n",
            "  0. 0. 0. 0. 0. 0. 0. 0. 0. 0. 0. 0. 0. 0. 0. 0.]\n",
            " [0. 0. 0. 0. 0. 0. 0. 0. 0. 0. 0. 0. 0. 0. 0. 0. 0. 0. 0. 0. 0. 0. 0. 0.\n",
            "  0. 0. 0. 0. 0. 0. 0. 0. 0. 0. 0. 0. 0. 0. 0. 0.]\n",
            " [0. 0. 0. 0. 0. 0. 0. 0. 0. 0. 0. 0. 0. 0. 0. 0. 0. 0. 0. 0. 0. 0. 0. 0.\n",
            "  0. 0. 0. 0. 0. 0. 0. 0. 0. 0. 0. 0. 0. 0. 0. 0.]\n",
            " [0. 0. 0. 0. 0. 0. 0. 0. 0. 0. 0. 0. 0. 0. 0. 0. 0. 0. 0. 0. 0. 0. 0. 0.\n",
            "  0. 0. 0. 0. 0. 0. 0. 0. 0. 0. 0. 0. 0. 0. 0. 0.]\n",
            " [0. 0. 0. 0. 0. 0. 0. 0. 0. 0. 0. 0. 0. 0. 0. 0. 0. 0. 0. 0. 0. 0. 0. 0.\n",
            "  0. 0. 0. 0. 0. 0. 0. 0. 0. 0. 0. 0. 0. 0. 0. 0.]\n",
            " [0. 0. 0. 0. 0. 0. 0. 0. 0. 0. 0. 0. 0. 0. 0. 0. 0. 0. 0. 0. 0. 0. 0. 0.\n",
            "  0. 0. 0. 0. 0. 0. 0. 0. 0. 0. 0. 0. 0. 0. 0. 0.]\n",
            " [0. 0. 0. 0. 0. 0. 0. 0. 0. 0. 0. 0. 0. 0. 0. 0. 0. 0. 0. 0. 0. 0. 0. 0.\n",
            "  0. 0. 0. 0. 0. 0. 0. 0. 0. 0. 0. 0. 0. 0. 0. 0.]\n",
            " [0. 0. 0. 0. 0. 0. 0. 0. 0. 0. 0. 0. 0. 0. 0. 0. 0. 0. 0. 0. 0. 0. 0. 0.\n",
            "  0. 0. 0. 0. 0. 0. 0. 0. 0. 0. 0. 0. 0. 0. 0. 0.]\n",
            " [0. 0. 0. 0. 0. 0. 0. 0. 0. 0. 0. 0. 0. 0. 0. 0. 0. 0. 0. 0. 0. 0. 0. 0.\n",
            "  0. 0. 0. 0. 0. 0. 0. 0. 0. 0. 0. 0. 0. 0. 0. 0.]]\n"
          ]
        }
      ],
      "source": [
        "np.set_printoptions(threshold=float(\"inf\"))\n",
        "Z = np.zeros((40,40))\n",
        "print(Z)"
      ]
    },
    {
      "cell_type": "markdown",
      "metadata": {
        "id": "dh7SJEwNc30i"
      },
      "source": [
        "#### 50. How to find the closest value (to a given scalar) in a vector? (★★☆) \n",
        "(**hint**: argmin)"
      ]
    },
    {
      "cell_type": "code",
      "execution_count": 105,
      "metadata": {
        "id": "3dW8uR34c30i",
        "colab": {
          "base_uri": "https://localhost:8080/"
        },
        "outputId": "42656b61-7087-469b-992a-a81af2f355b7"
      },
      "outputs": [
        {
          "output_type": "stream",
          "name": "stdout",
          "text": [
            "44\n"
          ]
        }
      ],
      "source": [
        "Z = np.arange(100)\n",
        "v = np.random.uniform(0,100)\n",
        "index = (np.abs(Z-v)).argmin()\n",
        "print(Z[index])"
      ]
    },
    {
      "cell_type": "markdown",
      "metadata": {
        "id": "yi8aAz-1c30j"
      },
      "source": [
        "#### 51. Create a structured array representing a position (x,y) and a color (r,g,b) (★★☆) \n",
        "(**hint**: dtype)"
      ]
    },
    {
      "cell_type": "code",
      "execution_count": 106,
      "metadata": {
        "id": "b5XOhSqtc30j",
        "colab": {
          "base_uri": "https://localhost:8080/"
        },
        "outputId": "b63f9be0-5b1f-46b8-fd7a-4fad7229b419"
      },
      "outputs": [
        {
          "output_type": "stream",
          "name": "stdout",
          "text": [
            "[((0., 0.), (0., 0., 0.)) ((0., 0.), (0., 0., 0.))\n",
            " ((0., 0.), (0., 0., 0.)) ((0., 0.), (0., 0., 0.))\n",
            " ((0., 0.), (0., 0., 0.)) ((0., 0.), (0., 0., 0.))\n",
            " ((0., 0.), (0., 0., 0.)) ((0., 0.), (0., 0., 0.))\n",
            " ((0., 0.), (0., 0., 0.)) ((0., 0.), (0., 0., 0.))]\n"
          ]
        },
        {
          "output_type": "stream",
          "name": "stderr",
          "text": [
            "/usr/local/lib/python3.7/dist-packages/ipykernel_launcher.py:5: FutureWarning: Passing (type, 1) or '1type' as a synonym of type is deprecated; in a future version of numpy, it will be understood as (type, (1,)) / '(1,)type'.\n",
            "  \"\"\"\n"
          ]
        }
      ],
      "source": [
        "Z = np.zeros(10, [ ('position', [ ('x', float, 1),\n",
        "                                  ('y', float, 1)]),\n",
        "                   ('color',    [ ('r', float, 1),\n",
        "                                  ('g', float, 1),\n",
        "                                  ('b', float, 1)])])\n",
        "print(Z)"
      ]
    },
    {
      "cell_type": "markdown",
      "metadata": {
        "id": "C5jXwtEUc30j"
      },
      "source": [
        "#### 52. Consider a random vector with shape (100,2) representing coordinates, find point by point distances (★★☆) \n",
        "(**hint**: np.atleast\\_2d, T, np.sqrt)"
      ]
    },
    {
      "cell_type": "code",
      "execution_count": 107,
      "metadata": {
        "id": "t5tK3Ze9c30j",
        "colab": {
          "base_uri": "https://localhost:8080/"
        },
        "outputId": "a4727d85-bce3-4596-ffd8-30940f647706"
      },
      "outputs": [
        {
          "output_type": "stream",
          "name": "stdout",
          "text": [
            "[[0.         0.40067201 0.75606203 0.48882363 0.8312558  0.49786721\n",
            "  0.56486554 0.33455411 0.14044435 0.84924515]\n",
            " [0.40067201 0.         0.35545214 0.4326793  0.65396741 0.50177366\n",
            "  0.18967578 0.50257383 0.52691554 0.62416   ]\n",
            " [0.75606203 0.35545214 0.         0.64617892 0.68889819 0.72960128\n",
            "  0.22712273 0.80754486 0.881122   0.6122794 ]\n",
            " [0.48882363 0.4326793  0.64617892 0.         0.35044791 0.08388555\n",
            "  0.59740905 0.25218989 0.51497315 0.39098411]\n",
            " [0.8312558  0.65396741 0.68889819 0.35044791 0.         0.38055662\n",
            "  0.75385979 0.59056582 0.86541885 0.10134046]\n",
            " [0.49786721 0.50177366 0.72960128 0.08388555 0.38055662 0.\n",
            "  0.6732482  0.21109687 0.50061627 0.43803535]\n",
            " [0.56486554 0.18967578 0.22712273 0.59740905 0.75385979 0.6732482\n",
            "  0.         0.69165336 0.69938835 0.70131092]\n",
            " [0.33455411 0.50257383 0.80754486 0.25218989 0.59056582 0.21109687\n",
            "  0.69165336 0.         0.30115918 0.64133528]\n",
            " [0.14044435 0.52691554 0.881122   0.51497315 0.86541885 0.50061627\n",
            "  0.69938835 0.30115918 0.         0.89867486]\n",
            " [0.84924515 0.62416    0.6122794  0.39098411 0.10134046 0.43803535\n",
            "  0.70131092 0.64133528 0.89867486 0.        ]]\n"
          ]
        }
      ],
      "source": [
        "Z = np.random.random((10,2))\n",
        "X,Y = np.atleast_2d(Z[:,0], Z[:,1])\n",
        "D = np.sqrt( (X-X.T)**2 + (Y-Y.T)**2)\n",
        "print(D)"
      ]
    },
    {
      "cell_type": "markdown",
      "metadata": {
        "id": "ddKifwMzc30j"
      },
      "source": [
        "#### 53. How to convert a float (32 bits) array into an integer (32 bits) in place? \n",
        "(**hint**: astype(copy=False))"
      ]
    },
    {
      "cell_type": "code",
      "execution_count": 108,
      "metadata": {
        "id": "lry97xCBc30j",
        "colab": {
          "base_uri": "https://localhost:8080/"
        },
        "outputId": "1b76e843-7a75-4481-88ed-615d5d026a2f"
      },
      "outputs": [
        {
          "output_type": "stream",
          "name": "stdout",
          "text": [
            "[74 60 48 21 24 71  4 81  5 27]\n"
          ]
        }
      ],
      "source": [
        "Z = (np.random.rand(10)*100).astype(np.float32)\n",
        "Y = Z.view(np.int32)\n",
        "Y[:] = Z\n",
        "print(Y)"
      ]
    },
    {
      "cell_type": "markdown",
      "metadata": {
        "id": "Z-49q8s9c30j"
      },
      "source": [
        "#### 54. How to read the following file? (★★☆) \n",
        "(**hint**: np.genfromtxt)"
      ]
    },
    {
      "cell_type": "markdown",
      "metadata": {
        "id": "tG-7w-0wc30j"
      },
      "source": [
        "```\n",
        "1, 2, 3, 4, 5\n",
        "6,  ,  , 7, 8\n",
        " ,  , 9,10,11\n",
        "```"
      ]
    },
    {
      "cell_type": "code",
      "execution_count": 112,
      "metadata": {
        "id": "4E99YH5kc30k",
        "colab": {
          "base_uri": "https://localhost:8080/"
        },
        "outputId": "b7dc754a-6bbc-4f2e-c9d8-c4ec63832f57"
      },
      "outputs": [
        {
          "output_type": "stream",
          "name": "stdout",
          "text": [
            "[ 1  2  3  4  5  6 -1 -1  7  8 -1  9 10 11]\n"
          ]
        },
        {
          "output_type": "stream",
          "name": "stderr",
          "text": [
            "/usr/local/lib/python3.7/dist-packages/ipykernel_launcher.py:3: DeprecationWarning: `np.int` is a deprecated alias for the builtin `int`. To silence this warning, use `int` by itself. Doing this will not modify any behavior and is safe. When replacing `np.int`, you may wish to use e.g. `np.int64` or `np.int32` to specify the precision. If you wish to review your current use, check the release note link for additional information.\n",
            "Deprecated in NumPy 1.20; for more details and guidance: https://numpy.org/devdocs/release/1.20.0-notes.html#deprecations\n",
            "  This is separate from the ipykernel package so we can avoid doing imports until\n"
          ]
        }
      ],
      "source": [
        "from io import StringIO\n",
        "s = StringIO('''1, 2, 3, 4, 5,6,  ,  , 7, 8,  , 9,10,11''')\n",
        "Z = np.genfromtxt(s, delimiter=\",\", dtype=np.int)\n",
        "print(Z)"
      ]
    },
    {
      "cell_type": "markdown",
      "metadata": {
        "id": "QU0vKkckc30k"
      },
      "source": [
        "#### 55. What is the equivalent of enumerate for numpy arrays? (★★☆) \n",
        "(**hint**: np.ndenumerate, np.ndindex)"
      ]
    },
    {
      "cell_type": "code",
      "execution_count": 113,
      "metadata": {
        "id": "aMRHOrX7c30k",
        "colab": {
          "base_uri": "https://localhost:8080/"
        },
        "outputId": "2df333b3-2814-4cae-c2f8-d33e542eb8e3"
      },
      "outputs": [
        {
          "output_type": "stream",
          "name": "stdout",
          "text": [
            "(0, 0) 0\n",
            "(0, 1) 1\n",
            "(0, 2) 2\n",
            "(1, 0) 3\n",
            "(1, 1) 4\n",
            "(1, 2) 5\n",
            "(2, 0) 6\n",
            "(2, 1) 7\n",
            "(2, 2) 8\n",
            "(0, 0) 0\n",
            "(0, 1) 1\n",
            "(0, 2) 2\n",
            "(1, 0) 3\n",
            "(1, 1) 4\n",
            "(1, 2) 5\n",
            "(2, 0) 6\n",
            "(2, 1) 7\n",
            "(2, 2) 8\n"
          ]
        }
      ],
      "source": [
        "Z = np.arange(9).reshape(3,3)\n",
        "for index, value in np.ndenumerate(Z):\n",
        "    print(index, value)\n",
        "for index in np.ndindex(Z.shape):\n",
        "    print(index, Z[index])"
      ]
    },
    {
      "cell_type": "markdown",
      "metadata": {
        "id": "iIYZS2ojc30k"
      },
      "source": [
        "#### 56. Generate a generic 2D Gaussian-like array (★★☆) \n",
        "(**hint**: np.meshgrid, np.exp)"
      ]
    },
    {
      "cell_type": "code",
      "execution_count": 114,
      "metadata": {
        "id": "Ogr5YmU0c30k",
        "colab": {
          "base_uri": "https://localhost:8080/"
        },
        "outputId": "7802ab52-e81e-443c-b669-e83d177d9468"
      },
      "outputs": [
        {
          "output_type": "stream",
          "name": "stdout",
          "text": [
            "[[0.36787944 0.44822088 0.51979489 0.57375342 0.60279818 0.60279818\n",
            "  0.57375342 0.51979489 0.44822088 0.36787944]\n",
            " [0.44822088 0.54610814 0.63331324 0.69905581 0.73444367 0.73444367\n",
            "  0.69905581 0.63331324 0.54610814 0.44822088]\n",
            " [0.51979489 0.63331324 0.73444367 0.81068432 0.85172308 0.85172308\n",
            "  0.81068432 0.73444367 0.63331324 0.51979489]\n",
            " [0.57375342 0.69905581 0.81068432 0.89483932 0.9401382  0.9401382\n",
            "  0.89483932 0.81068432 0.69905581 0.57375342]\n",
            " [0.60279818 0.73444367 0.85172308 0.9401382  0.98773022 0.98773022\n",
            "  0.9401382  0.85172308 0.73444367 0.60279818]\n",
            " [0.60279818 0.73444367 0.85172308 0.9401382  0.98773022 0.98773022\n",
            "  0.9401382  0.85172308 0.73444367 0.60279818]\n",
            " [0.57375342 0.69905581 0.81068432 0.89483932 0.9401382  0.9401382\n",
            "  0.89483932 0.81068432 0.69905581 0.57375342]\n",
            " [0.51979489 0.63331324 0.73444367 0.81068432 0.85172308 0.85172308\n",
            "  0.81068432 0.73444367 0.63331324 0.51979489]\n",
            " [0.44822088 0.54610814 0.63331324 0.69905581 0.73444367 0.73444367\n",
            "  0.69905581 0.63331324 0.54610814 0.44822088]\n",
            " [0.36787944 0.44822088 0.51979489 0.57375342 0.60279818 0.60279818\n",
            "  0.57375342 0.51979489 0.44822088 0.36787944]]\n"
          ]
        }
      ],
      "source": [
        "X, Y = np.meshgrid(np.linspace(-1,1,10), np.linspace(-1,1,10))\n",
        "D = np.sqrt(X*X+Y*Y)\n",
        "sigma, mu = 1.0, 0.0\n",
        "G = np.exp(-( (D-mu)**2 / ( 2.0 * sigma**2 ) ) )\n",
        "print(G)"
      ]
    },
    {
      "cell_type": "markdown",
      "metadata": {
        "id": "Ha9uqFKNc30k"
      },
      "source": [
        "#### 57. How to randomly place p elements in a 2D array? (★★☆) \n",
        "(**hint**: np.put, np.random.choice)"
      ]
    },
    {
      "cell_type": "code",
      "execution_count": 115,
      "metadata": {
        "id": "MUDevzFFc30k",
        "colab": {
          "base_uri": "https://localhost:8080/"
        },
        "outputId": "d65779ee-d713-4db1-ef60-15ab132143bd"
      },
      "outputs": [
        {
          "output_type": "stream",
          "name": "stdout",
          "text": [
            "[[0. 0. 0. 0. 1. 0. 0. 0. 0. 0.]\n",
            " [0. 0. 0. 0. 0. 0. 0. 0. 0. 0.]\n",
            " [0. 0. 0. 0. 1. 0. 0. 0. 0. 0.]\n",
            " [0. 0. 0. 0. 0. 0. 0. 0. 0. 0.]\n",
            " [0. 0. 0. 0. 0. 0. 0. 0. 0. 0.]\n",
            " [0. 0. 0. 0. 0. 0. 0. 0. 0. 0.]\n",
            " [0. 0. 0. 0. 0. 0. 0. 0. 0. 0.]\n",
            " [0. 0. 0. 0. 0. 0. 0. 0. 0. 0.]\n",
            " [0. 0. 0. 0. 0. 0. 0. 0. 0. 0.]\n",
            " [0. 0. 0. 0. 0. 0. 0. 0. 1. 0.]]\n"
          ]
        }
      ],
      "source": [
        "n = 10\n",
        "p = 3\n",
        "Z = np.zeros((n,n))\n",
        "np.put(Z, np.random.choice(range(n*n), p, replace=False),1)\n",
        "print(Z)"
      ]
    },
    {
      "cell_type": "markdown",
      "metadata": {
        "id": "mc-XCuE2c30k"
      },
      "source": [
        "#### 58. Subtract the mean of each row of a matrix (★★☆) \n",
        "(**hint**: mean(axis=,keepdims=))"
      ]
    },
    {
      "cell_type": "code",
      "execution_count": 116,
      "metadata": {
        "id": "Ww_Qzrvdc30k",
        "colab": {
          "base_uri": "https://localhost:8080/"
        },
        "outputId": "976b1b0b-96c2-488c-a4e9-326004b72a4d"
      },
      "outputs": [
        {
          "output_type": "stream",
          "name": "stdout",
          "text": [
            "[[ 0.46025909  0.06591289 -0.41623653  0.35607921 -0.16587603  0.21310946\n",
            "  -0.33473766 -0.27664071 -0.0819991   0.18012937]\n",
            " [ 0.09692879 -0.35766795 -0.5220936  -0.19543713 -0.12826624  0.01920829\n",
            "   0.24288465  0.29886788  0.32365026  0.22192504]\n",
            " [-0.17370658  0.00378454  0.23951598  0.19987358  0.02201865 -0.08850854\n",
            "  -0.37108244 -0.14058587 -0.03455524  0.34324593]\n",
            " [-0.33629847  0.03513666  0.19247498  0.34597993 -0.44774221  0.00965723\n",
            "  -0.04605386 -0.00235716  0.4047523  -0.15554939]\n",
            " [-0.05374107  0.22488167 -0.17963423 -0.15104372  0.21744656  0.09399319\n",
            "  -0.17170848 -0.49659787  0.365609    0.15079495]]\n"
          ]
        }
      ],
      "source": [
        "X = np.random.rand(5, 10)\n",
        "\n",
        "# Recent versions of numpy\n",
        "Y = X - X.mean(axis=1, keepdims=True)\n",
        "\n",
        "# Older versions of numpy\n",
        "Y = X - X.mean(axis=1).reshape(-1, 1)\n",
        "\n",
        "print(Y)"
      ]
    },
    {
      "cell_type": "markdown",
      "metadata": {
        "id": "BzH3hbMTc30m"
      },
      "source": [
        "#### 59. How to sort an array by the nth column? (★★☆) \n",
        "(**hint**: argsort)"
      ]
    },
    {
      "cell_type": "code",
      "execution_count": 117,
      "metadata": {
        "id": "HuJPdn1yc30m",
        "colab": {
          "base_uri": "https://localhost:8080/"
        },
        "outputId": "af1928d3-29aa-42fa-fcda-c976b36fea90"
      },
      "outputs": [
        {
          "output_type": "stream",
          "name": "stdout",
          "text": [
            "[[0 2 2]\n",
            " [6 6 9]\n",
            " [1 9 8]]\n",
            "[[0 2 2]\n",
            " [6 6 9]\n",
            " [1 9 8]]\n"
          ]
        }
      ],
      "source": [
        "Z = np.random.randint(0,10,(3,3))\n",
        "print(Z)\n",
        "print(Z[Z[:,1].argsort()])"
      ]
    },
    {
      "cell_type": "markdown",
      "metadata": {
        "id": "Mr1f-dbGc30m"
      },
      "source": [
        "#### 60. How to tell if a given 2D array has null columns? (★★☆) \n",
        "(**hint**: any, ~)"
      ]
    },
    {
      "cell_type": "code",
      "execution_count": 118,
      "metadata": {
        "id": "rGQQvLiIc30m",
        "colab": {
          "base_uri": "https://localhost:8080/"
        },
        "outputId": "a1de6f66-14bb-4ded-91f4-efbeed90699b"
      },
      "outputs": [
        {
          "output_type": "stream",
          "name": "stdout",
          "text": [
            "True\n",
            "[False False  True]\n"
          ]
        }
      ],
      "source": [
        "# null : 0 \n",
        "Z = np.random.randint(0,3,(3,10))\n",
        "print((~Z.any(axis=0)).any())\n",
        "\n",
        "# null : np.nan\n",
        "Z=np.array([\n",
        "    [0,1,np.nan],\n",
        "    [1,2,np.nan],\n",
        "    [4,5,np.nan]\n",
        "])\n",
        "print(np.isnan(Z).all(axis=0))"
      ]
    },
    {
      "cell_type": "markdown",
      "metadata": {
        "id": "gkTnOuAGc30m"
      },
      "source": [
        "#### 61. Find the nearest value from a given value in an array (★★☆) \n",
        "(**hint**: np.abs, argmin, flat)"
      ]
    },
    {
      "cell_type": "code",
      "execution_count": 119,
      "metadata": {
        "id": "1FzwOGyAc30m",
        "colab": {
          "base_uri": "https://localhost:8080/"
        },
        "outputId": "c4261fb6-9311-4089-e7ab-6ad69a602b6f"
      },
      "outputs": [
        {
          "output_type": "stream",
          "name": "stdout",
          "text": [
            "0.45094487947339434\n"
          ]
        }
      ],
      "source": [
        "Z = np.random.uniform(0,1,10)\n",
        "z = 0.5\n",
        "m = Z.flat[np.abs(Z - z).argmin()]\n",
        "print(m)"
      ]
    },
    {
      "cell_type": "markdown",
      "metadata": {
        "id": "LUUsYhkLc30n"
      },
      "source": [
        "#### 62. Considering two arrays with shape (1,3) and (3,1), how to compute their sum using an iterator? (★★☆) \n",
        "(**hint**: np.nditer)"
      ]
    },
    {
      "cell_type": "code",
      "execution_count": 120,
      "metadata": {
        "id": "wwgrBVBGc30n",
        "colab": {
          "base_uri": "https://localhost:8080/"
        },
        "outputId": "9e3b8232-5350-4089-cbd6-8129c108019a"
      },
      "outputs": [
        {
          "output_type": "stream",
          "name": "stdout",
          "text": [
            "[[0 1 2]\n",
            " [1 2 3]\n",
            " [2 3 4]]\n"
          ]
        }
      ],
      "source": [
        "A = np.arange(3).reshape(3,1)\n",
        "B = np.arange(3).reshape(1,3)\n",
        "it = np.nditer([A,B,None])\n",
        "for x,y,z in it: z[...] = x + y\n",
        "print(it.operands[2])"
      ]
    },
    {
      "cell_type": "markdown",
      "metadata": {
        "id": "t3Yl6bBZc30n"
      },
      "source": [
        "#### 63. Create an array class that has a name attribute (★★☆) \n",
        "(**hint**: class method)"
      ]
    },
    {
      "cell_type": "code",
      "execution_count": 121,
      "metadata": {
        "id": "tMo1nBNac30n",
        "colab": {
          "base_uri": "https://localhost:8080/"
        },
        "outputId": "0bcdfe72-b71f-491d-802d-e259e5e5f918"
      },
      "outputs": [
        {
          "output_type": "stream",
          "name": "stdout",
          "text": [
            "range_10\n"
          ]
        }
      ],
      "source": [
        "class NamedArray(np.ndarray):\n",
        "    def __new__(cls, array, name=\"no name\"):\n",
        "        obj = np.asarray(array).view(cls)\n",
        "        obj.name = name\n",
        "        return obj\n",
        "    def __array_finalize__(self, obj):\n",
        "        if obj is None: return\n",
        "        self.name = getattr(obj, 'name', \"no name\")\n",
        "\n",
        "Z = NamedArray(np.arange(10), \"range_10\")\n",
        "print (Z.name)"
      ]
    },
    {
      "cell_type": "markdown",
      "metadata": {
        "id": "DzuMIPM6c30n"
      },
      "source": [
        "#### 64. Consider a given vector, how to add 1 to each element indexed by a second vector (be careful with repeated indices)? (★★★) \n",
        "(**hint**: np.bincount | np.add.at)"
      ]
    },
    {
      "cell_type": "code",
      "execution_count": 122,
      "metadata": {
        "id": "5XpOeSgic30n",
        "colab": {
          "base_uri": "https://localhost:8080/"
        },
        "outputId": "acb67404-d855-49e2-895c-fc18e044c05c"
      },
      "outputs": [
        {
          "output_type": "stream",
          "name": "stdout",
          "text": [
            "[5. 3. 4. 1. 1. 3. 6. 1. 3. 3.]\n",
            "[ 9.  5.  7.  1.  1.  5. 11.  1.  5.  5.]\n"
          ]
        }
      ],
      "source": [
        "Z = np.ones(10)\n",
        "I = np.random.randint(0,len(Z),20)\n",
        "Z += np.bincount(I, minlength=len(Z))\n",
        "print(Z)\n",
        "\n",
        "# Another solution\n",
        "# Author: Bartosz Telenczuk\n",
        "np.add.at(Z, I, 1)\n",
        "print(Z)"
      ]
    },
    {
      "cell_type": "markdown",
      "metadata": {
        "id": "EWr_QW4yc30n"
      },
      "source": [
        "#### 65. How to accumulate elements of a vector (X) to an array (F) based on an index list (I)? (★★★) \n",
        "(**hint**: np.bincount)"
      ]
    },
    {
      "cell_type": "code",
      "execution_count": 123,
      "metadata": {
        "id": "j17mcpjYc30n",
        "colab": {
          "base_uri": "https://localhost:8080/"
        },
        "outputId": "9a6bcc2d-a5d4-443a-ea6e-687215caeab6"
      },
      "outputs": [
        {
          "output_type": "stream",
          "name": "stdout",
          "text": [
            "[0. 7. 0. 6. 5. 0. 0. 0. 0. 3.]\n"
          ]
        }
      ],
      "source": [
        "X = [1,2,3,4,5,6]\n",
        "I = [1,3,9,3,4,1]\n",
        "F = np.bincount(I,X)\n",
        "print(F)"
      ]
    },
    {
      "cell_type": "markdown",
      "metadata": {
        "id": "cne-ZQpac30n"
      },
      "source": [
        "#### 66. Considering a (w,h,3) image of (dtype=ubyte), compute the number of unique colors (★★★) \n",
        "(**hint**: np.unique)"
      ]
    },
    {
      "cell_type": "code",
      "execution_count": 124,
      "metadata": {
        "id": "e0Ag53QJc30n",
        "colab": {
          "base_uri": "https://localhost:8080/"
        },
        "outputId": "1f64820a-014d-4925-baaa-deb6ec32e1ef"
      },
      "outputs": [
        {
          "output_type": "stream",
          "name": "stdout",
          "text": [
            "64\n"
          ]
        }
      ],
      "source": [
        "w, h = 256, 256\n",
        "I = np.random.randint(0, 4, (h, w, 3)).astype(np.ubyte)\n",
        "colors = np.unique(I.reshape(-1, 3), axis=0)\n",
        "n = len(colors)\n",
        "print(n)"
      ]
    },
    {
      "cell_type": "markdown",
      "metadata": {
        "id": "gEGTw61_c30o"
      },
      "source": [
        "#### 67. Considering a four dimensions array, how to get sum over the last two axis at once? (★★★) \n",
        "(**hint**: sum(axis=(-2,-1)))"
      ]
    },
    {
      "cell_type": "code",
      "execution_count": 125,
      "metadata": {
        "id": "blnso2d9c30o",
        "colab": {
          "base_uri": "https://localhost:8080/"
        },
        "outputId": "17b22a1a-d5b2-4a7b-b96e-bceef2d189c9"
      },
      "outputs": [
        {
          "output_type": "stream",
          "name": "stdout",
          "text": [
            "[[47 57 62 53]\n",
            " [52 60 60 64]\n",
            " [71 50 52 55]]\n",
            "[[47 57 62 53]\n",
            " [52 60 60 64]\n",
            " [71 50 52 55]]\n"
          ]
        }
      ],
      "source": [
        "A = np.random.randint(0,10,(3,4,3,4))\n",
        "# solution by passing a tuple of axes (introduced in numpy 1.7.0)\n",
        "sum = A.sum(axis=(-2,-1))\n",
        "print(sum)\n",
        "# solution by flattening the last two dimensions into one\n",
        "# (useful for functions that don't accept tuples for axis argument)\n",
        "sum = A.reshape(A.shape[:-2] + (-1,)).sum(axis=-1)\n",
        "print(sum)"
      ]
    },
    {
      "cell_type": "markdown",
      "metadata": {
        "id": "fGhBGDf9c30o"
      },
      "source": [
        "#### 68. Considering a one-dimensional vector D, how to compute means of subsets of D using a vector S of same size describing subset  indices? (★★★) \n",
        "(**hint**: np.bincount)"
      ]
    },
    {
      "cell_type": "code",
      "execution_count": 126,
      "metadata": {
        "id": "NuKrZ9qUc30o",
        "colab": {
          "base_uri": "https://localhost:8080/"
        },
        "outputId": "1acc3e43-3221-493b-d645-4094c5980a4a"
      },
      "outputs": [
        {
          "output_type": "stream",
          "name": "stdout",
          "text": [
            "[0.49334316 0.49702901 0.67971133 0.44005256 0.57725601 0.529147\n",
            " 0.30709856 0.27958061 0.44988928 0.49183539]\n"
          ]
        }
      ],
      "source": [
        "D = np.random.uniform(0,1,100)\n",
        "S = np.random.randint(0,10,100)\n",
        "D_sums = np.bincount(S, weights=D)\n",
        "D_counts = np.bincount(S)\n",
        "D_means = D_sums / D_counts\n",
        "print(D_means)"
      ]
    },
    {
      "cell_type": "markdown",
      "metadata": {
        "id": "rrMUhGQ5c30o"
      },
      "source": [
        "#### 69. How to get the diagonal of a dot product? (★★★) \n",
        "(**hint**: np.diag)"
      ]
    },
    {
      "cell_type": "code",
      "execution_count": 127,
      "metadata": {
        "id": "RKvjniu9c30o",
        "colab": {
          "base_uri": "https://localhost:8080/"
        },
        "outputId": "a61233bb-2388-45ed-ab9f-97d90b5d9ea2"
      },
      "outputs": [
        {
          "output_type": "execute_result",
          "data": {
            "text/plain": [
              "array([1.43794647, 1.0030235 , 0.78373643, 0.79058632, 1.22075444])"
            ]
          },
          "metadata": {},
          "execution_count": 127
        }
      ],
      "source": [
        "A = np.random.uniform(0,1,(5,5))\n",
        "B = np.random.uniform(0,1,(5,5))\n",
        "np.diag(np.dot(A, B))"
      ]
    },
    {
      "cell_type": "markdown",
      "metadata": {
        "id": "G0yWO3h1c30o"
      },
      "source": [
        "#### 70. Consider the vector \\[1, 2, 3, 4, 5\\], how to build a new vector with 3 consecutive zeros interleaved between each value? (★★★) \n",
        "(**hint**: array\\[::4\\])"
      ]
    },
    {
      "cell_type": "code",
      "execution_count": 128,
      "metadata": {
        "id": "anfbXvHIc30o",
        "colab": {
          "base_uri": "https://localhost:8080/"
        },
        "outputId": "80300e92-6a0f-42e0-e2c0-755ab8075c03"
      },
      "outputs": [
        {
          "output_type": "stream",
          "name": "stdout",
          "text": [
            "[1. 0. 0. 0. 2. 0. 0. 0. 3. 0. 0. 0. 4. 0. 0. 0. 5.]\n"
          ]
        }
      ],
      "source": [
        "Z = np.array([1,2,3,4,5])\n",
        "nz = 3\n",
        "Z0 = np.zeros(len(Z) + (len(Z)-1)*(nz))\n",
        "Z0[::nz+1] = Z\n",
        "print(Z0)"
      ]
    },
    {
      "cell_type": "markdown",
      "metadata": {
        "id": "iJI7bfm3c30o"
      },
      "source": [
        "#### 71. Consider an array of dimension (5,5,3), how to mulitply it by an array with dimensions (5,5)? (★★★) \n",
        "(**hint**: array\\[:, :, None\\])"
      ]
    },
    {
      "cell_type": "code",
      "execution_count": 129,
      "metadata": {
        "collapsed": true,
        "id": "gnVnm9tVc30p",
        "colab": {
          "base_uri": "https://localhost:8080/"
        },
        "outputId": "41cb747f-74ad-497a-b906-f3681e5651c8"
      },
      "outputs": [
        {
          "output_type": "stream",
          "name": "stdout",
          "text": [
            "[[[2. 2. 2.]\n",
            "  [2. 2. 2.]\n",
            "  [2. 2. 2.]\n",
            "  [2. 2. 2.]\n",
            "  [2. 2. 2.]]\n",
            "\n",
            " [[2. 2. 2.]\n",
            "  [2. 2. 2.]\n",
            "  [2. 2. 2.]\n",
            "  [2. 2. 2.]\n",
            "  [2. 2. 2.]]\n",
            "\n",
            " [[2. 2. 2.]\n",
            "  [2. 2. 2.]\n",
            "  [2. 2. 2.]\n",
            "  [2. 2. 2.]\n",
            "  [2. 2. 2.]]\n",
            "\n",
            " [[2. 2. 2.]\n",
            "  [2. 2. 2.]\n",
            "  [2. 2. 2.]\n",
            "  [2. 2. 2.]\n",
            "  [2. 2. 2.]]\n",
            "\n",
            " [[2. 2. 2.]\n",
            "  [2. 2. 2.]\n",
            "  [2. 2. 2.]\n",
            "  [2. 2. 2.]\n",
            "  [2. 2. 2.]]]\n"
          ]
        }
      ],
      "source": [
        "A = np.ones((5,5,3))\n",
        "B = 2*np.ones((5,5))\n",
        "print(A * B[:,:,None])"
      ]
    },
    {
      "cell_type": "markdown",
      "metadata": {
        "id": "oghc9q48c30p"
      },
      "source": [
        "#### 72. How to swap two rows of an array? (★★★) \n",
        "(**hint**: array\\[\\[\\]\\] = array\\[\\[\\]\\])"
      ]
    },
    {
      "cell_type": "code",
      "execution_count": 130,
      "metadata": {
        "id": "N5znKWPPc30p",
        "colab": {
          "base_uri": "https://localhost:8080/"
        },
        "outputId": "c9110735-70f8-4416-f431-23a37b9404ca"
      },
      "outputs": [
        {
          "output_type": "stream",
          "name": "stdout",
          "text": [
            "[[ 5  6  7  8  9]\n",
            " [ 0  1  2  3  4]\n",
            " [10 11 12 13 14]\n",
            " [15 16 17 18 19]\n",
            " [20 21 22 23 24]]\n"
          ]
        }
      ],
      "source": [
        "A = np.arange(25).reshape(5,5)\n",
        "A[[0,1]] = A[[1,0]]\n",
        "print(A)"
      ]
    },
    {
      "cell_type": "markdown",
      "metadata": {
        "id": "7zuC68mfc30p"
      },
      "source": [
        "#### 73. Consider a set of 10 triplets describing 10 triangles (with shared vertices), find the set of unique line segments composing all the  triangles (★★★) \n",
        "(**hint**: repeat, np.roll, np.sort, view, np.unique)"
      ]
    },
    {
      "cell_type": "code",
      "execution_count": 131,
      "metadata": {
        "id": "e1yP0Dcrc30p",
        "colab": {
          "base_uri": "https://localhost:8080/"
        },
        "outputId": "f5bb58bc-f6d2-4bbc-b6a3-91f64a9bf053"
      },
      "outputs": [
        {
          "output_type": "stream",
          "name": "stdout",
          "text": [
            "[( 2, 15) ( 2, 34) ( 2, 36) ( 2, 72) ( 2, 77) ( 2, 98) ( 8, 35) ( 8, 86)\n",
            " (14, 50) (14, 78) (15, 72) (25, 81) (25, 97) (30, 68) (30, 90) (34, 45)\n",
            " (34, 72) (34, 77) (35, 86) (36, 98) (45, 72) (46, 66) (46, 84) (50, 78)\n",
            " (57, 66) (57, 76) (66, 76) (66, 84) (68, 90) (81, 97)]\n"
          ]
        }
      ],
      "source": [
        "faces = np.random.randint(0,100,(10,3))\n",
        "F = np.roll(faces.repeat(2,axis=1),-1,axis=1)\n",
        "F = F.reshape(len(F)*3,2)\n",
        "F = np.sort(F,axis=1)\n",
        "G = F.view( dtype=[('p0',F.dtype),('p1',F.dtype)] )\n",
        "G = np.unique(G)\n",
        "print(G)"
      ]
    },
    {
      "cell_type": "markdown",
      "metadata": {
        "id": "GC8Km1THc30p"
      },
      "source": [
        "#### 74. Given an array C that is a bincount, how to produce an array A such that np.bincount(A) == C? (★★★) \n",
        "(**hint**: np.repeat)"
      ]
    },
    {
      "cell_type": "code",
      "execution_count": 132,
      "metadata": {
        "id": "RYxZCY2Pc30p",
        "colab": {
          "base_uri": "https://localhost:8080/"
        },
        "outputId": "007f532b-6df0-4432-ed87-42bbf561e4f0"
      },
      "outputs": [
        {
          "output_type": "stream",
          "name": "stdout",
          "text": [
            "[1 1 2 3 4 4 6]\n"
          ]
        }
      ],
      "source": [
        "C = np.bincount([1,1,2,3,4,4,6])\n",
        "A = np.repeat(np.arange(len(C)), C)\n",
        "print(A)"
      ]
    },
    {
      "cell_type": "markdown",
      "metadata": {
        "id": "cl4p1ySHc30p"
      },
      "source": [
        "#### 75. How to compute averages using a sliding window over an array? (★★★) \n",
        "(**hint**: np.cumsum)"
      ]
    },
    {
      "cell_type": "code",
      "execution_count": 133,
      "metadata": {
        "id": "Ip1sHZF6c30q",
        "colab": {
          "base_uri": "https://localhost:8080/"
        },
        "outputId": "7519c50d-7604-4794-b464-9b2ae5bae46f"
      },
      "outputs": [
        {
          "output_type": "stream",
          "name": "stdout",
          "text": [
            "[ 1.  2.  3.  4.  5.  6.  7.  8.  9. 10. 11. 12. 13. 14. 15. 16. 17. 18.]\n"
          ]
        }
      ],
      "source": [
        "def moving_average(a, n=3) :\n",
        "    ret = np.cumsum(a, dtype=float)\n",
        "    ret[n:] = ret[n:] - ret[:-n]\n",
        "    return ret[n - 1:] / n\n",
        "Z = np.arange(20)\n",
        "print(moving_average(Z, n=3))"
      ]
    },
    {
      "cell_type": "markdown",
      "metadata": {
        "id": "wef-hrTOc30q"
      },
      "source": [
        "#### 76. Consider a one-dimensional array Z, build a two-dimensional array whose first row is (Z\\[0\\],Z\\[1\\],Z\\[2\\]) and each subsequent row is  shifted by 1 (last row should be (Z\\[-3\\],Z\\[-2\\],Z\\[-1\\]) (★★★) \n",
        "(**hint**: from numpy.lib import stride_tricks)"
      ]
    },
    {
      "cell_type": "code",
      "execution_count": 134,
      "metadata": {
        "id": "7MxJKYtcc30q",
        "colab": {
          "base_uri": "https://localhost:8080/"
        },
        "outputId": "175fe168-c865-4634-d770-18ee7370ac48"
      },
      "outputs": [
        {
          "output_type": "stream",
          "name": "stdout",
          "text": [
            "[[0 1 2]\n",
            " [1 2 3]\n",
            " [2 3 4]\n",
            " [3 4 5]\n",
            " [4 5 6]\n",
            " [5 6 7]\n",
            " [6 7 8]\n",
            " [7 8 9]]\n"
          ]
        }
      ],
      "source": [
        "from numpy.lib import stride_tricks\n",
        "\n",
        "def rolling(a, window):\n",
        "    shape = (a.size - window + 1, window)\n",
        "    strides = (a.strides[0], a.strides[0])\n",
        "    return stride_tricks.as_strided(a, shape=shape, strides=strides)\n",
        "Z = rolling(np.arange(10), 3)\n",
        "print(Z)"
      ]
    },
    {
      "cell_type": "markdown",
      "metadata": {
        "id": "S1WhFp0Fc30q"
      },
      "source": [
        "#### 77. How to negate a boolean, or to change the sign of a float inplace? (★★★) \n",
        "(**hint**: np.logical_not, np.negative)"
      ]
    },
    {
      "cell_type": "code",
      "execution_count": 135,
      "metadata": {
        "id": "fD9KEV_fc30q",
        "colab": {
          "base_uri": "https://localhost:8080/"
        },
        "outputId": "5a77ab29-6b01-4734-8cec-7883d6eb3f85"
      },
      "outputs": [
        {
          "output_type": "execute_result",
          "data": {
            "text/plain": [
              "array([-0.10678552, -0.7618796 ,  0.034187  ,  0.06021304, -0.64896314,\n",
              "       -0.1908541 ,  0.85191611, -0.74587701,  0.84194762,  0.47657413,\n",
              "        0.56345936,  0.90878104, -0.58379389, -0.40476665,  0.89486608,\n",
              "       -0.05951709,  0.02331246,  0.29821396, -0.75770254, -0.99981255,\n",
              "        0.5537088 ,  0.95367357, -0.95630076,  0.85258507, -0.22822913,\n",
              "        0.06580406,  0.40786223, -0.89198964,  0.85538529,  0.2262748 ,\n",
              "       -0.97711727,  0.2907403 ,  0.55803036,  0.04291371, -0.61899479,\n",
              "       -0.2162523 , -0.7513731 ,  0.67135754,  0.33900096, -0.79131102,\n",
              "       -0.97946131,  0.99471615, -0.04209643, -0.1612323 , -0.77908353,\n",
              "       -0.05486506, -0.40751748,  0.97748222, -0.88853034,  0.65420373,\n",
              "        0.55840772,  0.78183767,  0.40226909,  0.28617012,  0.40928912,\n",
              "        0.07785908, -0.3254693 ,  0.35386043,  0.41409599, -0.69420915,\n",
              "        0.6472735 ,  0.59956174, -0.73837095,  0.29390483, -0.66120769,\n",
              "        0.29615257,  0.09641428,  0.7299235 ,  0.02764962,  0.29740445,\n",
              "        0.97638875, -0.37466992,  0.48967863,  0.65554934, -0.53683248,\n",
              "        0.19079338,  0.46208282, -0.93746687, -0.37058783,  0.55532053,\n",
              "       -0.17083379,  0.35248287, -0.92765281,  0.59237595,  0.01338786,\n",
              "        0.24909224, -0.9817469 , -0.43912016,  0.82632659,  0.36709002,\n",
              "        0.19871123,  0.02805009,  0.25295069, -0.44045137,  0.9281956 ,\n",
              "       -0.06753499,  0.67407653,  0.82222177,  0.71334689,  0.02346958])"
            ]
          },
          "metadata": {},
          "execution_count": 135
        }
      ],
      "source": [
        "Z = np.random.randint(0,2,100)\n",
        "np.logical_not(Z, out=Z)\n",
        "\n",
        "Z = np.random.uniform(-1.0,1.0,100)\n",
        "np.negative(Z, out=Z)"
      ]
    },
    {
      "cell_type": "markdown",
      "metadata": {
        "id": "i4MFdeH3c30q"
      },
      "source": [
        "#### 78. Consider 2 sets of points P0,P1 describing lines (2d) and a point p, how to compute distance from p to each line i  (P0\\[i\\],P1\\[i\\])? (★★★)"
      ]
    },
    {
      "cell_type": "code",
      "execution_count": 136,
      "metadata": {
        "id": "0MuukiCsc30q",
        "colab": {
          "base_uri": "https://localhost:8080/"
        },
        "outputId": "71c79d98-e4ed-4db4-c52b-bdc4c3358c7c"
      },
      "outputs": [
        {
          "output_type": "stream",
          "name": "stdout",
          "text": [
            "[ 1.65913454 11.37206866 11.50300277  0.9262994   4.68248713  3.97541686\n",
            " 10.79777867 15.09777159  9.45122842  3.99923698]\n"
          ]
        }
      ],
      "source": [
        "def distance(P0, P1, p):\n",
        "    T = P1 - P0\n",
        "    L = (T**2).sum(axis=1)\n",
        "    U = -((P0[:,0]-p[...,0])*T[:,0] + (P0[:,1]-p[...,1])*T[:,1]) / L\n",
        "    U = U.reshape(len(U),1)\n",
        "    D = P0 + U*T - p\n",
        "    return np.sqrt((D**2).sum(axis=1))\n",
        "\n",
        "P0 = np.random.uniform(-10,10,(10,2))\n",
        "P1 = np.random.uniform(-10,10,(10,2))\n",
        "p  = np.random.uniform(-10,10,( 1,2))\n",
        "print(distance(P0, P1, p))"
      ]
    },
    {
      "cell_type": "markdown",
      "metadata": {
        "id": "pbNTZfTKc30q"
      },
      "source": [
        "#### 79. Consider 2 sets of points P0,P1 describing lines (2d) and a set of points P, how to compute distance from each point j (P\\[j\\]) to each line i (P0\\[i\\],P1\\[i\\])? (★★★)"
      ]
    },
    {
      "cell_type": "code",
      "execution_count": 137,
      "metadata": {
        "id": "S3Mguhnrc30q",
        "colab": {
          "base_uri": "https://localhost:8080/"
        },
        "outputId": "49dd5f69-c142-4ca6-9d8c-40b9fea0c12c"
      },
      "outputs": [
        {
          "output_type": "stream",
          "name": "stdout",
          "text": [
            "[[ 8.7578725   0.16893908  8.05550059  7.18164996  2.30240785 12.78462768\n",
            "   1.34430161  0.91789105 14.45471696  0.47308983]\n",
            " [ 7.31583041  5.11753233  0.59139371  5.42778033  9.79866172  0.88863908\n",
            "   9.4977856  13.50484549  2.45175937  4.24618852]\n",
            " [ 7.50264932  0.99407057  8.50275788  6.49957009  1.37054482 12.6045142\n",
            "   1.42678381  1.62964083 14.23982636  0.86347692]\n",
            " [ 9.33662488  7.97108041  3.55247967  7.22272042 10.99690979  1.68096307\n",
            "  12.30612191 15.23818272  0.0782493   2.8733074 ]\n",
            " [12.03875427  2.46806594  6.18073843  8.05341411  3.88832142 12.35489655\n",
            "   0.28615235  0.03578124 14.1107229   3.72131189]\n",
            " [ 3.34991469  2.70250255  8.4816183   2.30553828  3.51956074 10.09357651\n",
            "   0.09215288  5.91256482 11.60285389  5.80693538]\n",
            " [ 5.15506532  3.72610845 11.08609071  7.47896604  1.73112442 14.49663413\n",
            "   3.66658325  0.71652079 16.0796835   2.75608073]\n",
            " [10.19357032  2.91127501  4.4046856   3.90924863  0.41175163  8.98495558\n",
            "   2.49794555  4.13697368 10.67185679  0.91078727]\n",
            " [ 8.50927569  6.90568732  2.49135798  6.68302788 10.68838666  0.82185276\n",
            "  11.336854   14.72277793  0.76354462  3.48793839]\n",
            " [14.81548034 10.0305185   3.23870825  1.32032784  4.20098131  1.99659346\n",
            "   9.96082359  9.22027656  3.76768094  3.7481364 ]]\n"
          ]
        }
      ],
      "source": [
        "P0 = np.random.uniform(-10, 10, (10,2))\n",
        "P1 = np.random.uniform(-10,10,(10,2))\n",
        "p = np.random.uniform(-10, 10, (10,2))\n",
        "print(np.array([distance(P0,P1,p_i) for p_i in p]))"
      ]
    },
    {
      "cell_type": "markdown",
      "metadata": {
        "id": "xCZYnHtOc30r"
      },
      "source": [
        "#### 80. Consider an arbitrary array, write a function that extract a subpart with a fixed shape and centered on a given element (pad with a `fill` value when necessary) (★★★) \n",
        "(**hint**: minimum, maximum)"
      ]
    },
    {
      "cell_type": "code",
      "execution_count": 138,
      "metadata": {
        "id": "UDJjkuClc30r",
        "colab": {
          "base_uri": "https://localhost:8080/"
        },
        "outputId": "706c3ead-10c9-4415-a083-72a01d38945f"
      },
      "outputs": [
        {
          "output_type": "stream",
          "name": "stdout",
          "text": [
            "[[0 7 2 5 6 0 5 5 2 6]\n",
            " [4 7 7 6 0 5 3 8 2 7]\n",
            " [6 8 2 7 1 0 2 3 4 4]\n",
            " [5 0 5 2 1 8 8 3 6 9]\n",
            " [0 8 4 6 2 7 8 6 2 7]\n",
            " [8 8 1 1 8 7 5 5 8 3]\n",
            " [6 7 7 7 1 7 1 0 6 4]\n",
            " [2 1 7 2 3 1 6 7 1 9]\n",
            " [0 3 5 7 3 7 8 7 0 5]\n",
            " [5 8 6 4 8 2 9 4 0 5]]\n",
            "[[0 0 0 0 0]\n",
            " [0 0 7 2 5]\n",
            " [0 4 7 7 6]\n",
            " [0 6 8 2 7]\n",
            " [0 5 0 5 2]]\n"
          ]
        },
        {
          "output_type": "stream",
          "name": "stderr",
          "text": [
            "/usr/local/lib/python3.7/dist-packages/ipykernel_launcher.py:23: FutureWarning: Using a non-tuple sequence for multidimensional indexing is deprecated; use `arr[tuple(seq)]` instead of `arr[seq]`. In the future this will be interpreted as an array index, `arr[np.array(seq)]`, which will result either in an error or a different result.\n"
          ]
        }
      ],
      "source": [
        "Z = np.random.randint(0,10,(10,10))\n",
        "shape = (5,5)\n",
        "fill  = 0\n",
        "position = (1,1)\n",
        "\n",
        "R = np.ones(shape, dtype=Z.dtype)*fill\n",
        "P  = np.array(list(position)).astype(int)\n",
        "Rs = np.array(list(R.shape)).astype(int)\n",
        "Zs = np.array(list(Z.shape)).astype(int)\n",
        "\n",
        "R_start = np.zeros((len(shape),)).astype(int)\n",
        "R_stop  = np.array(list(shape)).astype(int)\n",
        "Z_start = (P-Rs//2)\n",
        "Z_stop  = (P+Rs//2)+Rs%2\n",
        "\n",
        "R_start = (R_start - np.minimum(Z_start,0)).tolist()\n",
        "Z_start = (np.maximum(Z_start,0)).tolist()\n",
        "R_stop = np.maximum(R_start, (R_stop - np.maximum(Z_stop-Zs,0))).tolist()\n",
        "Z_stop = (np.minimum(Z_stop,Zs)).tolist()\n",
        "\n",
        "r = [slice(start,stop) for start,stop in zip(R_start,R_stop)]\n",
        "z = [slice(start,stop) for start,stop in zip(Z_start,Z_stop)]\n",
        "R[r] = Z[z]\n",
        "print(Z)\n",
        "print(R)"
      ]
    },
    {
      "cell_type": "markdown",
      "metadata": {
        "id": "GIBp6S0tc30r"
      },
      "source": [
        "#### 81. Consider an array Z = \\[1,2,3,4,5,6,7,8,9,10,11,12,13,14\\], how to generate an array R = \\[\\[1,2,3,4\\], \\[2,3,4,5\\], \\[3,4,5,6\\], ..., \\[11,12,13,14\\]\\]? (★★★) \n",
        "(**hint**: stride\\_tricks.as\\_strided)"
      ]
    },
    {
      "cell_type": "code",
      "execution_count": 139,
      "metadata": {
        "id": "GvLUs0u6c30r",
        "colab": {
          "base_uri": "https://localhost:8080/"
        },
        "outputId": "0e0c2acd-6aa8-4eb5-f1cd-09029965af0a"
      },
      "outputs": [
        {
          "output_type": "stream",
          "name": "stdout",
          "text": [
            "[[ 1  2  3  4]\n",
            " [ 2  3  4  5]\n",
            " [ 3  4  5  6]\n",
            " [ 4  5  6  7]\n",
            " [ 5  6  7  8]\n",
            " [ 6  7  8  9]\n",
            " [ 7  8  9 10]\n",
            " [ 8  9 10 11]\n",
            " [ 9 10 11 12]\n",
            " [10 11 12 13]\n",
            " [11 12 13 14]]\n"
          ]
        }
      ],
      "source": [
        "Z = np.arange(1,15,dtype=np.uint32)\n",
        "R = stride_tricks.as_strided(Z,(11,4),(4,4))\n",
        "print(R)"
      ]
    },
    {
      "cell_type": "markdown",
      "metadata": {
        "id": "YztLpTHBc30r"
      },
      "source": [
        "#### 82. Compute a matrix rank (★★★) \n",
        "(**hint**: np.linalg.svd) (suggestion: np.linalg.svd)"
      ]
    },
    {
      "cell_type": "code",
      "execution_count": 140,
      "metadata": {
        "id": "BQvIg0ETc30r",
        "colab": {
          "base_uri": "https://localhost:8080/"
        },
        "outputId": "0b75bd2d-2097-476c-cac6-46bcf69ae791"
      },
      "outputs": [
        {
          "output_type": "stream",
          "name": "stdout",
          "text": [
            "10\n"
          ]
        }
      ],
      "source": [
        "Z = np.random.uniform(0,1,(10,10))\n",
        "U, S, V = np.linalg.svd(Z) # Singular Value Decomposition\n",
        "rank = np.sum(S > 1e-10)\n",
        "print(rank)"
      ]
    },
    {
      "cell_type": "markdown",
      "metadata": {
        "id": "TzQx2MOLc30r"
      },
      "source": [
        "#### 83. How to find the most frequent value in an array? \n",
        "(**hint**: np.bincount, argmax)"
      ]
    },
    {
      "cell_type": "code",
      "execution_count": 141,
      "metadata": {
        "id": "ZbDsVF8Bc30r",
        "colab": {
          "base_uri": "https://localhost:8080/"
        },
        "outputId": "344f9eca-343d-4ff8-b08f-218baa7a1d53"
      },
      "outputs": [
        {
          "output_type": "stream",
          "name": "stdout",
          "text": [
            "5\n"
          ]
        }
      ],
      "source": [
        "Z = np.random.randint(0,10,50)\n",
        "print(np.bincount(Z).argmax())"
      ]
    },
    {
      "cell_type": "markdown",
      "metadata": {
        "id": "hCBJw5icc30s"
      },
      "source": [
        "#### 84. Extract all the contiguous 3x3 blocks from a random 10x10 matrix (★★★) \n",
        "(**hint**: stride\\_tricks.as\\_strided)"
      ]
    },
    {
      "cell_type": "code",
      "execution_count": 142,
      "metadata": {
        "id": "sg_DhWdxc30s",
        "colab": {
          "base_uri": "https://localhost:8080/"
        },
        "outputId": "237e1680-02cd-4848-dcc7-1330350bedef"
      },
      "outputs": [
        {
          "output_type": "stream",
          "name": "stdout",
          "text": [
            "[[[[3 4 0]\n",
            "   [4 0 1]\n",
            "   [3 3 3]]\n",
            "\n",
            "  [[4 0 4]\n",
            "   [0 1 3]\n",
            "   [3 3 3]]\n",
            "\n",
            "  [[0 4 3]\n",
            "   [1 3 0]\n",
            "   [3 3 2]]\n",
            "\n",
            "  [[4 3 2]\n",
            "   [3 0 2]\n",
            "   [3 2 1]]\n",
            "\n",
            "  [[3 2 2]\n",
            "   [0 2 1]\n",
            "   [2 1 4]]\n",
            "\n",
            "  [[2 2 0]\n",
            "   [2 1 1]\n",
            "   [1 4 3]]\n",
            "\n",
            "  [[2 0 3]\n",
            "   [1 1 2]\n",
            "   [4 3 0]]\n",
            "\n",
            "  [[0 3 2]\n",
            "   [1 2 2]\n",
            "   [3 0 2]]]\n",
            "\n",
            "\n",
            " [[[4 0 1]\n",
            "   [3 3 3]\n",
            "   [3 2 3]]\n",
            "\n",
            "  [[0 1 3]\n",
            "   [3 3 3]\n",
            "   [2 3 4]]\n",
            "\n",
            "  [[1 3 0]\n",
            "   [3 3 2]\n",
            "   [3 4 1]]\n",
            "\n",
            "  [[3 0 2]\n",
            "   [3 2 1]\n",
            "   [4 1 4]]\n",
            "\n",
            "  [[0 2 1]\n",
            "   [2 1 4]\n",
            "   [1 4 0]]\n",
            "\n",
            "  [[2 1 1]\n",
            "   [1 4 3]\n",
            "   [4 0 3]]\n",
            "\n",
            "  [[1 1 2]\n",
            "   [4 3 0]\n",
            "   [0 3 3]]\n",
            "\n",
            "  [[1 2 2]\n",
            "   [3 0 2]\n",
            "   [3 3 2]]]\n",
            "\n",
            "\n",
            " [[[3 3 3]\n",
            "   [3 2 3]\n",
            "   [1 2 4]]\n",
            "\n",
            "  [[3 3 3]\n",
            "   [2 3 4]\n",
            "   [2 4 0]]\n",
            "\n",
            "  [[3 3 2]\n",
            "   [3 4 1]\n",
            "   [4 0 0]]\n",
            "\n",
            "  [[3 2 1]\n",
            "   [4 1 4]\n",
            "   [0 0 4]]\n",
            "\n",
            "  [[2 1 4]\n",
            "   [1 4 0]\n",
            "   [0 4 1]]\n",
            "\n",
            "  [[1 4 3]\n",
            "   [4 0 3]\n",
            "   [4 1 3]]\n",
            "\n",
            "  [[4 3 0]\n",
            "   [0 3 3]\n",
            "   [1 3 2]]\n",
            "\n",
            "  [[3 0 2]\n",
            "   [3 3 2]\n",
            "   [3 2 0]]]\n",
            "\n",
            "\n",
            " [[[3 2 3]\n",
            "   [1 2 4]\n",
            "   [4 1 0]]\n",
            "\n",
            "  [[2 3 4]\n",
            "   [2 4 0]\n",
            "   [1 0 1]]\n",
            "\n",
            "  [[3 4 1]\n",
            "   [4 0 0]\n",
            "   [0 1 2]]\n",
            "\n",
            "  [[4 1 4]\n",
            "   [0 0 4]\n",
            "   [1 2 2]]\n",
            "\n",
            "  [[1 4 0]\n",
            "   [0 4 1]\n",
            "   [2 2 2]]\n",
            "\n",
            "  [[4 0 3]\n",
            "   [4 1 3]\n",
            "   [2 2 2]]\n",
            "\n",
            "  [[0 3 3]\n",
            "   [1 3 2]\n",
            "   [2 2 0]]\n",
            "\n",
            "  [[3 3 2]\n",
            "   [3 2 0]\n",
            "   [2 0 4]]]\n",
            "\n",
            "\n",
            " [[[1 2 4]\n",
            "   [4 1 0]\n",
            "   [0 2 3]]\n",
            "\n",
            "  [[2 4 0]\n",
            "   [1 0 1]\n",
            "   [2 3 3]]\n",
            "\n",
            "  [[4 0 0]\n",
            "   [0 1 2]\n",
            "   [3 3 2]]\n",
            "\n",
            "  [[0 0 4]\n",
            "   [1 2 2]\n",
            "   [3 2 0]]\n",
            "\n",
            "  [[0 4 1]\n",
            "   [2 2 2]\n",
            "   [2 0 4]]\n",
            "\n",
            "  [[4 1 3]\n",
            "   [2 2 2]\n",
            "   [0 4 4]]\n",
            "\n",
            "  [[1 3 2]\n",
            "   [2 2 0]\n",
            "   [4 4 0]]\n",
            "\n",
            "  [[3 2 0]\n",
            "   [2 0 4]\n",
            "   [4 0 3]]]\n",
            "\n",
            "\n",
            " [[[4 1 0]\n",
            "   [0 2 3]\n",
            "   [3 0 1]]\n",
            "\n",
            "  [[1 0 1]\n",
            "   [2 3 3]\n",
            "   [0 1 4]]\n",
            "\n",
            "  [[0 1 2]\n",
            "   [3 3 2]\n",
            "   [1 4 1]]\n",
            "\n",
            "  [[1 2 2]\n",
            "   [3 2 0]\n",
            "   [4 1 0]]\n",
            "\n",
            "  [[2 2 2]\n",
            "   [2 0 4]\n",
            "   [1 0 4]]\n",
            "\n",
            "  [[2 2 2]\n",
            "   [0 4 4]\n",
            "   [0 4 3]]\n",
            "\n",
            "  [[2 2 0]\n",
            "   [4 4 0]\n",
            "   [4 3 0]]\n",
            "\n",
            "  [[2 0 4]\n",
            "   [4 0 3]\n",
            "   [3 0 1]]]\n",
            "\n",
            "\n",
            " [[[0 2 3]\n",
            "   [3 0 1]\n",
            "   [3 0 4]]\n",
            "\n",
            "  [[2 3 3]\n",
            "   [0 1 4]\n",
            "   [0 4 2]]\n",
            "\n",
            "  [[3 3 2]\n",
            "   [1 4 1]\n",
            "   [4 2 2]]\n",
            "\n",
            "  [[3 2 0]\n",
            "   [4 1 0]\n",
            "   [2 2 0]]\n",
            "\n",
            "  [[2 0 4]\n",
            "   [1 0 4]\n",
            "   [2 0 1]]\n",
            "\n",
            "  [[0 4 4]\n",
            "   [0 4 3]\n",
            "   [0 1 2]]\n",
            "\n",
            "  [[4 4 0]\n",
            "   [4 3 0]\n",
            "   [1 2 0]]\n",
            "\n",
            "  [[4 0 3]\n",
            "   [3 0 1]\n",
            "   [2 0 2]]]\n",
            "\n",
            "\n",
            " [[[3 0 1]\n",
            "   [3 0 4]\n",
            "   [4 1 2]]\n",
            "\n",
            "  [[0 1 4]\n",
            "   [0 4 2]\n",
            "   [1 2 2]]\n",
            "\n",
            "  [[1 4 1]\n",
            "   [4 2 2]\n",
            "   [2 2 3]]\n",
            "\n",
            "  [[4 1 0]\n",
            "   [2 2 0]\n",
            "   [2 3 1]]\n",
            "\n",
            "  [[1 0 4]\n",
            "   [2 0 1]\n",
            "   [3 1 0]]\n",
            "\n",
            "  [[0 4 3]\n",
            "   [0 1 2]\n",
            "   [1 0 4]]\n",
            "\n",
            "  [[4 3 0]\n",
            "   [1 2 0]\n",
            "   [0 4 2]]\n",
            "\n",
            "  [[3 0 1]\n",
            "   [2 0 2]\n",
            "   [4 2 2]]]]\n"
          ]
        }
      ],
      "source": [
        "Z = np.random.randint(0,5,(10,10))\n",
        "n = 3\n",
        "i = 1 + (Z.shape[0]-3)\n",
        "j = 1 + (Z.shape[1]-3)\n",
        "C = stride_tricks.as_strided(Z, shape=(i, j, n, n), strides=Z.strides + Z.strides)\n",
        "print(C)"
      ]
    },
    {
      "cell_type": "markdown",
      "metadata": {
        "id": "Pih-CR8Vc30s"
      },
      "source": [
        "#### 85. Create a 2D array subclass such that Z\\[i,j\\] == Z\\[j,i\\] (★★★) \n",
        "(**hint**: class method)"
      ]
    },
    {
      "cell_type": "code",
      "execution_count": 143,
      "metadata": {
        "id": "QmS6hSoMc30s",
        "colab": {
          "base_uri": "https://localhost:8080/"
        },
        "outputId": "19b7c783-7fde-45f1-ff07-03b74d753a4b"
      },
      "outputs": [
        {
          "output_type": "stream",
          "name": "stdout",
          "text": [
            "[[ 4  8  8  6  7]\n",
            " [ 8  0 15  2  2]\n",
            " [ 8 15  3 42 12]\n",
            " [ 6  2 42  8 12]\n",
            " [ 7  2 12 12  8]]\n"
          ]
        }
      ],
      "source": [
        "class Symetric(np.ndarray):\n",
        "    def __setitem__(self, index, value):\n",
        "        i,j = index\n",
        "        super(Symetric, self).__setitem__((i,j), value)\n",
        "        super(Symetric, self).__setitem__((j,i), value)\n",
        "\n",
        "def symetric(Z):\n",
        "    return np.asarray(Z + Z.T - np.diag(Z.diagonal())).view(Symetric)\n",
        "\n",
        "S = symetric(np.random.randint(0,10,(5,5)))\n",
        "S[2,3] = 42\n",
        "print(S)"
      ]
    },
    {
      "cell_type": "markdown",
      "metadata": {
        "id": "KR4-Iptlc30s"
      },
      "source": [
        "#### 86. Consider a set of p matrices wich shape (n,n) and a set of p vectors with shape (n,1). How to compute the sum of of the p matrix products at once? (result has shape (n,1)) (★★★) \n",
        "(**hint**: np.tensordot)"
      ]
    },
    {
      "cell_type": "code",
      "execution_count": 144,
      "metadata": {
        "id": "UBQtC-VXc30s",
        "colab": {
          "base_uri": "https://localhost:8080/"
        },
        "outputId": "d70d5cf9-8817-4e1e-d2e0-8b4db45489ac"
      },
      "outputs": [
        {
          "output_type": "stream",
          "name": "stdout",
          "text": [
            "[[200.]\n",
            " [200.]\n",
            " [200.]\n",
            " [200.]\n",
            " [200.]\n",
            " [200.]\n",
            " [200.]\n",
            " [200.]\n",
            " [200.]\n",
            " [200.]\n",
            " [200.]\n",
            " [200.]\n",
            " [200.]\n",
            " [200.]\n",
            " [200.]\n",
            " [200.]\n",
            " [200.]\n",
            " [200.]\n",
            " [200.]\n",
            " [200.]]\n"
          ]
        }
      ],
      "source": [
        "p, n = 10, 20\n",
        "M = np.ones((p,n,n))\n",
        "V = np.ones((p,n,1))\n",
        "S = np.tensordot(M, V, axes=[[0, 2], [0, 1]])\n",
        "print(S)"
      ]
    },
    {
      "cell_type": "markdown",
      "metadata": {
        "id": "c-mHqEqEc30s"
      },
      "source": [
        "#### 87. Consider a 16x16 array, how to get the block-sum (block size is 4x4)? (★★★) \n",
        "(**hint**: np.add.reduceat)"
      ]
    },
    {
      "cell_type": "code",
      "execution_count": 145,
      "metadata": {
        "id": "MWM7SsLCc30t",
        "colab": {
          "base_uri": "https://localhost:8080/"
        },
        "outputId": "59358d62-12fd-4c04-aa46-49336678e4c7"
      },
      "outputs": [
        {
          "output_type": "stream",
          "name": "stdout",
          "text": [
            "[[16. 16. 16. 16.]\n",
            " [16. 16. 16. 16.]\n",
            " [16. 16. 16. 16.]\n",
            " [16. 16. 16. 16.]]\n"
          ]
        }
      ],
      "source": [
        "Z = np.ones((16,16))\n",
        "k = 4\n",
        "S = np.add.reduceat(np.add.reduceat(Z, np.arange(0, Z.shape[0], k), axis=0),\n",
        "                                       np.arange(0, Z.shape[1], k), axis=1)\n",
        "print(S)"
      ]
    },
    {
      "cell_type": "markdown",
      "metadata": {
        "id": "M3-yReWec30t"
      },
      "source": [
        "#### 88. How to implement the Game of Life using numpy arrays? (★★★)"
      ]
    },
    {
      "cell_type": "code",
      "execution_count": 146,
      "metadata": {
        "id": "Ie2ldIcxc30t",
        "colab": {
          "base_uri": "https://localhost:8080/"
        },
        "outputId": "ea49e10c-12e7-4443-e392-f401e3a446c1"
      },
      "outputs": [
        {
          "output_type": "stream",
          "name": "stdout",
          "text": [
            "[[0 0 0 0 0 0 0 0 0 0 0 0 0 0 0 0 0 0 0 0 0 0 0 0 0 0 0 0 0 0 0 0 0 0 0 0\n",
            "  0 0 0 0 0 0 0 0 0 0 0 0 0 0]\n",
            " [0 0 0 0 0 0 0 0 0 0 0 0 0 0 0 0 0 0 0 0 0 0 0 0 0 0 1 1 1 0 0 0 0 0 0 0\n",
            "  0 0 0 0 0 0 0 0 0 0 0 0 0 0]\n",
            " [0 0 0 0 0 0 0 0 0 0 0 0 0 0 0 0 0 0 0 0 0 0 0 1 0 0 0 0 0 1 0 0 0 0 0 0\n",
            "  0 0 0 0 0 0 0 0 0 0 0 0 0 0]\n",
            " [0 0 0 0 0 0 1 1 0 0 0 0 0 0 0 0 0 0 0 0 0 0 1 0 0 1 0 0 1 1 0 0 0 0 0 0\n",
            "  0 0 0 0 0 0 0 0 0 0 0 0 0 0]\n",
            " [0 0 0 0 0 0 1 1 0 0 0 0 0 0 0 0 0 0 0 0 0 0 0 1 0 1 0 0 0 0 0 0 0 0 0 0\n",
            "  0 0 0 0 0 0 0 0 0 0 0 0 0 0]\n",
            " [0 0 0 0 0 0 0 0 0 0 0 0 0 0 0 0 0 0 0 0 0 0 0 0 1 0 0 0 0 0 0 0 0 0 0 0\n",
            "  0 0 0 0 0 0 0 0 0 0 0 0 0 0]\n",
            " [0 0 0 0 0 0 0 0 0 0 1 1 0 0 0 0 0 0 0 0 0 0 0 0 0 0 0 0 0 0 0 0 0 0 0 0\n",
            "  0 0 0 0 0 0 0 0 0 0 0 0 0 0]\n",
            " [0 0 0 0 0 0 0 0 0 1 0 0 1 0 0 0 0 0 0 0 0 0 0 0 0 0 0 0 0 0 0 0 0 0 0 0\n",
            "  0 0 0 0 0 0 0 0 0 0 0 0 0 0]\n",
            " [0 0 0 0 0 0 0 0 0 0 1 1 0 0 0 0 0 1 1 0 0 0 0 0 0 0 0 0 0 0 0 0 0 0 0 0\n",
            "  0 0 0 0 0 0 0 0 0 0 0 0 0 0]\n",
            " [0 0 0 0 0 0 0 0 0 0 0 0 0 0 0 0 0 0 0 0 1 1 0 0 0 0 0 0 0 0 0 0 1 1 0 0\n",
            "  0 0 0 0 0 0 0 0 0 0 0 0 0 0]\n",
            " [0 0 0 0 0 0 0 0 0 0 0 0 0 0 0 0 1 0 0 0 0 0 0 0 0 0 0 0 0 0 0 1 1 1 0 0\n",
            "  0 0 0 0 0 0 0 0 0 0 0 0 0 0]\n",
            " [0 0 0 0 0 0 0 0 0 0 0 0 0 0 0 1 1 0 0 0 0 0 1 0 0 0 0 0 0 1 1 1 0 0 0 0\n",
            "  0 0 0 0 0 0 0 0 0 0 0 0 0 0]\n",
            " [0 0 0 0 0 0 0 0 0 0 0 0 0 0 0 0 1 0 0 0 0 0 1 0 0 0 0 1 1 0 1 0 0 0 0 0\n",
            "  0 0 0 0 0 0 0 0 0 0 0 0 0 0]\n",
            " [0 0 0 0 0 0 0 0 0 0 0 0 0 0 0 0 0 1 1 0 0 0 1 0 0 0 0 0 0 0 0 0 0 0 0 0\n",
            "  0 0 0 0 0 0 0 0 0 0 0 0 0 0]\n",
            " [0 0 0 0 0 0 0 0 0 0 0 0 0 0 0 0 0 0 0 1 0 0 0 0 0 0 0 1 0 1 0 0 0 0 0 0\n",
            "  0 0 0 0 0 0 0 0 0 0 0 0 0 0]\n",
            " [0 0 0 0 0 0 0 0 0 1 1 0 0 0 0 0 0 0 0 1 1 1 0 0 0 0 0 1 0 0 0 0 0 0 0 0\n",
            "  0 0 0 0 0 0 0 0 0 0 0 0 0 0]\n",
            " [0 0 0 0 0 0 0 0 0 1 1 0 0 0 0 0 0 1 1 1 0 0 0 0 0 0 0 0 1 0 0 0 0 0 0 0\n",
            "  0 0 0 0 0 0 0 0 0 0 0 0 0 0]\n",
            " [0 0 0 0 0 0 0 0 0 0 0 0 0 0 0 0 0 1 1 0 0 0 0 0 0 0 0 1 0 0 1 0 0 0 0 0\n",
            "  0 0 0 0 0 0 0 0 0 0 0 0 0 0]\n",
            " [0 0 0 0 0 0 0 0 0 0 0 0 0 0 0 0 0 0 0 0 0 0 0 0 0 0 0 0 1 0 1 0 0 0 0 1\n",
            "  1 0 0 0 0 0 0 0 0 0 0 0 0 0]\n",
            " [0 0 0 0 0 0 0 0 0 0 0 0 0 0 0 0 0 0 0 0 0 0 0 0 0 0 0 0 1 0 1 1 0 0 1 1\n",
            "  0 1 1 0 0 0 0 0 0 0 0 0 0 0]\n",
            " [0 0 0 0 0 0 0 0 0 0 0 0 0 1 1 0 0 0 0 0 0 0 0 1 1 0 0 0 0 0 1 0 0 1 1 0\n",
            "  1 1 1 0 0 0 0 0 0 1 1 1 0 0]\n",
            " [0 0 0 0 0 0 0 0 0 0 0 1 0 0 1 0 0 0 0 0 0 0 0 1 0 0 0 0 1 0 1 1 1 1 0 0\n",
            "  0 0 1 1 0 0 0 0 0 0 0 0 0 0]\n",
            " [0 0 0 0 0 0 0 0 0 0 1 0 0 0 0 0 0 0 0 0 0 0 0 0 1 0 0 1 1 1 1 0 0 0 0 0\n",
            "  0 1 1 1 0 0 0 0 0 0 0 0 0 0]\n",
            " [0 0 0 0 0 0 0 0 0 0 1 0 1 0 0 0 0 0 0 0 0 0 0 0 0 0 1 0 1 0 0 0 0 0 0 0\n",
            "  0 1 1 0 0 0 0 0 0 0 0 0 0 0]\n",
            " [0 0 0 0 0 0 0 0 0 0 0 0 0 0 0 0 0 0 0 0 0 0 0 0 0 0 0 0 1 0 0 0 0 0 0 0\n",
            "  1 1 0 0 0 0 0 0 0 0 0 0 0 0]\n",
            " [0 0 0 0 0 0 0 0 0 0 0 0 0 0 0 0 0 0 0 0 0 0 1 1 1 0 0 0 0 0 0 0 0 0 0 0\n",
            "  1 0 0 0 0 0 0 0 0 0 0 0 0 0]\n",
            " [0 0 0 0 0 0 0 0 0 0 0 0 0 0 0 0 0 0 0 0 1 1 1 0 1 1 0 0 0 0 0 0 0 0 0 0\n",
            "  0 0 0 0 0 0 0 0 0 0 0 0 0 0]\n",
            " [0 0 0 0 0 0 0 0 0 0 0 0 0 0 0 0 0 0 1 1 1 0 1 0 0 0 0 0 0 0 0 0 0 0 0 0\n",
            "  0 0 0 0 0 0 0 0 0 0 0 0 0 0]\n",
            " [0 0 0 0 0 0 0 0 0 0 0 0 0 0 0 0 0 0 0 1 1 0 0 0 1 1 0 0 0 0 1 1 1 0 0 0\n",
            "  0 0 0 0 0 0 0 0 0 0 0 0 0 0]\n",
            " [0 0 0 0 0 0 0 0 0 0 0 0 0 0 0 0 0 0 0 0 1 1 0 1 1 1 0 0 0 0 1 0 0 1 0 0\n",
            "  0 0 0 0 0 0 0 0 0 0 0 0 0 0]\n",
            " [0 0 0 0 0 0 0 0 0 0 0 0 0 0 0 0 0 0 0 0 0 1 0 0 0 0 0 0 0 0 1 0 0 1 0 0\n",
            "  0 0 0 0 0 0 0 0 0 0 0 0 0 0]\n",
            " [0 0 0 0 0 1 1 0 0 0 0 0 0 0 0 0 0 0 0 0 0 0 0 0 0 0 0 0 0 0 0 1 0 1 0 0\n",
            "  0 0 0 0 0 0 0 1 1 0 0 0 0 0]\n",
            " [0 0 0 0 0 1 1 0 0 0 0 0 0 0 0 0 0 0 0 0 0 0 0 0 0 0 0 0 0 0 0 1 1 1 1 0\n",
            "  0 0 1 0 0 0 0 1 1 0 0 0 0 0]\n",
            " [0 0 0 0 0 0 0 0 0 0 0 0 0 0 0 0 0 0 0 0 0 0 0 0 0 0 0 0 1 1 1 0 0 1 0 0\n",
            "  0 0 1 1 0 0 0 0 0 0 0 0 0 0]\n",
            " [0 0 0 0 0 0 0 0 0 0 0 0 0 0 0 0 0 0 0 0 0 0 0 0 0 0 0 0 1 1 1 0 0 1 1 1\n",
            "  1 0 0 0 1 0 0 0 0 0 0 0 0 0]\n",
            " [0 0 1 1 0 0 0 0 0 0 0 0 0 0 0 0 0 0 0 0 0 0 0 0 0 0 0 0 0 0 0 0 0 0 0 0\n",
            "  0 0 1 1 0 0 0 0 0 0 0 0 0 0]\n",
            " [0 0 1 1 0 0 0 0 0 0 0 0 0 0 0 0 1 0 0 1 0 0 0 0 0 0 0 0 0 0 0 0 0 0 0 0\n",
            "  0 0 1 0 0 0 0 0 0 0 0 0 0 0]\n",
            " [0 0 0 0 0 0 0 0 0 0 0 0 0 0 0 0 1 1 1 1 0 0 0 0 0 0 0 0 0 0 0 0 0 0 0 0\n",
            "  0 0 0 0 0 0 0 0 0 0 0 0 0 0]\n",
            " [0 0 0 0 0 0 0 0 0 0 0 0 0 0 0 0 1 0 0 1 0 0 0 0 0 0 0 0 0 0 0 0 0 0 0 0\n",
            "  0 0 0 0 0 0 0 0 0 0 0 0 0 0]\n",
            " [0 0 0 0 0 0 0 0 0 0 0 0 0 0 0 0 0 0 0 0 0 0 0 0 0 0 0 0 0 0 0 0 0 0 0 0\n",
            "  0 0 0 0 0 0 0 0 0 0 0 0 0 0]\n",
            " [0 0 0 0 0 0 0 0 0 0 0 1 1 0 0 0 0 0 0 0 0 0 0 0 0 0 0 0 0 0 0 0 0 0 0 0\n",
            "  0 0 0 0 0 0 0 0 0 0 0 0 0 0]\n",
            " [0 0 0 0 0 0 0 0 0 0 0 1 1 0 0 0 0 0 0 0 0 0 0 0 0 0 0 0 0 0 0 0 0 0 0 0\n",
            "  0 0 0 0 0 0 0 0 0 0 0 0 0 0]\n",
            " [0 0 0 0 0 0 0 0 0 0 0 0 0 0 0 0 0 0 0 0 0 0 0 0 0 0 0 0 0 0 0 0 0 0 0 0\n",
            "  0 0 0 0 0 0 0 0 0 0 0 0 0 0]\n",
            " [0 0 0 0 0 0 0 0 0 0 0 0 0 0 0 0 0 0 0 0 0 0 0 0 0 0 0 0 0 0 0 0 0 0 0 0\n",
            "  0 0 0 0 0 0 0 0 0 0 0 0 0 0]\n",
            " [0 0 0 0 0 0 0 0 0 0 0 0 0 0 0 0 0 0 0 0 0 0 0 0 0 0 0 0 0 0 0 0 0 0 0 0\n",
            "  0 0 0 0 0 0 0 0 0 0 0 0 0 0]\n",
            " [0 0 0 0 0 0 0 0 0 0 0 0 0 0 0 0 0 0 0 0 0 0 0 0 0 0 0 0 0 0 1 0 0 0 0 0\n",
            "  0 0 1 1 0 0 0 0 0 0 0 0 0 0]\n",
            " [0 0 0 0 0 0 0 0 0 0 0 0 0 0 0 0 0 0 0 0 0 0 0 0 0 0 0 0 0 0 1 0 0 0 0 0\n",
            "  0 1 0 1 0 0 0 0 0 0 0 0 0 0]\n",
            " [0 0 0 0 0 0 0 0 0 0 0 0 0 0 0 0 0 0 0 0 0 0 0 0 0 0 0 0 0 0 1 0 0 0 0 0\n",
            "  0 0 1 0 0 0 0 0 0 0 0 0 0 0]\n",
            " [0 0 0 0 0 0 0 0 0 0 0 0 0 0 0 0 0 0 0 0 0 0 0 0 0 0 0 0 0 0 0 0 0 0 0 0\n",
            "  0 0 0 0 0 0 0 0 0 0 0 0 0 0]\n",
            " [0 0 0 0 0 0 0 0 0 0 0 0 0 0 0 0 0 0 0 0 0 0 0 0 0 0 0 0 0 0 0 0 0 0 0 0\n",
            "  0 0 0 0 0 0 0 0 0 0 0 0 0 0]]\n"
          ]
        }
      ],
      "source": [
        "def iterate(Z):\n",
        "    # Count neighbours\n",
        "    N = (Z[0:-2,0:-2] + Z[0:-2,1:-1] + Z[0:-2,2:] +\n",
        "         Z[1:-1,0:-2]                + Z[1:-1,2:] +\n",
        "         Z[2:  ,0:-2] + Z[2:  ,1:-1] + Z[2:  ,2:])\n",
        "\n",
        "    # Apply rules\n",
        "    birth = (N==3) & (Z[1:-1,1:-1]==0)\n",
        "    survive = ((N==2) | (N==3)) & (Z[1:-1,1:-1]==1)\n",
        "    Z[...] = 0\n",
        "    Z[1:-1,1:-1][birth | survive] = 1\n",
        "    return Z\n",
        "\n",
        "Z = np.random.randint(0,2,(50,50))\n",
        "for i in range(100): Z = iterate(Z)\n",
        "print(Z)"
      ]
    },
    {
      "cell_type": "markdown",
      "metadata": {
        "id": "mrTOjPCSc30t"
      },
      "source": [
        "#### 89. How to get the n largest values of an array (★★★) \n",
        "(**hint**: np.argsort | np.argpartition)"
      ]
    },
    {
      "cell_type": "code",
      "execution_count": 147,
      "metadata": {
        "id": "EsfGYQEBc30t",
        "colab": {
          "base_uri": "https://localhost:8080/"
        },
        "outputId": "c1759cc1-052b-4d73-9fe4-5c6114230b0c"
      },
      "outputs": [
        {
          "output_type": "stream",
          "name": "stdout",
          "text": [
            "[9995 9996 9997 9998 9999]\n",
            "[9999 9998 9997 9996 9995]\n"
          ]
        }
      ],
      "source": [
        "Z = np.arange(10000)\n",
        "np.random.shuffle(Z)\n",
        "n = 5\n",
        "\n",
        "# Slow\n",
        "print (Z[np.argsort(Z)[-n:]])\n",
        "\n",
        "# Fast\n",
        "print (Z[np.argpartition(-Z,n)[:n]])"
      ]
    },
    {
      "cell_type": "markdown",
      "metadata": {
        "id": "pDHnmabwc30t"
      },
      "source": [
        "#### 90. Given an arbitrary number of vectors, build the cartesian product (every combinations of every item) (★★★) \n",
        "(**hint**: np.indices)"
      ]
    },
    {
      "cell_type": "code",
      "execution_count": 148,
      "metadata": {
        "scrolled": true,
        "id": "kn6l-Nt9c30t",
        "colab": {
          "base_uri": "https://localhost:8080/"
        },
        "outputId": "6c15e501-45b0-4135-c199-d9610583ea32"
      },
      "outputs": [
        {
          "output_type": "stream",
          "name": "stdout",
          "text": [
            "[[1 4 6]\n",
            " [1 4 7]\n",
            " [1 5 6]\n",
            " [1 5 7]\n",
            " [2 4 6]\n",
            " [2 4 7]\n",
            " [2 5 6]\n",
            " [2 5 7]\n",
            " [3 4 6]\n",
            " [3 4 7]\n",
            " [3 5 6]\n",
            " [3 5 7]]\n"
          ]
        }
      ],
      "source": [
        "def cartesian(arrays):\n",
        "    arrays = [np.asarray(a) for a in arrays]\n",
        "    shape = (len(x) for x in arrays)\n",
        "\n",
        "    ix = np.indices(shape, dtype=int)\n",
        "    ix = ix.reshape(len(arrays), -1).T\n",
        "\n",
        "    for n, arr in enumerate(arrays):\n",
        "        ix[:, n] = arrays[n][ix[:, n]]\n",
        "\n",
        "    return ix\n",
        "\n",
        "print (cartesian(([1, 2, 3], [4, 5], [6, 7])))"
      ]
    },
    {
      "cell_type": "markdown",
      "metadata": {
        "id": "8OnQ5Tm1c30u"
      },
      "source": [
        "#### 91. How to create a record array from a regular array? (★★★) \n",
        "(**hint**: np.core.records.fromarrays)"
      ]
    },
    {
      "cell_type": "code",
      "execution_count": 149,
      "metadata": {
        "id": "DYSo2Cp-c30u",
        "colab": {
          "base_uri": "https://localhost:8080/"
        },
        "outputId": "f2780dfa-9dba-498c-afd3-93cd64d4f2d1"
      },
      "outputs": [
        {
          "output_type": "stream",
          "name": "stdout",
          "text": [
            "[(b'Hello', 2.5, 3) (b'World', 3.6, 2)]\n"
          ]
        }
      ],
      "source": [
        "Z = np.array([(\"Hello\", 2.5, 3),\n",
        "              (\"World\", 3.6, 2)])\n",
        "R = np.core.records.fromarrays(Z.T,\n",
        "                               names='col1, col2, col3',\n",
        "                               formats = 'S8, f8, i8')\n",
        "print(R)"
      ]
    },
    {
      "cell_type": "markdown",
      "metadata": {
        "id": "I4RScu09c30u"
      },
      "source": [
        "#### 92. Consider a large vector Z, compute Z to the power of 3 using 3 different methods (★★★) \n",
        "(**hint**: np.power, \\*, np.einsum)"
      ]
    },
    {
      "cell_type": "code",
      "execution_count": 150,
      "metadata": {
        "id": "PQ12s9kNc30u",
        "colab": {
          "base_uri": "https://localhost:8080/"
        },
        "outputId": "c9a03e1d-9dc1-4995-f725-3181b3e964dd"
      },
      "outputs": [
        {
          "output_type": "stream",
          "name": "stdout",
          "text": [
            "3.77 s ± 18 ms per loop (mean ± std. dev. of 7 runs, 1 loop each)\n",
            "138 ms ± 859 µs per loop (mean ± std. dev. of 7 runs, 10 loops each)\n",
            "115 ms ± 856 µs per loop (mean ± std. dev. of 7 runs, 10 loops each)\n"
          ]
        }
      ],
      "source": [
        "x = np.random.rand(int(5e7))\n",
        "\n",
        "%timeit np.power(x,3)\n",
        "%timeit x*x*x\n",
        "%timeit np.einsum('i,i,i->i',x,x,x)"
      ]
    },
    {
      "cell_type": "markdown",
      "metadata": {
        "id": "2q4xLfBbc30u"
      },
      "source": [
        "#### 93. Consider two arrays A and B of shape (8,3) and (2,2). How to find rows of A that contain elements of each row of B regardless of the order of the elements in B? (★★★) \n",
        "(**hint**: np.where)"
      ]
    },
    {
      "cell_type": "code",
      "execution_count": 151,
      "metadata": {
        "id": "J4ZSSGEoc30u",
        "colab": {
          "base_uri": "https://localhost:8080/"
        },
        "outputId": "6cc9d76d-ecb3-4c8d-9c1f-7d25311d2bc2"
      },
      "outputs": [
        {
          "output_type": "stream",
          "name": "stdout",
          "text": [
            "[3]\n"
          ]
        }
      ],
      "source": [
        "A = np.random.randint(0,5,(8,3))\n",
        "B = np.random.randint(0,5,(2,2))\n",
        "\n",
        "C = (A[..., np.newaxis, np.newaxis] == B)\n",
        "rows = np.where(C.any((3,1)).all(1))[0]\n",
        "print(rows)"
      ]
    },
    {
      "cell_type": "markdown",
      "metadata": {
        "id": "TVLGFYtbc30u"
      },
      "source": [
        "#### 94. Considering a 10x3 matrix, extract rows with unequal values (e.g. \\[2,2,3\\]) (★★★)"
      ]
    },
    {
      "cell_type": "code",
      "execution_count": 152,
      "metadata": {
        "id": "Z4PJDKGTc30u",
        "colab": {
          "base_uri": "https://localhost:8080/"
        },
        "outputId": "4efcbd91-53fe-4398-d8df-e9ea44c8d6d0"
      },
      "outputs": [
        {
          "output_type": "stream",
          "name": "stdout",
          "text": [
            "[[2 2 0]\n",
            " [2 2 2]\n",
            " [0 1 1]\n",
            " [3 4 4]\n",
            " [4 1 4]\n",
            " [2 1 1]\n",
            " [1 4 0]\n",
            " [1 2 4]\n",
            " [0 1 2]\n",
            " [2 2 3]]\n",
            "[[2 2 0]\n",
            " [0 1 1]\n",
            " [3 4 4]\n",
            " [4 1 4]\n",
            " [2 1 1]\n",
            " [1 4 0]\n",
            " [1 2 4]\n",
            " [0 1 2]\n",
            " [2 2 3]]\n",
            "[[2 2 0]\n",
            " [0 1 1]\n",
            " [3 4 4]\n",
            " [4 1 4]\n",
            " [2 1 1]\n",
            " [1 4 0]\n",
            " [1 2 4]\n",
            " [0 1 2]\n",
            " [2 2 3]]\n"
          ]
        }
      ],
      "source": [
        "Z = np.random.randint(0,5,(10,3))\n",
        "print(Z)\n",
        "# solution for arrays of all dtypes (including string arrays and record arrays)\n",
        "E = np.all(Z[:,1:] == Z[:,:-1], axis=1)\n",
        "U = Z[~E]\n",
        "print(U)\n",
        "# soluiton for numerical arrays only, will work for any number of columns in Z\n",
        "U = Z[Z.max(axis=1) != Z.min(axis=1),:]\n",
        "print(U)"
      ]
    },
    {
      "cell_type": "markdown",
      "metadata": {
        "id": "F2d1uJ6ic30u"
      },
      "source": [
        "#### 95. Convert a vector of ints into a matrix binary representation (★★★) \n",
        "(**hint**: np.unpackbits)"
      ]
    },
    {
      "cell_type": "code",
      "execution_count": 153,
      "metadata": {
        "id": "JiSsxDzsc30v",
        "colab": {
          "base_uri": "https://localhost:8080/"
        },
        "outputId": "e4935411-ed05-44ac-b19d-07da4d4ace3c"
      },
      "outputs": [
        {
          "output_type": "stream",
          "name": "stdout",
          "text": [
            "[[0 0 0 0 0 0 0 0]\n",
            " [0 0 0 0 0 0 0 1]\n",
            " [0 0 0 0 0 0 1 0]\n",
            " [0 0 0 0 0 0 1 1]\n",
            " [0 0 0 0 1 1 1 1]\n",
            " [0 0 0 1 0 0 0 0]\n",
            " [0 0 1 0 0 0 0 0]\n",
            " [0 1 0 0 0 0 0 0]\n",
            " [1 0 0 0 0 0 0 0]]\n",
            "[[0 0 0 0 0 0 0 0]\n",
            " [0 0 0 0 0 0 0 1]\n",
            " [0 0 0 0 0 0 1 0]\n",
            " [0 0 0 0 0 0 1 1]\n",
            " [0 0 0 0 1 1 1 1]\n",
            " [0 0 0 1 0 0 0 0]\n",
            " [0 0 1 0 0 0 0 0]\n",
            " [0 1 0 0 0 0 0 0]\n",
            " [1 0 0 0 0 0 0 0]]\n"
          ]
        }
      ],
      "source": [
        "I = np.array([0, 1, 2, 3, 15, 16, 32, 64, 128])\n",
        "B = ((I.reshape(-1,1) & (2**np.arange(8))) != 0).astype(int)\n",
        "print(B[:,::-1])\n",
        "I = np.array([0, 1, 2, 3, 15, 16, 32, 64, 128], dtype=np.uint8)\n",
        "print(np.unpackbits(I[:, np.newaxis], axis=1))"
      ]
    },
    {
      "cell_type": "markdown",
      "metadata": {
        "id": "Tgxgi65Wc30v"
      },
      "source": [
        "#### 96. Given a two dimensional array, how to extract unique rows? (★★★) \n",
        "(**hint**: np.ascontiguousarray)"
      ]
    },
    {
      "cell_type": "code",
      "execution_count": 154,
      "metadata": {
        "id": "eNcL2pIKc30w",
        "colab": {
          "base_uri": "https://localhost:8080/"
        },
        "outputId": "0d427da7-b04c-4006-c5d6-6e8da6057651"
      },
      "outputs": [
        {
          "output_type": "stream",
          "name": "stdout",
          "text": [
            "[[0 0 0]\n",
            " [0 1 0]\n",
            " [1 0 0]\n",
            " [1 1 0]\n",
            " [1 1 1]]\n"
          ]
        }
      ],
      "source": [
        "Z = np.random.randint(0,2,(6,3))\n",
        "T = np.ascontiguousarray(Z).view(np.dtype((np.void, Z.dtype.itemsize * Z.shape[1])))\n",
        "_, idx = np.unique(T, return_index=True)\n",
        "uZ = Z[idx]\n",
        "print(uZ)"
      ]
    },
    {
      "cell_type": "markdown",
      "metadata": {
        "id": "bDe-Cm42c30w"
      },
      "source": [
        "#### 97. Considering 2 vectors A & B, write the einsum equivalent of inner, outer, sum, and mul function (★★★) \n",
        "(**hint**: np.einsum)"
      ]
    },
    {
      "cell_type": "code",
      "execution_count": 155,
      "metadata": {
        "id": "heVArLWKc30w",
        "colab": {
          "base_uri": "https://localhost:8080/"
        },
        "outputId": "1c4adbd6-090d-4266-b826-8160320fa52f"
      },
      "outputs": [
        {
          "output_type": "execute_result",
          "data": {
            "text/plain": [
              "array([[0.3069736 , 0.33299576, 0.40824092, 0.23191914, 0.36380291,\n",
              "        0.33099857, 0.44346741, 0.26644179, 0.42309735, 0.30065029],\n",
              "       [0.34209851, 0.37109821, 0.45495316, 0.25845607, 0.40543041,\n",
              "        0.36887249, 0.49421037, 0.29692892, 0.47150951, 0.33505166],\n",
              "       [0.00823848, 0.00893686, 0.01095627, 0.00622419, 0.00976365,\n",
              "        0.00888326, 0.01190167, 0.0071507 , 0.01135498, 0.00806878],\n",
              "       [0.39206438, 0.42529969, 0.52140224, 0.29620539, 0.46464635,\n",
              "        0.42274889, 0.56639325, 0.34029746, 0.54037676, 0.38398829],\n",
              "       [0.31919149, 0.34624936, 0.42448936, 0.24114978, 0.37828267,\n",
              "        0.34417268, 0.4611179 , 0.27704647, 0.43993709, 0.3126165 ],\n",
              "       [0.55222385, 0.59903589, 0.73439662, 0.41720617, 0.65445578,\n",
              "        0.59544308, 0.79776659, 0.47930999, 0.76112228, 0.54084866],\n",
              "       [0.52971428, 0.57461817, 0.70446137, 0.40020014, 0.62777905,\n",
              "        0.57117182, 0.76524827, 0.4597725 , 0.73009765, 0.51880275],\n",
              "       [0.01830578, 0.01985756, 0.02434466, 0.01383005, 0.02169469,\n",
              "        0.01973846, 0.02644532, 0.01588874, 0.0252306 , 0.0179287 ],\n",
              "       [0.24629906, 0.26717784, 0.3275505 , 0.18607941, 0.29189584,\n",
              "        0.2655754 , 0.35581434, 0.21377853, 0.3394705 , 0.24122558],\n",
              "       [0.42267251, 0.45850247, 0.56210767, 0.31932989, 0.50092089,\n",
              "        0.45575254, 0.61061108, 0.36686419, 0.58256351, 0.41396593]])"
            ]
          },
          "metadata": {},
          "execution_count": 155
        }
      ],
      "source": [
        "A = np.random.uniform(0,1,10)\n",
        "B = np.random.uniform(0,1,10)\n",
        "\n",
        "np.einsum('i->', A)       # np.sum(A)\n",
        "np.einsum('i,i->i', A, B) # A * B\n",
        "np.einsum('i,i', A, B)    # np.inner(A, B)\n",
        "np.einsum('i,j->ij', A, B)    # np.outer(A, B)"
      ]
    },
    {
      "cell_type": "markdown",
      "metadata": {
        "id": "ivW11ZREc30w"
      },
      "source": [
        "#### 98. Considering a path described by two vectors (X,Y), how to sample it using equidistant samples (★★★)? \n",
        "(**hint**: np.cumsum, np.interp)"
      ]
    },
    {
      "cell_type": "code",
      "execution_count": 156,
      "metadata": {
        "collapsed": true,
        "id": "t2WXyg_4c30w"
      },
      "outputs": [],
      "source": [
        "phi = np.arange(0, 10*np.pi, 0.1)\n",
        "a = 1\n",
        "x = a*phi*np.cos(phi)\n",
        "y = a*phi*np.sin(phi)\n",
        "\n",
        "dr = (np.diff(x)**2 + np.diff(y)**2)**.5 # segment lengths\n",
        "r = np.zeros_like(x)\n",
        "r[1:] = np.cumsum(dr)                # integrate path\n",
        "r_int = np.linspace(0, r.max(), 200) # regular spaced path\n",
        "x_int = np.interp(r_int, r, x)       # integrate path\n",
        "y_int = np.interp(r_int, r, y)"
      ]
    },
    {
      "cell_type": "markdown",
      "metadata": {
        "id": "In348RxQc30x"
      },
      "source": [
        "#### 99. Given an integer n and a 2D array X, select from X the rows which can be interpreted as draws from a multinomial distribution with n degrees, i.e., the rows which only contain integers and which sum to n. (★★★) \n",
        "(**hint**: np.logical\\_and.reduce, np.mod)"
      ]
    },
    {
      "cell_type": "code",
      "execution_count": 157,
      "metadata": {
        "id": "-SpQ5vg8c30x",
        "colab": {
          "base_uri": "https://localhost:8080/"
        },
        "outputId": "31290ca9-fdc6-40de-8faf-4c16ede692ee"
      },
      "outputs": [
        {
          "output_type": "stream",
          "name": "stdout",
          "text": [
            "[[2. 0. 1. 1.]]\n"
          ]
        }
      ],
      "source": [
        "X = np.asarray([[1.0, 0.0, 3.0, 8.0],\n",
        "                [2.0, 0.0, 1.0, 1.0],\n",
        "                [1.5, 2.5, 1.0, 0.0]])\n",
        "n = 4\n",
        "M = np.logical_and.reduce(np.mod(X, 1) == 0, axis=-1)\n",
        "M &= (X.sum(axis=-1) == n)\n",
        "print(X[M])"
      ]
    },
    {
      "cell_type": "markdown",
      "metadata": {
        "id": "flgMCMeEc30x"
      },
      "source": [
        "#### 100. Compute bootstrapped 95% confidence intervals for the mean of a 1D array X (i.e., resample the elements of an array with replacement N times, compute the mean of each sample, and then compute percentiles over the means). (★★★) \n",
        "(**hint**: np.percentile)"
      ]
    },
    {
      "cell_type": "code",
      "execution_count": 158,
      "metadata": {
        "id": "VO_XZd6Vc30x",
        "colab": {
          "base_uri": "https://localhost:8080/"
        },
        "outputId": "dba1faf8-a663-45fa-a29c-4cf702f39810"
      },
      "outputs": [
        {
          "output_type": "stream",
          "name": "stdout",
          "text": [
            "[-0.27728065  0.08957908]\n"
          ]
        }
      ],
      "source": [
        "X = np.random.randn(100) # random 1D array\n",
        "N = 1000 # number of bootstrap samples\n",
        "idx = np.random.randint(0, X.size, (N, X.size))\n",
        "means = X[idx].mean(axis=1)\n",
        "confint = np.percentile(means, [2.5, 97.5])\n",
        "print(confint)"
      ]
    }
  ],
  "metadata": {
    "kernelspec": {
      "display_name": "Python 3",
      "language": "python",
      "name": "python3"
    },
    "language_info": {
      "codemirror_mode": {
        "name": "ipython",
        "version": 3
      },
      "file_extension": ".py",
      "mimetype": "text/x-python",
      "name": "python",
      "nbconvert_exporter": "python",
      "pygments_lexer": "ipython3",
      "version": "3.8.3"
    },
    "colab": {
      "provenance": [],
      "collapsed_sections": []
    }
  },
  "nbformat": 4,
  "nbformat_minor": 0
}